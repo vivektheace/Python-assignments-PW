{
 "cells": [
  {
   "cell_type": "markdown",
   "id": "097982d8-52f2-4f8d-95c5-e87101e5a89f",
   "metadata": {},
   "source": [
    "Q1.who developed the python programming language ? \n"
   ]
  },
  {
   "cell_type": "markdown",
   "id": "916582d4-5d00-46ef-96d9-5075742107a3",
   "metadata": {},
   "source": [
    "Ans. The Python programming language was created by Guido van Rossum in 1991"
   ]
  },
  {
   "cell_type": "markdown",
   "id": "ed510007-3ef3-47c5-b131-02b0fc3f1afd",
   "metadata": {},
   "source": [
    "Q2. which type of programming does python support ?"
   ]
  },
  {
   "cell_type": "markdown",
   "id": "448ec1c4-7f44-4dc7-9e0a-2d13fe92089e",
   "metadata": {},
   "source": [
    "Python is a versatile programming language that supports various programming paradigms, making it suitable for a wide range of applications.\n",
    "some of examples are imperative programming , OOPS,procedural programming ,functional programming ,scripting , dynamic typing , meta programming ,etc.."
   ]
  },
  {
   "cell_type": "markdown",
   "id": "5c48ad2a-cd49-48d9-939d-0cc415208f01",
   "metadata": {},
   "source": [
    "Q3. is python case-sensitive when dealing with identifiers ?"
   ]
  },
  {
   "cell_type": "markdown",
   "id": "611d2262-a07f-42a6-911c-5ce4bcfaf261",
   "metadata": {},
   "source": [
    "Yes, Python is case-sensitive when dealing with identifiers. This means that variable names, function names, class names, and other identifiers in Python are distinguished by their case. For example, the variable names \"myVar,\" \"myvar,\" and \"myVAR\" would be considered as three distinct identifiers in Python"
   ]
  },
  {
   "cell_type": "markdown",
   "id": "f84977e8-3d9f-4644-9f6a-e92abeb271c3",
   "metadata": {},
   "source": [
    "Q4. what is the correct extension of the python file ?"
   ]
  },
  {
   "cell_type": "markdown",
   "id": "f8b5bc00-6038-4336-a0ca-934659e4ef60",
   "metadata": {},
   "source": [
    "While \".py\" is the standard and most commonly used extension for Python source code files, it's essential to follow your project's or organization's naming conventions if they have specific guidelines."
   ]
  },
  {
   "cell_type": "markdown",
   "id": "865e0a86-37c2-4ef2-96ab-e284223af6bb",
   "metadata": {},
   "source": [
    "Q5.is python code compiled or interpreted ?"
   ]
  },
  {
   "cell_type": "markdown",
   "id": "c9ab1684-f56b-4ffd-8193-8ea4ddc5e9db",
   "metadata": {},
   "source": [
    "Python is both a compiled and interpreted programming language. It uses a two-step process:\n",
    "* Compilation to Bytecode\n",
    "* Execution by the Interpreter\n",
    " Python source code is compiled into bytecode, and this bytecode is then interpreted by the Python interpreter, resulting in Python's hybrid compilation and interpretation approach."
   ]
  },
  {
   "cell_type": "markdown",
   "id": "fd072f93-17c6-42aa-992e-4f1ac26bf305",
   "metadata": {},
   "source": [
    "Q6. name a few blocks of code used to define in python language ?"
   ]
  },
  {
   "cell_type": "markdown",
   "id": "4d64156e-0c08-4902-adf6-eec88efca765",
   "metadata": {},
   "source": [
    "In Python, code blocks are defined using indentation. Indentation is crucial for indicating the structure and nesting of blocks of code.Common code blocks in Python include:\n",
    "* function blocks - defined bu 'def' keyword\n",
    "* conditional blocks - if ,elif ,else statements\n",
    "* loop blocks - for , while \n",
    "* class blocks - defined by 'class' keyword"
   ]
  },
  {
   "cell_type": "markdown",
   "id": "9df6fdcd-2a41-4570-92b3-49b2ae9a6f86",
   "metadata": {},
   "source": [
    "Q7.state a character used to give single line comments in python ?"
   ]
  },
  {
   "cell_type": "markdown",
   "id": "ba5c3e13-c42b-4f33-818a-7e6464d5f5b1",
   "metadata": {},
   "source": [
    "Any text following the # on a line is considered a comment and is not executed as part of the code. "
   ]
  },
  {
   "cell_type": "markdown",
   "id": "aeabcf6a-850e-4309-b033-03624f31d8cb",
   "metadata": {},
   "source": [
    "Q8.mention functions which can help us to find  the version of python we are currently working on ?"
   ]
  },
  {
   "cell_type": "markdown",
   "id": "9db5012c-5f89-4a09-84ef-35ec86656f42",
   "metadata": {},
   "source": [
    "You can find the version of Python you are currently working on using the following functions and techniques:\n"
   ]
  },
  {
   "cell_type": "code",
   "execution_count": 3,
   "id": "ab5dd97e-76a7-48f2-b641-9e8eca8db1c2",
   "metadata": {},
   "outputs": [
    {
     "name": "stdout",
     "output_type": "stream",
     "text": [
      "Python version: 3.10.8 | packaged by conda-forge | (main, Nov 22 2022, 08:26:04) [GCC 10.4.0]\n"
     ]
    }
   ],
   "source": [
    "# sys module \n",
    "import sys\n",
    "print(\"Python version:\", sys.version)"
   ]
  },
  {
   "cell_type": "code",
   "execution_count": 4,
   "id": "19938a06-a4c9-42e5-a58c-19b7c87c1cee",
   "metadata": {},
   "outputs": [
    {
     "name": "stdout",
     "output_type": "stream",
     "text": [
      "Python version: 3.10.8\n"
     ]
    }
   ],
   "source": [
    "# platform module\n",
    "import platform\n",
    "print(\"Python version:\", platform.python_version())"
   ]
  },
  {
   "cell_type": "markdown",
   "id": "d8d6b1bc-e78c-428c-984e-c1492531e3c7",
   "metadata": {},
   "source": [
    "Q9. python supports the creation of anonymous functions at runtime ,using a construct called ?"
   ]
  },
  {
   "cell_type": "markdown",
   "id": "0e810968-2c9d-4482-807e-3d59646e9cfc",
   "metadata": {},
   "source": [
    "you can create anonymous functions at runtime using a construct called \"lambda\" functions. Lambda functions are also known as anonymous functions because they do not have a name and are typically used for short, simple operations. They are defined using the lambda keyword, followed by a list of arguments, a colon, and an expression. Lambda functions can be useful when you need a small, throwaway function for operations like sorting, filtering, or mapping"
   ]
  },
  {
   "cell_type": "markdown",
   "id": "ba12675e-9b4a-4efd-9566-e0f2aeccfdde",
   "metadata": {},
   "source": [
    "Q10. what does pip stand for in python ?"
   ]
  },
  {
   "cell_type": "markdown",
   "id": "4e33a663-5234-497c-aaca-93f2801c259f",
   "metadata": {},
   "source": [
    "Pip\" in the context of Python stands for \"Pip Installs Packages.\" Pip is the package manager for Python, and it is used for installing, upgrading, and managing Python packages and libraries. It simplifies the process of installing third-party libraries and packages, making it easier for Python developers to work with a wide range of external modules and tools. Pip is an essential tool for managing dependencies and ensuring that your Python projects can access the necessary libraries and packages."
   ]
  },
  {
   "cell_type": "markdown",
   "id": "b3cd0091-36cf-4482-b075-64ef01dbc761",
   "metadata": {},
   "source": [
    "Q11. mention a few built-in functions in python ?"
   ]
  },
  {
   "cell_type": "markdown",
   "id": "81e94016-5fdb-46fe-9777-968e8337761f",
   "metadata": {},
   "source": [
    "print(): Used to display output to the console.\n",
    "\n",
    "input(): Reads input from the user via the keyboard.\n",
    "\n",
    "len(): Returns the length of a sequence (e.g., a string, list, or tuple).\n",
    "\n",
    "type(): Returns the data type of an object.\n",
    "\n",
    "int(): Converts a value to an integer.\n",
    "\n",
    "float(): Converts a value to a floating-point number.\n",
    "\n",
    "str(): Converts a value to a string.\n",
    "\n",
    "list(): Creates a new list from an iterable.\n",
    "\n",
    "tuple(): Creates a new tuple from an iterable.\n",
    "\n",
    "dict(): Creates a new dictionary."
   ]
  },
  {
   "cell_type": "markdown",
   "id": "485f00b1-43db-47ee-ac80-f37d4100da96",
   "metadata": {},
   "source": [
    "Q12. what is the maximum possible length of an identifier in python ?"
   ]
  },
  {
   "cell_type": "markdown",
   "id": "a8c133f8-cb78-408a-82ee-2df831b70039",
   "metadata": {},
   "source": [
    "In Python,an identifier can have a maximum length of 79 characters. \n",
    "\n",
    "But, it's important to keep them reasonably short and meaningful for the sake of code readability and maintainability. Extremely long identifiers can make your code less readable and harder to work with."
   ]
  },
  {
   "cell_type": "markdown",
   "id": "f3c207e7-4a88-4339-8b23-a89603e67fb4",
   "metadata": {},
   "source": [
    "Q13.  what are the benefits of using python ?"
   ]
  },
  {
   "cell_type": "markdown",
   "id": "142cf707-68ab-44bc-8b79-3461366091f5",
   "metadata": {},
   "source": [
    "Python is a popular programming language known for its versatility and ease of use. It offers a wide range of benefits, making it a preferred choice for various applications. Here are some of the key benefits of using Python:\n",
    "* Readability and Maintainability\n",
    "* Extensive Standard Library\n",
    "* Cross-Platform Compatibility\n",
    "* Large and Active Community\n",
    "* High-level Language\n",
    "* Interpreted Language\n",
    "* Rapid Development\n",
    "* Excellent Support for Integration\n",
    "* Strong Community and Resources\n",
    "* Open Source and Free\n",
    "* Scalability"
   ]
  },
  {
   "cell_type": "markdown",
   "id": "829dfaae-29e6-47d0-a7b8-8c8185a80b49",
   "metadata": {},
   "source": [
    "Q14. how is memory managed in python ?"
   ]
  },
  {
   "cell_type": "markdown",
   "id": "75f43214-dee0-4eff-9246-d06f59f7b930",
   "metadata": {},
   "source": [
    "Memory management in Python is primarily handled by the Python memory manager, which is responsible for allocating and deallocating memory for objects during the program's execution. Python's memory management is automatic, and it uses several strategies to make the process efficient and reliable:\n",
    "Reference Counting ; Garbage Collection ; Memory Pools ; Dynamic Typing ; Small Object Optimization ETC..."
   ]
  },
  {
   "cell_type": "markdown",
   "id": "a2624295-16e9-49a8-acfe-bc916fa29df7",
   "metadata": {},
   "source": [
    "Q15. How to install python in windows and set path variable ?"
   ]
  },
  {
   "cell_type": "markdown",
   "id": "3b8c14bf-05ce-4518-a14c-ab833ba83004",
   "metadata": {},
   "source": [
    "* download python --> run the installer --> start installation --> verify installation --> \n",
    "\n",
    "* If you didn't select the \"Add Python x.x to PATH\" option during installation, you can set the PATH variable manually:\n",
    "  Right-click on \"This PC\" or \"My Computer\" on your desktop or in the File Explorer.\n",
    "  Select \"Properties.\"\n",
    "  Click on \"Advanced system settings\" on the left sidebar.\n",
    "  In the System Properties window, click the \"Environment Variables\" button.\n",
    "  In the \"Environment Variables\" window, under the \"System variables\" section, find and select \"Path,\" then click the \"Edit\" button.\n",
    "  Click \"New\" and add the path to your Python installation directory. The default installation path for Python is typically C:\\Users\\                   <your_username>\\AppData\\Local\\Programs\\Python\\Python3x (where 3x represents the Python version number).\n",
    "  Click \"OK\" to save your changes.\n",
    "\n",
    "* Verify the PATH Variable  \n",
    "\n",
    "* Now, you have Python installed on your Windows system, and the PATH variable is set correctly. You can start using Python by running scripts, opening the Python interactive shell, or using Python IDEs and code editors\n",
    "\n"
   ]
  },
  {
   "cell_type": "markdown",
   "id": "13ab0bcb-ea5f-49c9-bf58-b5d4e48b4059",
   "metadata": {},
   "source": [
    "Q16.  is indentation required in python ?"
   ]
  },
  {
   "cell_type": "markdown",
   "id": "0c06f5fd-02d3-42db-b4dd-6a7a9ab71c31",
   "metadata": {},
   "source": [
    "Yes, indentation is required in Python. Indentation is not just a matter of style; it is a fundamental part of Python's syntax and structure. Python uses indentation to define blocks of code, such as loops, conditionals, functions, and classes. The consistent use of indentation is crucial for the correct interpretation of your Python code"
   ]
  },
  {
   "cell_type": "code",
   "execution_count": null,
   "id": "8ecd28ef-e39f-47db-a514-3bfee0663763",
   "metadata": {},
   "outputs": [],
   "source": []
  }
 ],
 "metadata": {
  "kernelspec": {
   "display_name": "Python 3 (ipykernel)",
   "language": "python",
   "name": "python3"
  },
  "language_info": {
   "codemirror_mode": {
    "name": "ipython",
    "version": 3
   },
   "file_extension": ".py",
   "mimetype": "text/x-python",
   "name": "python",
   "nbconvert_exporter": "python",
   "pygments_lexer": "ipython3",
   "version": "3.10.8"
  }
 },
 "nbformat": 4,
 "nbformat_minor": 5
}
