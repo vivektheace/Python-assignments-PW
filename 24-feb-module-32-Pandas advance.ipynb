{
 "cells": [
  {
   "cell_type": "markdown",
   "id": "e4224cd9-3474-47cf-9622-123da1af8a17",
   "metadata": {},
   "source": [
    "Q1.List any five functions of the pandas library with execution.\n"
   ]
  },
  {
   "cell_type": "markdown",
   "id": "96e6aa52-3058-4836-b041-965c6c9a9173",
   "metadata": {},
   "source": [
    "Sure! Here are five commonly used functions in the pandas library along with examples of their execution:\n",
    "\n",
    "1. **`read_csv()`**: This function reads a comma-separated values (CSV) file into a DataFrame.\n",
    "\n",
    "```python\n",
    "import pandas as pd\n",
    "\n",
    "# Example: Reading a CSV file\n",
    "df = pd.read_csv('sample_data.csv')\n",
    "print(df.head())\n",
    "```\n",
    "\n",
    "2. **`head()`**: This function returns the first n rows of a DataFrame.\n",
    "\n",
    "```python\n",
    "# Example: Displaying the first 5 rows of the DataFrame\n",
    "print(df.head())\n",
    "```\n",
    "\n",
    "3. **`describe()`**: This function generates descriptive statistics that summarize the central tendency, dispersion, and shape of a dataset’s distribution, excluding NaN values.\n",
    "\n",
    "```python\n",
    "# Example: Getting summary statistics of the DataFrame\n",
    "print(df.describe())\n",
    "```\n",
    "\n",
    "4. **`groupby()`**: This function is used for splitting the data into groups based on some criteria.\n",
    "\n",
    "```python\n",
    "# Example: Grouping by a column and calculating mean of each group\n",
    "grouped = df.groupby('Category').mean()\n",
    "print(grouped)\n",
    "```\n",
    "\n",
    "5. **`plot()`**: This function is used for plotting data from a DataFrame using matplotlib.\n",
    "\n",
    "```python\n",
    "import matplotlib.pyplot as plt\n",
    "\n",
    "# Example: Plotting a line chart\n",
    "df['Column1'].plot()\n",
    "plt.show()\n",
    "```"
   ]
  },
  {
   "cell_type": "markdown",
   "id": "c0ba2439-1719-4899-8b5c-066f4d74cf33",
   "metadata": {},
   "source": [
    "Q2. Given a Pandas DataFrame df with columns 'A', 'B', and 'C', write a Python function to re-index the\n",
    "DataFrame with a new index that starts from 1 and increments by 2 for each row."
   ]
  },
  {
   "cell_type": "code",
   "execution_count": 1,
   "id": "8c442cfa-bb60-45dc-b080-c698300212df",
   "metadata": {},
   "outputs": [
    {
     "name": "stdout",
     "output_type": "stream",
     "text": [
      "    A   B   C\n",
      "1  10  40  70\n",
      "3  20  50  80\n",
      "5  30  60  90\n"
     ]
    }
   ],
   "source": [
    "import pandas as pd\n",
    "\n",
    "def reindex_dataframe(df):\n",
    "    # Create a new index starting from 1 and incrementing by 2\n",
    "    new_index = pd.RangeIndex(start=1, stop=2*len(df)+1, step=2)\n",
    "    \n",
    "    # Set the new index to the DataFrame\n",
    "    df_reindexed = df.set_index(new_index)\n",
    "    \n",
    "    return df_reindexed\n",
    "\n",
    "# Example DataFrame\n",
    "data = {\n",
    "    'A': [10, 20, 30],\n",
    "    'B': [40, 50, 60],\n",
    "    'C': [70, 80, 90]\n",
    "}\n",
    "df = pd.DataFrame(data)\n",
    "\n",
    "# Reindex the DataFrame\n",
    "df_reindexed = reindex_dataframe(df)\n",
    "print(df_reindexed)\n"
   ]
  },
  {
   "cell_type": "markdown",
   "id": "b9180fa1-12c7-40fb-bfbf-42120d89e1cb",
   "metadata": {},
   "source": [
    "Q3. You have a Pandas DataFrame df with a column named 'Values'. Write a Python function that\n",
    "iterates over the DataFrame and calculates the sum of the first three values in the 'Values' column. The\n",
    "function should print the sum to the console.\n",
    "\n",
    "For example, if the 'Values' column of df contains the values [10, 20, 30, 40, 50], your function should\n",
    "calculate and print the sum of the first three values, which is 60"
   ]
  },
  {
   "cell_type": "code",
   "execution_count": 2,
   "id": "60519698-9581-4e7d-b758-f9b0a7697c41",
   "metadata": {},
   "outputs": [
    {
     "name": "stdout",
     "output_type": "stream",
     "text": [
      "The sum of the first three values is: 60\n"
     ]
    }
   ],
   "source": [
    "import pandas as pd\n",
    "\n",
    "def sum_first_three_values(df):\n",
    "    # Ensure the DataFrame has at least three rows\n",
    "    if len(df) < 3:\n",
    "        print(\"The DataFrame does not have enough rows.\")\n",
    "        return\n",
    "    \n",
    "    # Initialize the sum\n",
    "    sum_values = 0\n",
    "    \n",
    "    # Iterate over the first three values in the 'Values' column\n",
    "    for i in range(3):\n",
    "        sum_values += df['Values'].iloc[i]\n",
    "    \n",
    "    # Print the sum\n",
    "    print(\"The sum of the first three values is:\", sum_values)\n",
    "\n",
    "# Example DataFrame\n",
    "data = {\n",
    "    'Values': [10, 20, 30, 40, 50]\n",
    "}\n",
    "df = pd.DataFrame(data)\n",
    "\n",
    "# Call the function with the example DataFrame\n",
    "sum_first_three_values(df)\n"
   ]
  },
  {
   "cell_type": "markdown",
   "id": "82dfbbdd-9d1a-418d-bce7-8d94667baebe",
   "metadata": {},
   "source": [
    "Q4.Given a Pandas DataFrame df with a column 'Text', write a Python function to create a new column\n",
    "'Word_Count' that contains the number of words in each row of the 'Text' column.\n"
   ]
  },
  {
   "cell_type": "code",
   "execution_count": 3,
   "id": "92502b25-5323-423a-bbc0-e1aa59df7e14",
   "metadata": {},
   "outputs": [
    {
     "name": "stdout",
     "output_type": "stream",
     "text": [
      "                 Text  Word_Count\n",
      "0         Hello world           2\n",
      "1      This is a test           4\n",
      "2     Pandas is great           3\n",
      "3  Word count example           3\n"
     ]
    }
   ],
   "source": [
    "import pandas as pd\n",
    "\n",
    "def add_word_count_column(df):\n",
    "    # Define a function to count words in a text\n",
    "    def count_words(text):\n",
    "        # Split the text by whitespace and count the number of resulting parts\n",
    "        return len(text.split())\n",
    "\n",
    "    # Apply the count_words function to each row in the 'Text' column and create a new 'Word_Count' column\n",
    "    df['Word_Count'] = df['Text'].apply(count_words)\n",
    "    \n",
    "    return df\n",
    "\n",
    "# Example DataFrame\n",
    "data = {\n",
    "    'Text': [\"Hello world\", \"This is a test\", \"Pandas is great\", \"Word count example\"]\n",
    "}\n",
    "df = pd.DataFrame(data)\n",
    "\n",
    "# Call the function to add the 'Word_Count' column\n",
    "df = add_word_count_column(df)\n",
    "print(df)\n"
   ]
  },
  {
   "cell_type": "markdown",
   "id": "ee2e6ea6-c876-4d12-9127-9e5c04d5872a",
   "metadata": {},
   "source": [
    "Q5.How are DataFrame.size() and DataFrame.shape() different?\n"
   ]
  },
  {
   "cell_type": "markdown",
   "id": "a2cf3bf7-d9fe-407b-89f8-26e1d7e75ffa",
   "metadata": {},
   "source": [
    "`DataFrame.size` and `DataFrame.shape` are attributes of a Pandas DataFrame that provide different types of information about the DataFrame. Here’s how they differ:\n",
    "\n",
    "### `DataFrame.shape`\n",
    "\n",
    "- **Definition**: The `shape` attribute returns a tuple representing the dimensionality of the DataFrame.\n",
    "- **Output**: It gives the number of rows and columns in the DataFrame.\n",
    "- **Usage**: It is useful when you want to know the structure of the DataFrame in terms of its dimensions.\n",
    "\n",
    "### Example\n",
    "```python\n",
    "import pandas as pd\n",
    "\n",
    "# Example DataFrame\n",
    "data = {\n",
    "    'A': [1, 2, 3],\n",
    "    'B': [4, 5, 6],\n",
    "    'C': [7, 8, 9]\n",
    "}\n",
    "df = pd.DataFrame(data)\n",
    "\n",
    "# Get the shape of the DataFrame\n",
    "print(df.shape)\n",
    "```\n",
    "\n",
    "**Output**:\n",
    "```\n",
    "(3, 3)\n",
    "```\n",
    "This output indicates that the DataFrame has 3 rows and 3 columns.\n",
    "\n",
    "### `DataFrame.size`\n",
    "\n",
    "- **Definition**: The `size` attribute returns an integer representing the number of elements in the DataFrame.\n",
    "- **Output**: It gives the total number of cells (rows × columns) in the DataFrame.\n",
    "- **Usage**: It is useful when you want to know the total number of elements in the DataFrame.\n",
    "\n",
    "### Example\n",
    "```python\n",
    "# Get the size of the DataFrame\n",
    "print(df.size)\n",
    "```\n",
    "\n",
    "**Output**:\n",
    "```\n",
    "9\n",
    "```\n",
    "This output indicates that the DataFrame has a total of 9 elements (3 rows * 3 columns).\n",
    "\n",
    "### Key Differences\n",
    "\n",
    "- **DataFrame.shape**:\n",
    "  - Returns a tuple `(number_of_rows, number_of_columns)`.\n",
    "  - Example output for a DataFrame with 3 rows and 3 columns: `(3, 3)`.\n",
    "\n",
    "- **DataFrame.size**:\n",
    "  - Returns a single integer `number_of_rows * number_of_columns`.\n",
    "  - Example output for a DataFrame with 3 rows and 3 columns: `9`.\n",
    "\n",
    "### Summary\n",
    "\n",
    "- Use `DataFrame.shape` to get the dimensions of the DataFrame.\n",
    "- Use `DataFrame.size` to get the total number of elements in the DataFrame."
   ]
  },
  {
   "cell_type": "markdown",
   "id": "d32d202c-ee09-4e5c-8d24-f91e4042214b",
   "metadata": {},
   "source": [
    "Q6. Which function of pandas do we use to read an excel file?\n"
   ]
  },
  {
   "cell_type": "markdown",
   "id": "420e569b-9228-467a-8ce2-c644422b49a6",
   "metadata": {},
   "source": [
    "In pandas, the function used to read an Excel file is pd.read_excel(). This function allows you to read data from an Excel file into a pandas DataFrame.\n",
    "\n",
    "Basic Usage Here’s an example of how to use pd.read_excel(): "
   ]
  },
  {
   "cell_type": "code",
   "execution_count": null,
   "id": "632f3cb4-5bac-47c2-b205-00afe0c4fe21",
   "metadata": {},
   "outputs": [],
   "source": [
    "import pandas as pd\n",
    "\n",
    "Read the Excel file into a DataFrame\n",
    "df = pd.read_excel('example.xlsx')\n",
    "\n",
    "Display the first few rows of the DataFrame\n",
    "print(df.head())"
   ]
  },
  {
   "cell_type": "markdown",
   "id": "00126591-1525-4c74-af57-c44d3c12a532",
   "metadata": {},
   "source": [
    "Q7. You have a Pandas DataFrame df that contains a column named 'Email' that contains email\n",
    "addresses in the format 'username@domain.com'. Write a Python function that creates a new column\n",
    "'Username' in df that contains only the username part of each email address.\n",
    "\n",
    "The username is the part of the email address that appears before the '@' symbol. For example, if the\n",
    "email address is 'john.doe@example.com', the 'Username' column should contain 'john.doe'. Your\n",
    "function should extract the username from each email address and store it in the new 'Username'\n",
    "column.\n",
    "\n"
   ]
  },
  {
   "cell_type": "code",
   "execution_count": 5,
   "id": "51a4a24b-fb7b-4cb5-abcf-de1502ed8d18",
   "metadata": {},
   "outputs": [
    {
     "name": "stdout",
     "output_type": "stream",
     "text": [
      "                   Email    Username\n",
      "0   john.doe@example.com    john.doe\n",
      "1  jane.smith@domain.com  jane.smith\n",
      "2       foo.bar@test.com     foo.bar\n"
     ]
    }
   ],
   "source": [
    "import pandas as pd\n",
    "\n",
    "def extract_username(df):\n",
    "    # Define a function to extract the username from an email address\n",
    "    def get_username(email):\n",
    "        # Split the email by '@' and take the first part\n",
    "        return email.split('@')[0]\n",
    "    \n",
    "    # Apply the get_username function to each row in the 'Email' column and create a new 'Username' column\n",
    "    df['Username'] = df['Email'].apply(get_username)\n",
    "    \n",
    "    return df\n",
    "\n",
    "# Example DataFrame\n",
    "data = {\n",
    "    'Email': ['john.doe@example.com', 'jane.smith@domain.com', 'foo.bar@test.com']\n",
    "}\n",
    "df = pd.DataFrame(data)\n",
    "\n",
    "# Call the function to add the 'Username' column\n",
    "df = extract_username(df)\n",
    "print(df)\n"
   ]
  },
  {
   "cell_type": "markdown",
   "id": "9a393116-dcdb-4891-97c4-42d8d4d21226",
   "metadata": {},
   "source": [
    "Q8. You have a Pandas DataFrame df with columns 'A', 'B', and 'C'. Write a Python function that selects\n",
    "all rows where the value in column 'A' is greater than 5 and the value in column 'B' is less than 10. The\n",
    "function should return a new DataFrame that contains only the selected rows.\n",
    "\n",
    "For example, if df contains the following values:\n",
    "\n",
    "A B C\n",
    "\n",
    "0 3 5 1\n",
    "\n",
    "1 8 2 7\n",
    "\n",
    "2 6 9 4\n",
    "\n",
    "3 2 3 5\n",
    "\n",
    "4 9 1 2\n",
    "\n",
    "Your function should select the following rows: A B C\n",
    "\n",
    "1 8 2 7\n",
    "\n",
    "4 9 1 2\n",
    "\n",
    "The function should return a new DataFrame that contains only the selected rows"
   ]
  },
  {
   "cell_type": "code",
   "execution_count": 8,
   "id": "b0aec6c1-efc2-44b2-931c-b984b0b057d7",
   "metadata": {},
   "outputs": [
    {
     "name": "stdout",
     "output_type": "stream",
     "text": [
      "   A  B  C\n",
      "1  8  2  7\n",
      "2  6  9  4\n",
      "4  9  1  2\n"
     ]
    }
   ],
   "source": [
    "import pandas as pd\n",
    "\n",
    "def filter_dataframe(df):\n",
    "    # Apply the conditions to filter rows\n",
    "    filtered_df = df[(df['A'] > 5) & (df['B'] < 10)]\n",
    "    \n",
    "    return filtered_df\n",
    "\n",
    "# Example DataFrame\n",
    "data = {\n",
    "    'A': [3, 8, 6, 2, 9],\n",
    "    'B': [5, 2, 9, 3, 1],\n",
    "    'C': [1, 7, 4, 5, 2]\n",
    "}\n",
    "df = pd.DataFrame(data)\n",
    "\n",
    "# Call the function to filter the DataFrame\n",
    "filtered_df = filter_dataframe(df)\n",
    "print(filtered_df)\n"
   ]
  },
  {
   "cell_type": "markdown",
   "id": "47e7057d-1a64-4dbf-b81a-c23091d005e1",
   "metadata": {},
   "source": [
    "Q9.Given a Pandas DataFrame df with a column 'Values', write a Python function to calculate the mean,\n",
    "median, and standard deviation of the values in the 'Values' column.\n"
   ]
  },
  {
   "cell_type": "code",
   "execution_count": 9,
   "id": "a7a9e375-3bc4-4fe2-8b29-9a6e8fc6677b",
   "metadata": {},
   "outputs": [
    {
     "name": "stdout",
     "output_type": "stream",
     "text": [
      "Mean: 30.0\n",
      "Median: 30.0\n",
      "Standard Deviation: 15.811388300841896\n"
     ]
    }
   ],
   "source": [
    "import pandas as pd\n",
    "\n",
    "def calculate_statistics(df):\n",
    "    # Calculate the mean of the 'Values' column\n",
    "    mean_value = df['Values'].mean()\n",
    "    \n",
    "    # Calculate the median of the 'Values' column\n",
    "    median_value = df['Values'].median()\n",
    "    \n",
    "    # Calculate the standard deviation of the 'Values' column\n",
    "    std_dev_value = df['Values'].std()\n",
    "    \n",
    "    # Print the calculated statistics\n",
    "    print(f\"Mean: {mean_value}\")\n",
    "    print(f\"Median: {median_value}\")\n",
    "    print(f\"Standard Deviation: {std_dev_value}\")\n",
    "\n",
    "# Example DataFrame\n",
    "data = {\n",
    "    'Values': [10, 20, 30, 40, 50]\n",
    "}\n",
    "df = pd.DataFrame(data)\n",
    "\n",
    "# Call the function to calculate and print the statistics\n",
    "calculate_statistics(df)\n"
   ]
  },
  {
   "cell_type": "markdown",
   "id": "d1f1540d-35f3-4701-8ce6-9a37a88bc568",
   "metadata": {},
   "source": [
    "Q10. Given a Pandas DataFrame df with a column 'Sales' and a column 'Date', write a Python function to\n",
    "create a new column 'MovingAverage' that contains the moving average of the sales for the past 7 days\n",
    "for each row in the DataFrame. The moving average should be calculated using a window of size 7 and\n",
    "should include the current day.\n"
   ]
  },
  {
   "cell_type": "code",
   "execution_count": 10,
   "id": "2b7e3974-77c9-478c-8251-8291e29dec7d",
   "metadata": {},
   "outputs": [
    {
     "name": "stdout",
     "output_type": "stream",
     "text": [
      "        Date  Sales  MovingAverage\n",
      "0 2023-07-01    100          100.0\n",
      "1 2023-07-02    150          125.0\n",
      "2 2023-07-03    200          150.0\n",
      "3 2023-07-04    250          175.0\n",
      "4 2023-07-05    300          200.0\n",
      "5 2023-07-06    350          225.0\n",
      "6 2023-07-07    400          250.0\n",
      "7 2023-07-08    450          300.0\n",
      "8 2023-07-09    500          350.0\n",
      "9 2023-07-10    550          400.0\n"
     ]
    }
   ],
   "source": [
    "import pandas as pd\n",
    "\n",
    "def add_moving_average(df):\n",
    "    # Ensure the 'Date' column is in datetime format\n",
    "    df['Date'] = pd.to_datetime(df['Date'])\n",
    "    \n",
    "    # Sort the DataFrame by date to ensure the moving average is calculated correctly\n",
    "    df = df.sort_values(by='Date')\n",
    "    \n",
    "    # Calculate the moving average with a window size of 7 and include the current day\n",
    "    df['MovingAverage'] = df['Sales'].rolling(window=7, min_periods=1).mean()\n",
    "    \n",
    "    return df\n",
    "\n",
    "# Example DataFrame\n",
    "data = {\n",
    "    'Date': ['2023-07-01', '2023-07-02', '2023-07-03', '2023-07-04', '2023-07-05', '2023-07-06', '2023-07-07', '2023-07-08', '2023-07-09', '2023-07-10'],\n",
    "    'Sales': [100, 150, 200, 250, 300, 350, 400, 450, 500, 550]\n",
    "}\n",
    "df = pd.DataFrame(data)\n",
    "\n",
    "# Call the function to add the 'MovingAverage' column\n",
    "df = add_moving_average(df)\n",
    "print(df)\n"
   ]
  },
  {
   "cell_type": "markdown",
   "id": "94643b16-c739-44f9-af4c-8766ba2ea396",
   "metadata": {},
   "source": [
    "Q11.You have a Pandas DataFrame df with a column 'Date'. Write a Python function that creates a new\n",
    "column 'Weekday' in the DataFrame. The 'Weekday' column should contain the weekday name (e.g.\n",
    "Monday, Tuesday) corresponding to each date in the 'Date' column.\n",
    "\n",
    "For example, if df contains the following values:\n",
    "\n",
    "Date\n",
    "\n",
    "0 2023-01-01\n",
    "\n",
    "1 2023-01-02\n",
    "\n",
    "2 2023-01-03\n",
    "\n",
    "3 2023-01-04\n",
    "\n",
    "4 2023-01-05\n",
    "\n",
    "Your function should create the following DataFrame:\n",
    "\n",
    "\n",
    "Date Weekday\n",
    "\n",
    "0 2023-01-01 Sunday\n",
    "\n",
    "1 2023-01-02 Monday\n",
    "\n",
    "2 2023-01-03 Tuesday\n",
    "\n",
    "3 2023-01-04 Wednesday\n",
    "\n",
    "4 2023-01-05 Thursday\n",
    "\n",
    "The function should return the modified DataFrame"
   ]
  },
  {
   "cell_type": "code",
   "execution_count": 11,
   "id": "0b692dcb-8151-4be6-9f05-147759ee32ac",
   "metadata": {},
   "outputs": [
    {
     "name": "stdout",
     "output_type": "stream",
     "text": [
      "        Date    Weekday\n",
      "0 2023-01-01     Sunday\n",
      "1 2023-01-02     Monday\n",
      "2 2023-01-03    Tuesday\n",
      "3 2023-01-04  Wednesday\n",
      "4 2023-01-05   Thursday\n"
     ]
    }
   ],
   "source": [
    "import pandas as pd\n",
    "\n",
    "def add_weekday_column(df):\n",
    "    # Ensure the 'Date' column is in datetime format\n",
    "    df['Date'] = pd.to_datetime(df['Date'])\n",
    "    \n",
    "    # Create the 'Weekday' column by extracting the weekday name from the 'Date' column\n",
    "    df['Weekday'] = df['Date'].dt.day_name()\n",
    "    \n",
    "    return df\n",
    "\n",
    "# Example DataFrame\n",
    "data = {\n",
    "    'Date': ['2023-01-01', '2023-01-02', '2023-01-03', '2023-01-04', '2023-01-05']\n",
    "}\n",
    "df = pd.DataFrame(data)\n",
    "\n",
    "# Call the function to add the 'Weekday' column\n",
    "df = add_weekday_column(df)\n",
    "print(df)\n"
   ]
  },
  {
   "cell_type": "markdown",
   "id": "4a47fcf3-d6de-4a0e-b27f-d7ed47596554",
   "metadata": {},
   "source": [
    "Q12.Given a Pandas DataFrame df with a column 'Date' that contains timestamps, write a Python\n",
    "function to select all rows where the date is between '2023-01-01' and '2023-01-31'.\n"
   ]
  },
  {
   "cell_type": "code",
   "execution_count": 12,
   "id": "86a1b6f8-56a8-46c5-9423-c00ebbe3da94",
   "metadata": {},
   "outputs": [
    {
     "name": "stdout",
     "output_type": "stream",
     "text": [
      "        Date  Value\n",
      "1 2023-01-01     20\n",
      "2 2023-01-15     30\n",
      "3 2023-01-31     40\n"
     ]
    }
   ],
   "source": [
    "import pandas as pd\n",
    "\n",
    "def select_rows_between_dates(df):\n",
    "    # Ensure the 'Date' column is in datetime format\n",
    "    df['Date'] = pd.to_datetime(df['Date'])\n",
    "    \n",
    "    # Define the start and end dates\n",
    "    start_date = '2023-01-01'\n",
    "    end_date = '2023-01-31'\n",
    "    \n",
    "    # Select rows where the 'Date' is between the start and end dates\n",
    "    mask = (df['Date'] >= start_date) & (df['Date'] <= end_date)\n",
    "    filtered_df = df[mask]\n",
    "    \n",
    "    return filtered_df\n",
    "\n",
    "# Example DataFrame\n",
    "data = {\n",
    "    'Date': ['2022-12-31', '2023-01-01', '2023-01-15', '2023-01-31', '2023-02-01'],\n",
    "    'Value': [10, 20, 30, 40, 50]\n",
    "}\n",
    "df = pd.DataFrame(data)\n",
    "\n",
    "# Call the function to filter the DataFrame\n",
    "filtered_df = select_rows_between_dates(df)\n",
    "print(filtered_df)\n"
   ]
  },
  {
   "cell_type": "markdown",
   "id": "c6604e60-df04-469f-b220-2a1d7b543547",
   "metadata": {},
   "source": [
    "Q13.To use the basic functions of pandas, what is the first and foremost necessary library that needs to\n",
    "be imported?"
   ]
  },
  {
   "cell_type": "markdown",
   "id": "cfd2fba1-eac4-46cc-987a-cbbcf1d70dff",
   "metadata": {},
   "source": [
    "To use the basic functions of pandas, the first and foremost necessary library that needs to be imported is `pandas`. This is done using the following import statement:\n",
    "\n",
    "```python\n",
    "import pandas as pd\n",
    "```\n",
    "\n",
    "### Explanation:\n",
    "\n",
    "- **`import pandas as pd`**:\n",
    "  - This statement imports the pandas library and gives it the alias `pd`.\n",
    "  - Using `pd` as an alias is a common convention and makes it easier to reference pandas functions and classes in your code.\n",
    "\n",
    "### Example:\n",
    "\n",
    "Here’s a simple example that demonstrates how to import pandas and use some basic functions:\n",
    "\n",
    "```python\n",
    "import pandas as pd\n",
    "\n",
    "# Create a simple DataFrame\n",
    "data = {\n",
    "    'A': [1, 2, 3],\n",
    "    'B': [4, 5, 6]\n",
    "}\n",
    "df = pd.DataFrame(data)\n",
    "\n",
    "# Display the DataFrame\n",
    "print(df)\n",
    "\n",
    "# Calculate the mean of column 'A'\n",
    "mean_a = df['A'].mean()\n",
    "print(f\"The mean of column A is: {mean_a}\")\n",
    "```\n",
    "\n",
    "In this example:\n",
    "- We import pandas as `pd`.\n",
    "- We create a DataFrame `df`.\n",
    "- We print the DataFrame.\n",
    "- We calculate and print the mean of column 'A'."
   ]
  },
  {
   "cell_type": "code",
   "execution_count": null,
   "id": "a00b6976-3834-4094-ac89-f6a153df9968",
   "metadata": {},
   "outputs": [],
   "source": []
  }
 ],
 "metadata": {
  "kernelspec": {
   "display_name": "Python 3 (ipykernel)",
   "language": "python",
   "name": "python3"
  },
  "language_info": {
   "codemirror_mode": {
    "name": "ipython",
    "version": 3
   },
   "file_extension": ".py",
   "mimetype": "text/x-python",
   "name": "python",
   "nbconvert_exporter": "python",
   "pygments_lexer": "ipython3",
   "version": "3.10.8"
  }
 },
 "nbformat": 4,
 "nbformat_minor": 5
}
