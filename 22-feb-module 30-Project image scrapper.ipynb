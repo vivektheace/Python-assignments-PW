{
 "cells": [
  {
   "cell_type": "markdown",
   "id": "81dd0eb0-dc65-4f97-9621-5ef7b9d7714b",
   "metadata": {},
   "source": [
    "Go to this given URL and solve the following questions\n",
    "\n",
    "URL: https://www.youtube.com/@PW-Foundation/videos"
   ]
  },
  {
   "cell_type": "code",
   "execution_count": 22,
   "id": "6dc02272-b302-4da3-a22b-e363c35b1658",
   "metadata": {},
   "outputs": [
    {
     "name": "stdout",
     "output_type": "stream",
     "text": [
      "Collecting selenium\n",
      "  Downloading selenium-4.23.0-py3-none-any.whl (9.4 MB)\n",
      "\u001b[2K     \u001b[90m━━━━━━━━━━━━━━━━━━━━━━━━━━━━━━━━━━━━━━━━\u001b[0m \u001b[32m9.4/9.4 MB\u001b[0m \u001b[31m59.9 MB/s\u001b[0m eta \u001b[36m0:00:00\u001b[0m00:01\u001b[0m00:01\u001b[0m\n",
      "\u001b[?25hCollecting typing_extensions~=4.9.0\n",
      "  Downloading typing_extensions-4.9.0-py3-none-any.whl (32 kB)\n",
      "Collecting trio~=0.17\n",
      "  Downloading trio-0.26.0-py3-none-any.whl (475 kB)\n",
      "\u001b[2K     \u001b[90m━━━━━━━━━━━━━━━━━━━━━━━━━━━━━━━━━━━━━━\u001b[0m \u001b[32m475.7/475.7 kB\u001b[0m \u001b[31m47.6 MB/s\u001b[0m eta \u001b[36m0:00:00\u001b[0m\n",
      "\u001b[?25hCollecting websocket-client==1.8.0\n",
      "  Downloading websocket_client-1.8.0-py3-none-any.whl (58 kB)\n",
      "\u001b[2K     \u001b[90m━━━━━━━━━━━━━━━━━━━━━━━━━━━━━━━━━━━━━━━━\u001b[0m \u001b[32m58.8/58.8 kB\u001b[0m \u001b[31m10.7 MB/s\u001b[0m eta \u001b[36m0:00:00\u001b[0m\n",
      "\u001b[?25hRequirement already satisfied: urllib3[socks]<3,>=1.26 in /opt/conda/lib/python3.10/site-packages (from selenium) (1.26.13)\n",
      "Requirement already satisfied: certifi>=2021.10.8 in /opt/conda/lib/python3.10/site-packages (from selenium) (2022.12.7)\n",
      "Collecting trio-websocket~=0.9\n",
      "  Downloading trio_websocket-0.11.1-py3-none-any.whl (17 kB)\n",
      "Requirement already satisfied: sortedcontainers in /opt/conda/lib/python3.10/site-packages (from trio~=0.17->selenium) (2.4.0)\n",
      "Requirement already satisfied: sniffio>=1.3.0 in /opt/conda/lib/python3.10/site-packages (from trio~=0.17->selenium) (1.3.0)\n",
      "Collecting outcome\n",
      "  Downloading outcome-1.3.0.post0-py2.py3-none-any.whl (10 kB)\n",
      "Collecting attrs>=23.2.0\n",
      "  Downloading attrs-23.2.0-py3-none-any.whl (60 kB)\n",
      "\u001b[2K     \u001b[90m━━━━━━━━━━━━━━━━━━━━━━━━━━━━━━━━━━━━━━━━\u001b[0m \u001b[32m60.8/60.8 kB\u001b[0m \u001b[31m10.8 MB/s\u001b[0m eta \u001b[36m0:00:00\u001b[0m\n",
      "\u001b[?25hRequirement already satisfied: idna in /opt/conda/lib/python3.10/site-packages (from trio~=0.17->selenium) (3.4)\n",
      "Collecting exceptiongroup\n",
      "  Downloading exceptiongroup-1.2.2-py3-none-any.whl (16 kB)\n",
      "Collecting wsproto>=0.14\n",
      "  Downloading wsproto-1.2.0-py3-none-any.whl (24 kB)\n",
      "Requirement already satisfied: PySocks!=1.5.7,<2.0,>=1.5.6 in /opt/conda/lib/python3.10/site-packages (from urllib3[socks]<3,>=1.26->selenium) (1.7.1)\n",
      "Collecting h11<1,>=0.9.0\n",
      "  Downloading h11-0.14.0-py3-none-any.whl (58 kB)\n",
      "\u001b[2K     \u001b[90m━━━━━━━━━━━━━━━━━━━━━━━━━━━━━━━━━━━━━━━━\u001b[0m \u001b[32m58.3/58.3 kB\u001b[0m \u001b[31m10.6 MB/s\u001b[0m eta \u001b[36m0:00:00\u001b[0m\n",
      "\u001b[?25hInstalling collected packages: websocket-client, typing_extensions, h11, exceptiongroup, attrs, wsproto, outcome, trio, trio-websocket, selenium\n",
      "  Attempting uninstall: websocket-client\n",
      "    Found existing installation: websocket-client 1.4.2\n",
      "    Uninstalling websocket-client-1.4.2:\n",
      "      Successfully uninstalled websocket-client-1.4.2\n",
      "  Attempting uninstall: typing_extensions\n",
      "    Found existing installation: typing_extensions 4.4.0\n",
      "    Uninstalling typing_extensions-4.4.0:\n",
      "      Successfully uninstalled typing_extensions-4.4.0\n",
      "  Attempting uninstall: attrs\n",
      "    Found existing installation: attrs 22.1.0\n",
      "    Uninstalling attrs-22.1.0:\n",
      "      Successfully uninstalled attrs-22.1.0\n",
      "Successfully installed attrs-23.2.0 exceptiongroup-1.2.2 h11-0.14.0 outcome-1.3.0.post0 selenium-4.23.0 trio-0.26.0 trio-websocket-0.11.1 typing_extensions-4.9.0 websocket-client-1.8.0 wsproto-1.2.0\n",
      "Note: you may need to restart the kernel to use updated packages.\n"
     ]
    }
   ],
   "source": [
    "pip install selenium"
   ]
  },
  {
   "cell_type": "markdown",
   "id": "18826f60-26b1-4772-8c33-2a03e6cc6403",
   "metadata": {},
   "source": [
    "Q1. Write a python program to extract the video URL of the first five videos.\n"
   ]
  },
  {
   "cell_type": "code",
   "execution_count": 24,
   "id": "42c228fd-dfaf-48c6-b19c-4ac52b9bf00f",
   "metadata": {},
   "outputs": [],
   "source": [
    "from bs4 import BeautifulSoup\n",
    "import requests\n",
    "\n",
    "# URL of the YouTube channel's videos page\n",
    "url = \"https://www.youtube.com/@PW-Foundation/videos\"\n",
    "\n",
    "# Send a request to fetch the content of the page\n",
    "response = requests.get(url)\n",
    "html_content = response.text\n",
    "\n",
    "# Parse the HTML content using BeautifulSoup\n",
    "soup = BeautifulSoup(html_content, \"html.parser\")\n",
    "\n",
    "# Find all video links\n",
    "video_links = []\n",
    "for a in soup.find_all('a', href=True):\n",
    "    href = a['href']\n",
    "    if \"/watch?v=\" in href and href not in video_links:\n",
    "        video_links.append(\"https://www.youtube.com\" + href)\n",
    "    if len(video_links) >= 5:\n",
    "        break\n",
    "\n",
    "# Print the first five video URLs\n",
    "for link in video_links:\n",
    "    print(link)\n"
   ]
  },
  {
   "cell_type": "markdown",
   "id": "566b8e69-915c-40a0-8f8b-353f57e119f3",
   "metadata": {},
   "source": [
    "Q2. Write a python program to extract the URL of the video thumbnails of the first five videos."
   ]
  },
  {
   "cell_type": "code",
   "execution_count": 25,
   "id": "9097d731-5d49-4091-ae39-0c5af9f5dec8",
   "metadata": {},
   "outputs": [],
   "source": [
    "from bs4 import BeautifulSoup\n",
    "import requests\n",
    "\n",
    "\n",
    "# URL of the YouTube channel's videos page\n",
    "url = \"https://www.youtube.com/@PW-Foundation/videos\"\n",
    "\n",
    "# Send a request to fetch the content of the page\n",
    "response = requests.get(url)\n",
    "html_content = response.text\n",
    "\n",
    "# Parse the HTML content using BeautifulSoup\n",
    "soup = BeautifulSoup(html_content, \"html.parser\")\n",
    "\n",
    "# Function to extract video thumbnail URLs\n",
    "def extract_thumbnail_urls(soup, max_videos=5):\n",
    "    video_thumbnails = []\n",
    "    for img in soup.find_all('img', {'src': True}):\n",
    "        src = img['src']\n",
    "        if 'ytimg.com/vi/' in src and src not in video_thumbnails:\n",
    "            video_thumbnails.append(src)\n",
    "        if len(video_thumbnails) >= max_videos:\n",
    "            break\n",
    "    return video_thumbnails\n",
    "\n",
    "# Extract the URLs of the video thumbnails\n",
    "thumbnail_urls = extract_thumbnail_urls(soup)\n",
    "\n",
    "# Print the first five video thumbnail URLs\n",
    "for url in thumbnail_urls:\n",
    "    print(url)\n"
   ]
  },
  {
   "cell_type": "markdown",
   "id": "9059d0c7-470f-4aae-b550-6e5e4e39542a",
   "metadata": {},
   "source": [
    "Q3. Write a python program to extract the title of the first five videos.\n"
   ]
  },
  {
   "cell_type": "code",
   "execution_count": 26,
   "id": "d0792697-7de4-4042-acd1-50bdec6429f2",
   "metadata": {},
   "outputs": [],
   "source": [
    "from bs4 import BeautifulSoup\n",
    "import requests\n",
    "\n",
    "# URL of the YouTube channel's videos page\n",
    "url = \"https://www.youtube.com/@PW-Foundation/videos\"\n",
    "\n",
    "# Send a request to fetch the content of the page\n",
    "response = requests.get(url)\n",
    "html_content = response.text\n",
    "\n",
    "# Parse the HTML content using BeautifulSoup\n",
    "soup = BeautifulSoup(html_content, \"html.parser\")\n",
    "\n",
    "# Function to extract video titles\n",
    "def extract_video_titles(soup, max_videos=5):\n",
    "    video_titles = []\n",
    "    for title in soup.find_all('a', {'id': 'video-title'}, limit=max_videos):\n",
    "        video_titles.append(title['title'])\n",
    "    return video_titles\n",
    "\n",
    "# Extract the titles of the first five videos\n",
    "video_titles = extract_video_titles(soup)\n",
    "\n",
    "# Print the first five video titles\n",
    "for title in video_titles:\n",
    "    print(title)\n"
   ]
  },
  {
   "cell_type": "markdown",
   "id": "f904fbd0-b08a-4251-8927-eaa3bdd48a24",
   "metadata": {},
   "source": [
    "Q4. Write a python program to extract the number of views of the first five videos.\n"
   ]
  },
  {
   "cell_type": "code",
   "execution_count": 27,
   "id": "4be499f9-fe79-4699-8096-1ad4029c7832",
   "metadata": {},
   "outputs": [],
   "source": [
    "from bs4 import BeautifulSoup\n",
    "import requests\n",
    "\n",
    "# URL of the YouTube channel's videos page\n",
    "url = \"https://www.youtube.com/@PW-Foundation/videos\"\n",
    "\n",
    "# Send a request to fetch the content of the page\n",
    "response = requests.get(url)\n",
    "html_content = response.text\n",
    "\n",
    "# Parse the HTML content using BeautifulSoup\n",
    "soup = BeautifulSoup(html_content, \"html.parser\")\n",
    "\n",
    "# Function to extract the number of views of the first five videos\n",
    "def extract_video_views(soup, max_videos=5):\n",
    "    video_views = []\n",
    "    for span in soup.find_all('span', class_='inline-metadata-item style-scope ytd-video-meta-block'):\n",
    "        if 'views' in span.text:\n",
    "            video_views.append(span.text.strip())\n",
    "        if len(video_views) >= max_videos:\n",
    "            break\n",
    "    return video_views\n",
    "\n",
    "# Extract the view counts of the first five videos\n",
    "video_views = extract_video_views(soup)\n",
    "\n",
    "# Print the view counts of the first five videos\n",
    "for views in video_views:\n",
    "    print(views)\n"
   ]
  },
  {
   "cell_type": "markdown",
   "id": "5a4d3ad7-7cd6-46ee-b136-7c6a9c8fff72",
   "metadata": {},
   "source": [
    "Q5. Write a python program to extract the time of posting of video for the first five videos"
   ]
  },
  {
   "cell_type": "code",
   "execution_count": 29,
   "id": "28b96d73-875c-47f9-aaee-3583a85de206",
   "metadata": {},
   "outputs": [
    {
     "ename": "ModuleNotFoundError",
     "evalue": "No module named 'webdriver_manager'",
     "output_type": "error",
     "traceback": [
      "\u001b[0;31m---------------------------------------------------------------------------\u001b[0m",
      "\u001b[0;31mModuleNotFoundError\u001b[0m                       Traceback (most recent call last)",
      "Cell \u001b[0;32mIn[29], line 6\u001b[0m\n\u001b[1;32m      4\u001b[0m \u001b[38;5;28;01mfrom\u001b[39;00m \u001b[38;5;21;01mselenium\u001b[39;00m\u001b[38;5;21;01m.\u001b[39;00m\u001b[38;5;21;01mwebdriver\u001b[39;00m\u001b[38;5;21;01m.\u001b[39;00m\u001b[38;5;21;01mcommon\u001b[39;00m\u001b[38;5;21;01m.\u001b[39;00m\u001b[38;5;21;01mby\u001b[39;00m \u001b[38;5;28;01mimport\u001b[39;00m By\n\u001b[1;32m      5\u001b[0m \u001b[38;5;28;01mfrom\u001b[39;00m \u001b[38;5;21;01mselenium\u001b[39;00m\u001b[38;5;21;01m.\u001b[39;00m\u001b[38;5;21;01mwebdriver\u001b[39;00m\u001b[38;5;21;01m.\u001b[39;00m\u001b[38;5;21;01mchrome\u001b[39;00m\u001b[38;5;21;01m.\u001b[39;00m\u001b[38;5;21;01mservice\u001b[39;00m \u001b[38;5;28;01mimport\u001b[39;00m Service\n\u001b[0;32m----> 6\u001b[0m \u001b[38;5;28;01mfrom\u001b[39;00m \u001b[38;5;21;01mwebdriver_manager\u001b[39;00m\u001b[38;5;21;01m.\u001b[39;00m\u001b[38;5;21;01mchrome\u001b[39;00m \u001b[38;5;28;01mimport\u001b[39;00m ChromeDriverManager\n\u001b[1;32m      7\u001b[0m \u001b[38;5;28;01mimport\u001b[39;00m \u001b[38;5;21;01mtime\u001b[39;00m\n\u001b[1;32m      8\u001b[0m \u001b[38;5;66;03m# URL of the YouTube channel's videos page\u001b[39;00m\n",
      "\u001b[0;31mModuleNotFoundError\u001b[0m: No module named 'webdriver_manager'"
     ]
    }
   ],
   "source": [
    "from bs4 import BeautifulSoup\n",
    "import requests\n",
    "\n",
    "# URL of the YouTube channel's videos page\n",
    "url = \"https://www.youtube.com/@PW-Foundation/videos\"\n",
    "\n",
    "# Send a request to fetch the content of the page\n",
    "response = requests.get(url)\n",
    "html_content = response.text\n",
    "\n",
    "# Parse the HTML content using BeautifulSoup\n",
    "soup = BeautifulSoup(html_content, \"html.parser\")\n",
    "\n",
    "# Function to extract the posting time of the first five videos\n",
    "def extract_video_posting_times(soup, max_videos=5):\n",
    "    video_posting_times = []\n",
    "    for span in soup.find_all('span', class_='style-scope ytd-grid-video-renderer'):\n",
    "        if 'ago' in span.text:\n",
    "            video_posting_times.append(span.text.strip())\n",
    "        if len(video_posting_times) >= max_videos:\n",
    "            break\n",
    "    return video_posting_times\n",
    "\n",
    "# Extract the posting times of the first five videos\n",
    "video_posting_times = extract_video_posting_times(soup)\n",
    "\n",
    "# Print the posting times of the first five videos\n",
    "for time in video_posting_times:\n",
    "    print(time)\n"
   ]
  },
  {
   "cell_type": "code",
   "execution_count": null,
   "id": "56dcaadd-c75b-4c96-8493-918aeabeb029",
   "metadata": {},
   "outputs": [],
   "source": []
  }
 ],
 "metadata": {
  "kernelspec": {
   "display_name": "Python 3 (ipykernel)",
   "language": "python",
   "name": "python3"
  },
  "language_info": {
   "codemirror_mode": {
    "name": "ipython",
    "version": 3
   },
   "file_extension": ".py",
   "mimetype": "text/x-python",
   "name": "python",
   "nbconvert_exporter": "python",
   "pygments_lexer": "ipython3",
   "version": "3.10.8"
  }
 },
 "nbformat": 4,
 "nbformat_minor": 5
}
