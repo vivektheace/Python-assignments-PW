{
 "cells": [
  {
   "cell_type": "markdown",
   "id": "59a30177-4425-4b80-b8e5-4fd5cb10a203",
   "metadata": {},
   "source": [
    "Q1.Explain why we have to use the Exception class while creating a Custom Exception.\n",
    "Note: Here Exception class refers to the base class for all the exceptions."
   ]
  },
  {
   "cell_type": "markdown",
   "id": "3ce5562e-fab7-49c5-b845-85851e6c4269",
   "metadata": {},
   "source": [
    "In Python, creating a custom exception by subclassing the built-in Exception class is essential for several reasons:\n",
    "\n",
    "1. Inheritance of Exception Handling Mechanisms\n",
    "The Exception class is the base class for all built-in exceptions in Python. By subclassing it, your custom exception inherits all the mechanisms and properties that allow it to be used effectively within Python's exception handling framework.\n",
    "\n",
    "2. Consistency and Clarity\n",
    "By inheriting from Exception, it is clear to anyone reading your code that your class is intended to be used as an exception. This enhances the readability and maintainability of your code, making it clear how the class is meant to be used.\n",
    "\n",
    "3. Customization\n",
    "Subclassing Exception allows you to add additional functionality to your custom exceptions. You can override methods or add new attributes and methods to provide more specific information or behavior suited to your application's needs. \n",
    "\n",
    "4. Hierarchical Organization\n",
    "Creating custom exceptions by subclassing Exception allows you to organize your exceptions hierarchically. You can create a base custom exception and then create more specific exceptions that inherit from it. This is useful for handling different error conditions in a structured manner.\n",
    "\n",
    "5. Compatibility with Built-in Functions\n",
    "\n",
    "6. Avoiding Unintended Consequences\n",
    "If you create an exception that does not inherit from Exception, it will not be caught by a general except Exception block, which can lead to unexpected behavior and make your code harder to debug and maintain."
   ]
  },
  {
   "cell_type": "markdown",
   "id": "ef1eb116-fa65-4c7d-baae-3a5746cd086e",
   "metadata": {},
   "source": [
    "Q2.Write a python program to print Python Exception Hierarchy"
   ]
  },
  {
   "cell_type": "code",
   "execution_count": 1,
   "id": "4e889605-a440-45c8-a1ff-03b555079652",
   "metadata": {},
   "outputs": [
    {
     "name": "stdout",
     "output_type": "stream",
     "text": [
      "Python Exception Hierarchy:\n",
      "BaseException\n",
      "    Exception\n",
      "        TypeError\n",
      "            FloatOperation\n",
      "            MultipartConversionError\n",
      "        StopAsyncIteration\n",
      "        StopIteration\n",
      "        ImportError\n",
      "            ModuleNotFoundError\n",
      "            ZipImportError\n",
      "        OSError\n",
      "            ConnectionError\n",
      "                BrokenPipeError\n",
      "                ConnectionAbortedError\n",
      "                ConnectionRefusedError\n",
      "                ConnectionResetError\n",
      "                    RemoteDisconnected\n",
      "            BlockingIOError\n",
      "            ChildProcessError\n",
      "            FileExistsError\n",
      "            FileNotFoundError\n",
      "            IsADirectoryError\n",
      "            NotADirectoryError\n",
      "            InterruptedError\n",
      "                InterruptedSystemCall\n",
      "            PermissionError\n",
      "            ProcessLookupError\n",
      "            TimeoutError\n",
      "            UnsupportedOperation\n",
      "            itimer_error\n",
      "            herror\n",
      "            gaierror\n",
      "            SSLError\n",
      "                SSLCertVerificationError\n",
      "                SSLZeroReturnError\n",
      "                SSLWantWriteError\n",
      "                SSLWantReadError\n",
      "                SSLSyscallError\n",
      "                SSLEOFError\n",
      "            Error\n",
      "                SameFileError\n",
      "            SpecialFileError\n",
      "            ExecError\n",
      "            ReadError\n",
      "            URLError\n",
      "                HTTPError\n",
      "                ContentTooShortError\n",
      "            BadGzipFile\n",
      "        EOFError\n",
      "            IncompleteReadError\n",
      "        RuntimeError\n",
      "            RecursionError\n",
      "            NotImplementedError\n",
      "                ZMQVersionError\n",
      "                StdinNotImplementedError\n",
      "            _DeadlockError\n",
      "            BrokenBarrierError\n",
      "            BrokenExecutor\n",
      "                BrokenThreadPool\n",
      "            SendfileNotAvailableError\n",
      "            ExtractionError\n",
      "            VariableError\n",
      "        NameError\n",
      "            UnboundLocalError\n",
      "        AttributeError\n",
      "            FrozenInstanceError\n",
      "        SyntaxError\n",
      "            IndentationError\n",
      "                TabError\n",
      "        LookupError\n",
      "            IndexError\n",
      "            KeyError\n",
      "                NoSuchKernel\n",
      "                UnknownBackend\n",
      "            CodecRegistryError\n",
      "        ValueError\n",
      "            UnicodeError\n",
      "                UnicodeEncodeError\n",
      "                UnicodeDecodeError\n",
      "                UnicodeTranslateError\n",
      "            UnsupportedOperation\n",
      "            JSONDecodeError\n",
      "            SSLCertVerificationError\n",
      "            Error\n",
      "            UnsupportedDigestmodError\n",
      "            IllegalMonthError\n",
      "            IllegalWeekdayError\n",
      "            ParserError\n",
      "            ClassNotFound\n",
      "            ClipboardEmpty\n",
      "            MessageDefect\n",
      "                NoBoundaryInMultipartDefect\n",
      "                StartBoundaryNotFoundDefect\n",
      "                CloseBoundaryNotFoundDefect\n",
      "                FirstHeaderLineIsContinuationDefect\n",
      "                MisplacedEnvelopeHeaderDefect\n",
      "                MissingHeaderBodySeparatorDefect\n",
      "                MultipartInvariantViolationDefect\n",
      "                InvalidMultipartContentTransferEncodingDefect\n",
      "                UndecodableBytesDefect\n",
      "                InvalidBase64PaddingDefect\n",
      "                InvalidBase64CharactersDefect\n",
      "                InvalidBase64LengthDefect\n",
      "                HeaderDefect\n",
      "                    InvalidHeaderDefect\n",
      "                    HeaderMissingRequiredValue\n",
      "                    NonPrintableDefect\n",
      "                    ObsoleteHeaderDefect\n",
      "                    NonASCIILocalPartDefect\n",
      "                    InvalidDateDefect\n",
      "            MacroToEdit\n",
      "            InvalidFileException\n",
      "            UnequalIterablesError\n",
      "            InvalidVersion\n",
      "            _InvalidELFFileHeader\n",
      "            InvalidWheelFilename\n",
      "            InvalidSdistFilename\n",
      "            InvalidSpecifier\n",
      "            InvalidMarker\n",
      "            UndefinedComparison\n",
      "            UndefinedEnvironmentName\n",
      "            InvalidRequirement\n",
      "                RequirementParseError\n",
      "            InvalidVersion\n",
      "        AssertionError\n",
      "        ArithmeticError\n",
      "            FloatingPointError\n",
      "            OverflowError\n",
      "            ZeroDivisionError\n",
      "                DivisionByZero\n",
      "                DivisionUndefined\n",
      "            DecimalException\n",
      "                Clamped\n",
      "                Rounded\n",
      "                    Underflow\n",
      "                    Overflow\n",
      "                Inexact\n",
      "                    Underflow\n",
      "                    Overflow\n",
      "                Subnormal\n",
      "                    Underflow\n",
      "                DivisionByZero\n",
      "                FloatOperation\n",
      "                InvalidOperation\n",
      "                    ConversionSyntax\n",
      "                    DivisionImpossible\n",
      "                    DivisionUndefined\n",
      "                    InvalidContext\n",
      "        SystemError\n",
      "            CodecRegistryError\n",
      "        ReferenceError\n",
      "        MemoryError\n",
      "        BufferError\n",
      "        Warning\n",
      "            UserWarning\n",
      "                GetPassWarning\n",
      "                FormatterWarning\n",
      "            EncodingWarning\n",
      "            DeprecationWarning\n",
      "                ProvisionalWarning\n",
      "            PendingDeprecationWarning\n",
      "            SyntaxWarning\n",
      "            RuntimeWarning\n",
      "                ProactorSelectorThreadWarning\n",
      "                UnknownTimezoneWarning\n",
      "                PEP440Warning\n",
      "            FutureWarning\n",
      "                ProvisionalCompleterWarning\n",
      "            ImportWarning\n",
      "            UnicodeWarning\n",
      "            BytesWarning\n",
      "            ResourceWarning\n",
      "            DeprecatedTzFormatWarning\n",
      "            PkgResourcesDeprecationWarning\n",
      "        _OptionError\n",
      "        _Error\n",
      "        error\n",
      "        Verbose\n",
      "        Error\n",
      "        SubprocessError\n",
      "            CalledProcessError\n",
      "            TimeoutExpired\n",
      "        TokenError\n",
      "        StopTokenizing\n",
      "        ClassFoundException\n",
      "        EndOfBlock\n",
      "        TraitError\n",
      "        Error\n",
      "        Error\n",
      "            CancelledError\n",
      "            TimeoutError\n",
      "            InvalidStateError\n",
      "        _GiveupOnSendfile\n",
      "        error\n",
      "        Incomplete\n",
      "        TimeoutError\n",
      "        InvalidStateError\n",
      "        LimitOverrunError\n",
      "        QueueEmpty\n",
      "        QueueFull\n",
      "        Empty\n",
      "        Full\n",
      "        ArgumentError\n",
      "        ZMQBaseError\n",
      "            ZMQError\n",
      "                ContextTerminated\n",
      "                Again\n",
      "                InterruptedSystemCall\n",
      "            ZMQBindError\n",
      "            NotDone\n",
      "        PickleError\n",
      "            PicklingError\n",
      "            UnpicklingError\n",
      "        _Stop\n",
      "        ArgumentError\n",
      "        ArgumentTypeError\n",
      "        ConfigError\n",
      "            ConfigLoaderError\n",
      "                ArgumentError\n",
      "            ConfigFileNotFound\n",
      "        ConfigurableError\n",
      "            MultipleInstanceError\n",
      "        ApplicationError\n",
      "        error\n",
      "        TimeoutError\n",
      "        error\n",
      "        ReturnValueIgnoredError\n",
      "        KeyReuseError\n",
      "        UnknownKeyError\n",
      "        LeakedCallbackError\n",
      "        BadYieldError\n",
      "        ReturnValueIgnoredError\n",
      "        Return\n",
      "        InvalidPortNumber\n",
      "        error\n",
      "        LZMAError\n",
      "        RegistryError\n",
      "        _GiveupOnFastCopy\n",
      "        Error\n",
      "            NoSectionError\n",
      "            DuplicateSectionError\n",
      "            DuplicateOptionError\n",
      "            NoOptionError\n",
      "            InterpolationError\n",
      "                InterpolationMissingOptionError\n",
      "                InterpolationSyntaxError\n",
      "                InterpolationDepthError\n",
      "            ParsingError\n",
      "                MissingSectionHeaderError\n",
      "        NoIPAddresses\n",
      "        BadZipFile\n",
      "        LargeZipFile\n",
      "        BadEntryPoint\n",
      "        NoSuchEntryPoint\n",
      "        DuplicateKernelError\n",
      "        ErrorDuringImport\n",
      "        NotOneValueFound\n",
      "        CannotEval\n",
      "        OptionError\n",
      "        BdbQuit\n",
      "        Restart\n",
      "        ExceptionPexpect\n",
      "            EOF\n",
      "            TIMEOUT\n",
      "        PtyProcessError\n",
      "        FindCmdError\n",
      "        HomeDirError\n",
      "        ProfileDirError\n",
      "        IPythonCoreError\n",
      "            TryNext\n",
      "            UsageError\n",
      "            StdinNotImplementedError\n",
      "        InputRejected\n",
      "        GetoptError\n",
      "        ErrorToken\n",
      "        PrefilterError\n",
      "        AliasError\n",
      "            InvalidAliasError\n",
      "        Error\n",
      "            InterfaceError\n",
      "            DatabaseError\n",
      "                InternalError\n",
      "                OperationalError\n",
      "                ProgrammingError\n",
      "                IntegrityError\n",
      "                DataError\n",
      "                NotSupportedError\n",
      "        Warning\n",
      "        SpaceInInput\n",
      "        DOMException\n",
      "            IndexSizeErr\n",
      "            DomstringSizeErr\n",
      "            HierarchyRequestErr\n",
      "            WrongDocumentErr\n",
      "            InvalidCharacterErr\n",
      "            NoDataAllowedErr\n",
      "            NoModificationAllowedErr\n",
      "            NotFoundErr\n",
      "            NotSupportedErr\n",
      "            InuseAttributeErr\n",
      "            InvalidStateErr\n",
      "            SyntaxErr\n",
      "            InvalidModificationErr\n",
      "            NamespaceErr\n",
      "            InvalidAccessErr\n",
      "            ValidationErr\n",
      "        ValidationError\n",
      "        EditReadOnlyBuffer\n",
      "        _Retry\n",
      "        InvalidLayoutError\n",
      "        HeightIsUnknownError\n",
      "        ParserSyntaxError\n",
      "        InternalParseError\n",
      "        _PositionUpdatingFinished\n",
      "        SimpleGetItemNotFound\n",
      "        UncaughtAttributeError\n",
      "        HasNoContext\n",
      "        ParamIssue\n",
      "        _JediError\n",
      "            InternalError\n",
      "            WrongVersion\n",
      "            RefactoringError\n",
      "        OnErrorLeaf\n",
      "        InvalidPythonEnvironment\n",
      "        MessageError\n",
      "            MessageParseError\n",
      "                HeaderParseError\n",
      "                BoundaryError\n",
      "            MultipartConversionError\n",
      "            CharsetError\n",
      "        Error\n",
      "        HTTPException\n",
      "            NotConnected\n",
      "            InvalidURL\n",
      "            UnknownProtocol\n",
      "            UnknownTransferEncoding\n",
      "            UnimplementedFileMode\n",
      "            IncompleteRead\n",
      "            ImproperConnectionState\n",
      "                CannotSendRequest\n",
      "                CannotSendHeader\n",
      "                ResponseNotReady\n",
      "            BadStatusLine\n",
      "                RemoteDisconnected\n",
      "            LineTooLong\n",
      "        InteractivelyDefined\n",
      "        KillEmbedded\n",
      "        Error\n",
      "            NoSuchProcess\n",
      "                ZombieProcess\n",
      "            AccessDenied\n",
      "            TimeoutExpired\n",
      "        _Ipv6UnsupportedError\n",
      "        QueueEmpty\n",
      "        QueueFull\n",
      "        DebuggerInitializationError\n",
      "        ExpatError\n",
      "        Error\n",
      "            ProtocolError\n",
      "            ResponseError\n",
      "            Fault\n",
      "        ParseBaseException\n",
      "            ParseException\n",
      "            ParseFatalException\n",
      "                ParseSyntaxException\n",
      "        RecursiveGrammarException\n",
      "        ResolutionError\n",
      "            VersionConflict\n",
      "                ContextualVersionConflict\n",
      "            DistributionNotFound\n",
      "            UnknownExtra\n",
      "        _Error\n",
      "        UnableToResolveVariableException\n",
      "        InvalidTypeInArgsException\n",
      "    GeneratorExit\n",
      "    SystemExit\n",
      "    KeyboardInterrupt\n",
      "    CancelledError\n",
      "    AbortThread\n"
     ]
    }
   ],
   "source": [
    "import inspect\n",
    "import builtins\n",
    "\n",
    "def print_exception_hierarchy(exception, level=0):\n",
    "    print(' ' * (level * 4) + exception.__name__)\n",
    "    subclasses = exception.__subclasses__()\n",
    "    for subclass in subclasses:\n",
    "        print_exception_hierarchy(subclass, level + 1)\n",
    "\n",
    "if __name__ == \"__main__\":\n",
    "    print(\"Python Exception Hierarchy:\")\n",
    "    print_exception_hierarchy(BaseException)\n"
   ]
  },
  {
   "cell_type": "markdown",
   "id": "1ed7f273-dfd2-4cd3-84ea-8724148235f8",
   "metadata": {},
   "source": [
    "Q3. What errors are defined in the ArithmeticError class? Explain any two with an example."
   ]
  },
  {
   "cell_type": "markdown",
   "id": "07c14d35-4112-43cf-abac-b0a891585cb0",
   "metadata": {},
   "source": [
    "In Python, the ArithmeticError class is a built-in exception class that serves as the base class for all errors that occur during arithmetic operations. The primary errors defined in the ArithmeticError class are:\n",
    "\n",
    "ZeroDivisionError\n",
    "OverflowError\n",
    "FloatingPointError\n",
    "ZeroDivisionError\n",
    "\n",
    "The ZeroDivisionError occurs when a division or modulo operation is attempted with zero as the divisor.\n",
    "Example:"
   ]
  },
  {
   "cell_type": "code",
   "execution_count": 1,
   "id": "81c8a846-4903-4de2-bdb1-65d724495539",
   "metadata": {},
   "outputs": [
    {
     "name": "stdout",
     "output_type": "stream",
     "text": [
      "Caught an exception: division by zero\n"
     ]
    }
   ],
   "source": [
    "try:\n",
    "    result = 10 / 0\n",
    "except ZeroDivisionError as e:\n",
    "    print(f\"Caught an exception: {e}\")"
   ]
  },
  {
   "cell_type": "markdown",
   "id": "06c7523a-b2d8-462b-9820-434de97114f1",
   "metadata": {},
   "source": [
    "OverflowError\n",
    "The OverflowError occurs when a result of an arithmetic operation is too large to be expressed within the range allowed by the numeric type.\n",
    "Example:"
   ]
  },
  {
   "cell_type": "code",
   "execution_count": 2,
   "id": "cbb38537-ac4b-4860-8146-cef00a86e2d6",
   "metadata": {},
   "outputs": [
    {
     "name": "stdout",
     "output_type": "stream",
     "text": [
      "Caught an exception: math range error\n"
     ]
    }
   ],
   "source": [
    "import math\n",
    "\n",
    "try:\n",
    "    result = math.exp(1000)  # Exponential function with a large argument\n",
    "except OverflowError as e:\n",
    "    print(f\"Caught an exception: {e}\")"
   ]
  },
  {
   "cell_type": "markdown",
   "id": "324bb354-25c0-4a71-81e8-c31de5c6abec",
   "metadata": {},
   "source": [
    "Q4. Why LookupError class is used? Explain with an example KeyError and IndexError."
   ]
  },
  {
   "cell_type": "markdown",
   "id": "410e4685-5a30-45db-bcec-3e2affe5ce3f",
   "metadata": {},
   "source": [
    "The LookupError class in Python is a built-in exception class that serves as a base class for exceptions raised when a lookup or indexing operation fails. This includes situations where a key or index used to access an element in a collection (like a dictionary or list) is not found. Two common exceptions derived from LookupError are KeyError and IndexError.\n",
    "\n",
    "KeyError\n",
    "A KeyError is raised when you try to access a dictionary with a key that doesn't exist in the dictionary. Here’s an example:"
   ]
  },
  {
   "cell_type": "code",
   "execution_count": 3,
   "id": "c18d569d-b2f3-4bb6-9840-3526212bdfff",
   "metadata": {},
   "outputs": [
    {
     "name": "stdout",
     "output_type": "stream",
     "text": [
      "KeyError: 'address'\n"
     ]
    }
   ],
   "source": [
    "my_dict = {'name': 'Alice', 'age': 25}\n",
    "\n",
    "try:\n",
    "    print(my_dict['address'])\n",
    "except KeyError as e:\n",
    "    print(f\"KeyError: {e}\")"
   ]
  },
  {
   "cell_type": "markdown",
   "id": "c76f306c-64f6-4c14-a37d-d54f1d0bd4c1",
   "metadata": {},
   "source": [
    "In this example, trying to access the key 'address' in my_dict results in a KeyError because 'address' is not a key in the dictionary."
   ]
  },
  {
   "cell_type": "markdown",
   "id": "61cea66d-ab1e-4a15-b12a-682419eac626",
   "metadata": {},
   "source": [
    "IndexError\n",
    "An IndexError is raised when you try to access a list (or other sequence) with an index that is out of the valid range. Here’s an example:"
   ]
  },
  {
   "cell_type": "code",
   "execution_count": 5,
   "id": "b46e684f-99de-4c6b-b3be-d219a91a7ff4",
   "metadata": {},
   "outputs": [
    {
     "name": "stdout",
     "output_type": "stream",
     "text": [
      "IndexError: list index out of range\n"
     ]
    }
   ],
   "source": [
    "my_list = [1, 2, 3]\n",
    "\n",
    "try:\n",
    "    print(my_list[5])\n",
    "except IndexError as e:\n",
    "    print(f\"IndexError: {e}\")"
   ]
  },
  {
   "cell_type": "markdown",
   "id": "3aa735a4-d324-469e-af48-fd6b5bec06ed",
   "metadata": {},
   "source": [
    "In this example, trying to access the index 5 in my_list results in an IndexError because the list only has three elements (with indices 0, 1, and 2)"
   ]
  },
  {
   "cell_type": "markdown",
   "id": "8775439f-e716-4a58-8165-dca94edb7ae6",
   "metadata": {},
   "source": [
    "The LookupError class is used as a base class for both KeyError and IndexError to provide a common interface for handling errors related to failed lookups. This allows for more general exception handling. For instance:"
   ]
  },
  {
   "cell_type": "code",
   "execution_count": 6,
   "id": "29fbb213-0dd6-4579-9565-5efe6211f739",
   "metadata": {},
   "outputs": [
    {
     "name": "stdout",
     "output_type": "stream",
     "text": [
      "LookupError: 'address'\n",
      "LookupError: list index out of range\n"
     ]
    }
   ],
   "source": [
    "try:\n",
    "    print(my_dict['address'])\n",
    "except LookupError as e:\n",
    "    print(f\"LookupError: {e}\")\n",
    "\n",
    "try:\n",
    "    print(my_list[5])\n",
    "except LookupError as e:\n",
    "    print(f\"LookupError: {e}\")"
   ]
  },
  {
   "cell_type": "markdown",
   "id": "479d3460-3f43-477b-ae45-d57006d50975",
   "metadata": {},
   "source": [
    "In this example, the LookupError base class is used to catch both KeyError and IndexError exceptions, enabling a more generalized error handling approach."
   ]
  },
  {
   "cell_type": "markdown",
   "id": "0d7640a2-581a-4539-9f49-f5630471d22b",
   "metadata": {},
   "source": [
    "Q5. Explain ImportError. What is ModuleNotFoundError?"
   ]
  },
  {
   "cell_type": "markdown",
   "id": "521dfc95-faf6-4813-84c7-9dd5eb92b3d3",
   "metadata": {},
   "source": [
    "In Python, ImportError and ModuleNotFoundError are exceptions related to the import system, which allows you to include modules and packages in your program.\n",
    "\n",
    "ImportError\n",
    "ImportError is a built-in exception that is raised when an import statement has trouble trying to load a module. This can happen for several reasons, including:\n",
    "\n",
    "-The module does not exist: If Python cannot find a module with the specified name.\n",
    "-The module exists, but there are errors in the module: If there are syntax errors or other issues in the module that prevent it from being loaded.\n",
    "-Cyclic imports: If there is a circular dependency between modules.\n",
    "-Relative imports issues: Problems with using relative imports in a package.\n",
    "\n",
    "Here's an example of how ImportError can occur:"
   ]
  },
  {
   "cell_type": "code",
   "execution_count": 7,
   "id": "17ccc6db-a88d-4e62-b1ab-9c6f593bdb8d",
   "metadata": {},
   "outputs": [
    {
     "name": "stdout",
     "output_type": "stream",
     "text": [
      "ImportError: No module named 'some_nonexistent_module'\n"
     ]
    }
   ],
   "source": [
    "try:\n",
    "    import some_nonexistent_module\n",
    "except ImportError as e:\n",
    "    print(f\"ImportError: {e}\")\n"
   ]
  },
  {
   "cell_type": "markdown",
   "id": "064016f1-e962-4009-beae-db60efdd7017",
   "metadata": {},
   "source": [
    "In this case, some_nonexistent_module does not exist, so ImportError is raised."
   ]
  },
  {
   "cell_type": "markdown",
   "id": "2ab8ce2a-0891-403f-bcaa-917dcf64d9fb",
   "metadata": {},
   "source": [
    "ModuleNotFoundError\n",
    "ModuleNotFoundError is a subclass of ImportError .It is a more specific error that is raised when the module you are trying to import cannot be found. This makes it easier to catch specific errors related to missing modules as opposed to other import-related issues.\n",
    "\n",
    "Here's an example of how ModuleNotFoundError can be used:"
   ]
  },
  {
   "cell_type": "code",
   "execution_count": 8,
   "id": "6d0ec8ea-84d5-44bf-b70d-c3212ce4b8cd",
   "metadata": {},
   "outputs": [
    {
     "name": "stdout",
     "output_type": "stream",
     "text": [
      "ModuleNotFoundError: No module named 'some_nonexistent_module'\n"
     ]
    }
   ],
   "source": [
    "try:\n",
    "    import some_nonexistent_module\n",
    "except ModuleNotFoundError as e:\n",
    "    print(f\"ModuleNotFoundError: {e}\")"
   ]
  },
  {
   "cell_type": "markdown",
   "id": "84f112ca-1065-43bc-a03f-75e8e2cd4602",
   "metadata": {},
   "source": [
    "In this case, ModuleNotFoundError is raised because some_nonexistent_module cannot be found."
   ]
  },
  {
   "cell_type": "markdown",
   "id": "ba3b47d3-0e77-4761-9cfe-5bc6f5ab6de9",
   "metadata": {},
   "source": [
    "Relationship Between ImportError and ModuleNotFoundError\n",
    "ModuleNotFoundError is a subclass of ImportError.\n",
    "If a ModuleNotFoundError is raised, it will also be caught by an ImportError except block, because ModuleNotFoundError inherits from ImportError.\n",
    "However, catching ModuleNotFoundError specifically allows you to handle missing modules separately from other import-related issues."
   ]
  },
  {
   "cell_type": "markdown",
   "id": "d9e45d77-7f2a-4dcb-bcd7-5f224e6b80ce",
   "metadata": {},
   "source": [
    "Q6. List down some best practices for exception handling in python."
   ]
  },
  {
   "cell_type": "markdown",
   "id": "c4db4770-e46d-4752-8d6a-3f331ee29c2e",
   "metadata": {},
   "source": [
    "Exception handling is a crucial part of writing robust and maintainable Python code. Here are some best practices for handling exceptions in Python:\n",
    "\n",
    "1.Catch Specific Exceptions:\n",
    "Always catch specific exceptions instead of using a bare except: clause. This helps in identifying the exact error and makes debugging easier."
   ]
  },
  {
   "cell_type": "code",
   "execution_count": null,
   "id": "262134c4-b3d4-4add-bb13-bac3d4651a02",
   "metadata": {},
   "outputs": [],
   "source": [
    "try:\n",
    "    # Some code that might raise an exception\n",
    "except ValueError:\n",
    "    # Handle ValueError\n",
    "except KeyError:\n",
    "    # Handle KeyError\n"
   ]
  },
  {
   "cell_type": "markdown",
   "id": "87809a0d-7e20-439e-be69-2b04e5e4b65e",
   "metadata": {},
   "source": [
    "2.Avoid Swallowing Exceptions:\n",
    "\n",
    "Do not use a bare except: clause as it can hide bugs. Always try to handle or log exceptions properly."
   ]
  },
  {
   "cell_type": "code",
   "execution_count": null,
   "id": "949b64d6-3ae2-4320-acd1-08d8f74e5a7a",
   "metadata": {},
   "outputs": [],
   "source": [
    "try:\n",
    "    # Some code\n",
    "except Exception as e:\n",
    "    print(f\"An error occurred: {e}\")"
   ]
  },
  {
   "cell_type": "markdown",
   "id": "c7a85791-ecb3-4f23-9d24-1917a47ee6a5",
   "metadata": {},
   "source": [
    "3.Use Finally Block for Cleanup:\n",
    "\n",
    "Use the finally block to ensure that resources are cleaned up properly, such as closing files or releasing locks."
   ]
  },
  {
   "cell_type": "code",
   "execution_count": null,
   "id": "85f8b271-32a0-492f-b197-90ba749e6c25",
   "metadata": {},
   "outputs": [],
   "source": [
    "try:\n",
    "    # Code that might raise an exception\n",
    "finally:\n",
    "    # Cleanup code that will run no matter what\n"
   ]
  },
  {
   "cell_type": "markdown",
   "id": "bc44a139-c61f-4abe-af51-6853cd0c834d",
   "metadata": {},
   "source": [
    "4 Use Else Block for Code that Runs If No Exceptions Are Raised:\n",
    "\n",
    "The else block can be used to separate the code that should only run if the try block does not raise an exception."
   ]
  },
  {
   "cell_type": "code",
   "execution_count": null,
   "id": "3a10fec3-b180-4407-8e98-5f173fa15d76",
   "metadata": {},
   "outputs": [],
   "source": [
    "try:\n",
    "    # Code that might raise an exception\n",
    "except SomeException:\n",
    "    # Handle exception\n",
    "else:\n",
    "    # Code that runs if no exception occurs\n"
   ]
  },
  {
   "cell_type": "markdown",
   "id": "e37c1697-3317-4a15-ab1d-e16cae405220",
   "metadata": {},
   "source": [
    "5 Log Exceptions:\n",
    "Use logging to record exceptions. This is helpful for debugging and understanding the flow of the program when it fails."
   ]
  },
  {
   "cell_type": "code",
   "execution_count": null,
   "id": "ce266015-3fde-4eb2-85ab-f049e744947b",
   "metadata": {},
   "outputs": [],
   "source": [
    "import logging\n",
    "\n",
    "logging.basicConfig(level=logging.ERROR)\n",
    "\n",
    "try:\n",
    "    # Some code that might raise an exception\n",
    "except Exception as e:\n",
    "    logging.error(\"An error occurred\", exc_info=True)\n"
   ]
  },
  {
   "cell_type": "markdown",
   "id": "6299be50-af42-45cc-bb1f-2ec0065fba46",
   "metadata": {},
   "source": [
    "6. Avoid Catching Exception Base Class:\n",
    "\n",
    "Avoid catching Exception unless necessary, and never catch BaseException which includes exceptions like KeyboardInterrupt."
   ]
  },
  {
   "cell_type": "code",
   "execution_count": null,
   "id": "3d72c5c1-cd60-4429-bfe3-e1784085edde",
   "metadata": {},
   "outputs": [],
   "source": [
    "try:\n",
    "    # Some code\n",
    "except Exception:\n",
    "    # This is okay for catching general exceptions\n",
    "except BaseException:\n",
    "    # Avoid this; catches too much, including system exit signals\n"
   ]
  },
  {
   "cell_type": "markdown",
   "id": "4e059792-d1e1-445b-8652-04d220f281ee",
   "metadata": {},
   "source": [
    "7. Use Custom Exceptions for Specific Scenarios:\n",
    "\n",
    "Define custom exception classes for your application to handle specific error conditions."
   ]
  },
  {
   "cell_type": "code",
   "execution_count": null,
   "id": "44de0af4-8b80-4553-9d86-6b541f030f0c",
   "metadata": {},
   "outputs": [],
   "source": [
    "class MyCustomError(Exception):\n",
    "    pass\n",
    "\n",
    "try:\n",
    "    # Some code\n",
    "    raise MyCustomError(\"A custom error occurred\")\n",
    "except MyCustomError as e:\n",
    "    print(e)\n"
   ]
  },
  {
   "cell_type": "markdown",
   "id": "b2243789-20e1-4737-943b-2dc634aaac71",
   "metadata": {},
   "source": [
    "8. Re-raise Exceptions if Necessary:\n",
    "\n",
    "Sometimes it is necessary to re-raise an exception after catching it, especially if you need to handle it partially and pass it up the call stack."
   ]
  },
  {
   "cell_type": "code",
   "execution_count": null,
   "id": "bc299dc8-48f4-4728-bdda-9188a5433c6b",
   "metadata": {},
   "outputs": [],
   "source": [
    "try:\n",
    "    # Some code\n",
    "except SomeException as e:\n",
    "    # Handle exception\n",
    "    raise  # Re-raise the caught exception\n"
   ]
  },
  {
   "cell_type": "markdown",
   "id": "646fc151-8a97-4cde-a4ec-0a81f7e68157",
   "metadata": {},
   "source": [
    "9.Use Context Managers for Resource Management:\n",
    "\n",
    "Use context managers (with statement) to handle resources like file operations, which automatically handle exceptions and clean up resources."
   ]
  },
  {
   "cell_type": "code",
   "execution_count": null,
   "id": "eac94a33-fb74-442e-aaf7-a49d7ebb53c4",
   "metadata": {},
   "outputs": [],
   "source": [
    "with open('file.txt', 'r') as file:\n",
    "    data = file.read()"
   ]
  },
  {
   "cell_type": "markdown",
   "id": "f9e89b75-569c-4849-a4bf-56cb4478545f",
   "metadata": {},
   "source": [
    "Be Cautious with Exception Chaining:\n",
    "\n",
    "When catching and re-raising exceptions, use the from keyword to maintain the exception chain, which helps in debugging."
   ]
  },
  {
   "cell_type": "code",
   "execution_count": null,
   "id": "91af76a0-9698-4f0b-bf33-85ea6e5a5e19",
   "metadata": {},
   "outputs": [],
   "source": [
    "try:\n",
    "    # Some code\n",
    "except SomeException as e:\n",
    "    raise AnotherException(\"An error occurred\") from e\n"
   ]
  },
  {
   "cell_type": "markdown",
   "id": "c1794e89-309d-4797-810d-55c7ffc34bcb",
   "metadata": {},
   "source": [
    "By following these best practices, you can write more reliable and maintainable Python code, ensuring that exceptions are handled appropriately and debugging is facilitated."
   ]
  },
  {
   "cell_type": "code",
   "execution_count": null,
   "id": "4d402bac-0aa3-44c1-b1d7-a5bab78b3185",
   "metadata": {},
   "outputs": [],
   "source": []
  }
 ],
 "metadata": {
  "kernelspec": {
   "display_name": "Python 3 (ipykernel)",
   "language": "python",
   "name": "python3"
  },
  "language_info": {
   "codemirror_mode": {
    "name": "ipython",
    "version": 3
   },
   "file_extension": ".py",
   "mimetype": "text/x-python",
   "name": "python",
   "nbconvert_exporter": "python",
   "pygments_lexer": "ipython3",
   "version": "3.10.8"
  }
 },
 "nbformat": 4,
 "nbformat_minor": 5
}
