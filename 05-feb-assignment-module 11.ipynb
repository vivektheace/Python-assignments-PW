{
 "cells": [
  {
   "cell_type": "markdown",
   "id": "8cef3664-31ad-463c-8c2d-30dc6adcdc4f",
   "metadata": {},
   "source": [
    "Q1. Explain Class and Object with respect to Object-Oriented Programming. Give a suitable example"
   ]
  },
  {
   "cell_type": "markdown",
   "id": "c3f29af5-e9b1-4e31-bd6e-df322a916c95",
   "metadata": {},
   "source": [
    "In object-oriented programming (OOP), a class is a blueprint or template for creating objects. It defines a set of attributes and methods that the objects from the class will have. An object, on the other hand, is an instance of a class, representing a specific entity with its own unique characteristics and behavior."
   ]
  },
  {
   "cell_type": "code",
   "execution_count": 9,
   "id": "0127dafa-b43c-4d0c-8d77-9f4fb318f697",
   "metadata": {},
   "outputs": [],
   "source": [
    "class Car:\n",
    "    def __init__(self, make, model, year):\n",
    "        self.make = make\n",
    "        self.model = model\n",
    "        self.year = year\n",
    "        self.speed = 0\n",
    "        \n",
    "        def display_info(self):\n",
    "            print(f\"{self.year} {self.make} {self.model}\")\n",
    "        \n",
    "        def accelerate(self, speed_increment):\n",
    "            self.speed += speed_increment \n",
    "            print(f\"The car is now moving at {self.speed} mph.\")   "
   ]
  },
  {
   "cell_type": "code",
   "execution_count": 12,
   "id": "35ca825b-6688-401c-b1a4-43b50b99e36f",
   "metadata": {},
   "outputs": [],
   "source": [
    "my_car = Car(\"Toyota\", \"Camry\", 2022)"
   ]
  },
  {
   "cell_type": "markdown",
   "id": "4c8bcaaa-2f91-459c-9635-e423f582b29f",
   "metadata": {},
   "source": [
    "In this example, the Car class has attributes like make, model, year, and speed, as well as methods like display_info, accelerate.The my_car object is an instance of the Car class, with specific values for its attributes. The object can call methods and access attributes defined in its class."
   ]
  },
  {
   "cell_type": "markdown",
   "id": "687aa6a9-13bf-4623-8c30-f0fd288fe57a",
   "metadata": {},
   "source": [
    "Q2. Name the four pillars of OOPs"
   ]
  },
  {
   "cell_type": "markdown",
   "id": "2f4555ac-88d1-4bc5-b662-417226124581",
   "metadata": {},
   "source": [
    "The four pillars of Object-Oriented Programming (OOP) are:\n",
    "\n",
    "1.Encapsulation: Encapsulation is the bundling of data (attributes) and the methods (functions) that operate on the data into a single unit called a class. It involves hiding the internal details of an object and restricting access to its internal state. Encapsulation helps in data hiding and promoting modularity.\n",
    "\n",
    "2.Abstraction: Abstraction is the process of simplifying complex systems by modeling classes based on the essential properties and behaviors they share. It involves focusing on the essential characteristics of an object while ignoring the irrelevant details. Abstraction allows programmers to create a simplified model of a real-world system.\n",
    "\n",
    "3.Inheritance: Inheritance is a mechanism that allows a new class (subclass or derived class) to inherit properties and behaviors of an existing class (superclass or base class). It promotes code reuse and the creation of a hierarchical structure in which a subclass inherits attributes and methods from its superclass. Inheritance facilitates the building of relationships between classes.\n",
    "\n",
    "4.Polymorphism: Polymorphism means \"many forms.\" It allows objects of different types to be treated as objects of a common type. Polymorphism can occur at compile time (compile-time polymorphism or method overloading) or at runtime (runtime polymorphism or method overriding). It enhances flexibility and allows the same code to work with different types of objects.\n",
    "\n",
    "These four pillars collectively provide a foundation for organizing and designing code in a way that promotes modularity, reusability, and maintainability."
   ]
  },
  {
   "cell_type": "markdown",
   "id": "78c4f6d6-ac5c-4ee4-978f-c479fab5b0be",
   "metadata": {},
   "source": [
    "Q3. Explain why the __init__() function is used. Give a suitable example"
   ]
  },
  {
   "cell_type": "markdown",
   "id": "e91e0ce2-6f7a-49d2-b182-f1868d2b1ff8",
   "metadata": {},
   "source": [
    "In object-oriented programming, the __init__() function is a special method used in classes in Python. It stands for \"initialize\" and is called automatically when an object is created from a class. The primary purpose of __init__() is to initialize the attributes of the object, setting their initial values."
   ]
  },
  {
   "cell_type": "code",
   "execution_count": 13,
   "id": "10164175-5dfa-4012-b90b-c20e215871d5",
   "metadata": {},
   "outputs": [
    {
     "name": "stdout",
     "output_type": "stream",
     "text": [
      "Dog's name: Buddy\n",
      "Dog's age: 3\n"
     ]
    }
   ],
   "source": [
    "class Dog:\n",
    "    def __init__(self, name, age):\n",
    "        self.name = name\n",
    "        self.age = age\n",
    "\n",
    "my_dog = Dog(\"Buddy\",3)"
   ]
  },
  {
   "cell_type": "markdown",
   "id": "0f43185d-a3bd-462d-84b2-6c3eeb1f2d0c",
   "metadata": {},
   "source": [
    "Q4. Why self is used in OOPs?"
   ]
  },
  {
   "cell_type": "markdown",
   "id": "2c4753a2-9bc9-444f-9f27-4bd8da15759a",
   "metadata": {},
   "source": [
    "In object-oriented programming (OOP), the concept of \"self\" in Python is a reference to the instance of the class. It is a way for an object to refer to itself within its own scope. The use of \"self\" is essential in Python to distinguish between instance variables and class variables and to access or modify the attributes and methods of an object.\n",
    " It helps maintain clarity and avoids ambiguity, especially when dealing with multiple instances of the same class."
   ]
  },
  {
   "cell_type": "markdown",
   "id": "e9488643-cfd7-4dc0-bfdf-680cbce85bce",
   "metadata": {},
   "source": [
    "Q5. What is inheritance? Give an example for each type of inheritance."
   ]
  },
  {
   "cell_type": "markdown",
   "id": "10f9c763-af5b-4c2a-854d-34f9dadb8058",
   "metadata": {},
   "source": [
    "Inheritance is a fundamental concept in object-oriented programming (OOP) that allows a class (subclass or derived class) to inherit properties and behaviors (attributes and methods) from another class (base class or superclass). This promotes code reusability and helps in creating a hierarchy of classes."
   ]
  },
  {
   "cell_type": "markdown",
   "id": "addeb330-d181-419c-837f-ca22464742ad",
   "metadata": {},
   "source": [
    "1.Single Inheritance:\n",
    "In single inheritance, a class inherits from only one superclass."
   ]
  },
  {
   "cell_type": "code",
   "execution_count": 1,
   "id": "ee41aad4-1d65-42b9-8fa7-cf259582b179",
   "metadata": {},
   "outputs": [
    {
     "name": "stdout",
     "output_type": "stream",
     "text": [
      "Animal speaks\n",
      "Dog barks\n"
     ]
    }
   ],
   "source": [
    "class Animal:\n",
    "    def speak(self):\n",
    "        print(\"Animal speaks\")\n",
    "\n",
    "class Dog(Animal):\n",
    "    def bark(self):\n",
    "        print(\"Dog barks\")\n",
    "\n",
    "\n",
    "dog = Dog()\n",
    "dog.speak()\n",
    "dog.bark()\n"
   ]
  },
  {
   "cell_type": "markdown",
   "id": "d44a35d6-68d1-40e4-bd6f-c32622a6c3c9",
   "metadata": {},
   "source": [
    "2.Multiple Inheritance:\n",
    "In multiple inheritance, a class can inherit from more than one superclass."
   ]
  },
  {
   "cell_type": "code",
   "execution_count": 3,
   "id": "0dfaecfb-6e25-4731-b4d8-28d82e510e6c",
   "metadata": {},
   "outputs": [
    {
     "name": "stdout",
     "output_type": "stream",
     "text": [
      "Bird chirps\n",
      "Mammal runs\n",
      "Bat flies\n"
     ]
    }
   ],
   "source": [
    "class Bird:\n",
    "    def chirp(self):\n",
    "        print(\"Bird chirps\")\n",
    "\n",
    "class Mammal:\n",
    "    def run(self):\n",
    "        print(\"Mammal runs\")\n",
    "\n",
    "class Bat(Bird, Mammal):\n",
    "    def fly(self):\n",
    "        print(\"Bat flies\")\n",
    "\n",
    "\n",
    "bat = Bat()\n",
    "bat.chirp()  \n",
    "bat.run()    \n",
    "bat.fly()\n"
   ]
  },
  {
   "cell_type": "markdown",
   "id": "deb3a883-43e7-451c-9156-d236ccfb42c5",
   "metadata": {},
   "source": [
    "3.Multilevel Inheritance:\n",
    "In multilevel inheritance, a class inherits from another class, and then another class inherits from that derived class."
   ]
  },
  {
   "cell_type": "code",
   "execution_count": 4,
   "id": "48551b10-4d5e-469b-83b6-792286f5769f",
   "metadata": {},
   "outputs": [
    {
     "name": "stdout",
     "output_type": "stream",
     "text": [
      "Vehicle started\n",
      "Car is being driven\n",
      "SportsCar is racing\n"
     ]
    }
   ],
   "source": [
    "class Vehicle:\n",
    "    def start(self):\n",
    "        print(\"Vehicle started\")\n",
    "\n",
    "class Car(Vehicle):\n",
    "    def drive(self):\n",
    "        print(\"Car is being driven\")\n",
    "\n",
    "class SportsCar(Car):\n",
    "    def race(self):\n",
    "        print(\"SportsCar is racing\")\n",
    "        \n",
    "sports_car = SportsCar()\n",
    "sports_car.start()  \n",
    "sports_car.drive()  \n",
    "sports_car.race()\n"
   ]
  },
  {
   "cell_type": "code",
   "execution_count": null,
   "id": "99b93958-9f2d-4ca4-827e-a36b5466f1c4",
   "metadata": {},
   "outputs": [],
   "source": []
  }
 ],
 "metadata": {
  "kernelspec": {
   "display_name": "Python 3 (ipykernel)",
   "language": "python",
   "name": "python3"
  },
  "language_info": {
   "codemirror_mode": {
    "name": "ipython",
    "version": 3
   },
   "file_extension": ".py",
   "mimetype": "text/x-python",
   "name": "python",
   "nbconvert_exporter": "python",
   "pygments_lexer": "ipython3",
   "version": "3.10.8"
  }
 },
 "nbformat": 4,
 "nbformat_minor": 5
}
