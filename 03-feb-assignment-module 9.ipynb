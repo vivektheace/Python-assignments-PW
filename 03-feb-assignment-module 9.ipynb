{
 "cells": [
  {
   "cell_type": "markdown",
   "id": "26effa18-858d-4904-af59-96e8d0ad1449",
   "metadata": {},
   "source": [
    "Q1. Which keyword is used to create a function? Create a function to return a list of odd numbers in the range of 1 to 25"
   ]
  },
  {
   "cell_type": "markdown",
   "id": "cb0eb7fd-653f-4bf9-adb6-ac7b96e6c964",
   "metadata": {},
   "source": [
    "\"def\" keyword is used to create a function."
   ]
  },
  {
   "cell_type": "code",
   "execution_count": 41,
   "id": "8371e238-c782-431a-a6ce-1c7abc1566a6",
   "metadata": {},
   "outputs": [],
   "source": [
    "def get_odd_num():\n",
    "        odd_numbers =[num for num in range(1, 26) if num % 2 != 0]\n",
    "        return odd_numbers"
   ]
  },
  {
   "cell_type": "code",
   "execution_count": 42,
   "id": "00c31b7a-2284-452d-8a41-0698b2eda04e",
   "metadata": {},
   "outputs": [
    {
     "data": {
      "text/plain": [
       "[1, 3, 5, 7, 9, 11, 13, 15, 17, 19, 21, 23, 25]"
      ]
     },
     "execution_count": 42,
     "metadata": {},
     "output_type": "execute_result"
    }
   ],
   "source": [
    "get_odd_num()"
   ]
  },
  {
   "cell_type": "markdown",
   "id": "f103e283-07a7-4109-85f0-c1690f6fa3c8",
   "metadata": {},
   "source": [
    "Q2.. Why *args and **kwargs is used in some functions? Create a function each for *args and **kwargs to demonstrate their use."
   ]
  },
  {
   "cell_type": "markdown",
   "id": "4b89da2d-177b-40cf-8878-ba2a533be829",
   "metadata": {},
   "source": [
    "*args is used to pass n number of arguements in a function , and there arguements are kept by the funcytion in the from of tuple args is a convention not a keyword\n",
    "**kwargs is used in python if the user want data in the form of dict"
   ]
  },
  {
   "cell_type": "code",
   "execution_count": 44,
   "id": "693b8549-ec6d-4694-94ae-f00f58a142b7",
   "metadata": {},
   "outputs": [],
   "source": [
    "def test1(*args) :\n",
    "    return args"
   ]
  },
  {
   "cell_type": "code",
   "execution_count": 46,
   "id": "2a282e60-bd24-4ee6-8945-94b1d6dc6006",
   "metadata": {},
   "outputs": [
    {
     "data": {
      "text/plain": [
       "tuple"
      ]
     },
     "execution_count": 46,
     "metadata": {},
     "output_type": "execute_result"
    }
   ],
   "source": [
    "type(test1())"
   ]
  },
  {
   "cell_type": "code",
   "execution_count": 47,
   "id": "d9bc5030-415b-4978-bf58-9f7bb0d4354c",
   "metadata": {},
   "outputs": [
    {
     "data": {
      "text/plain": [
       "(1, 2, 3, 'vivek', 'dwivedi', [7, 34, 5, 6, 7])"
      ]
     },
     "execution_count": 47,
     "metadata": {},
     "output_type": "execute_result"
    }
   ],
   "source": [
    "test1(1,2,3,\"vivek\",\"dwivedi\",[7,34,5,6,7])"
   ]
  },
  {
   "cell_type": "code",
   "execution_count": 48,
   "id": "5c8b9a71-19cf-43ca-8540-443f7e656539",
   "metadata": {},
   "outputs": [],
   "source": [
    "def test2(**kwargs) :\n",
    "    return kwargs"
   ]
  },
  {
   "cell_type": "code",
   "execution_count": 49,
   "id": "6099b005-eb05-4816-b420-6ab9e9c4ca23",
   "metadata": {},
   "outputs": [
    {
     "data": {
      "text/plain": [
       "dict"
      ]
     },
     "execution_count": 49,
     "metadata": {},
     "output_type": "execute_result"
    }
   ],
   "source": [
    "type(test2())"
   ]
  },
  {
   "cell_type": "code",
   "execution_count": 50,
   "id": "f57d0865-6c52-4161-94a9-37fdcd807e5f",
   "metadata": {},
   "outputs": [
    {
     "data": {
      "text/plain": [
       "{'a': [1, 2, 3, 4], 'b': 'dwivedi', 'c': 28.07}"
      ]
     },
     "execution_count": 50,
     "metadata": {},
     "output_type": "execute_result"
    }
   ],
   "source": [
    "test2(a=[1,2,3,4] , b = \"dwivedi\" , c = 28.07)"
   ]
  },
  {
   "cell_type": "markdown",
   "id": "db1ba3c5-b54c-4d7d-a9ad-1b3ae5fc93a6",
   "metadata": {},
   "source": [
    "Q3. What is an iterator in python? Name the method used to initialise the iterator object and the method used for iteration. Use these methods to print the first five elements of the given list [2, 4, 6, 8, 10, 12, 14,16, 18, 20]."
   ]
  },
  {
   "cell_type": "markdown",
   "id": "ced72414-2e67-473a-8af2-725ee830c434",
   "metadata": {},
   "source": [
    "an iterator is an object that allows you to traverse a container, such as a list, tuple, or dictionary, and access its elements one at a time. Iterators implement two methods: __iter__ and __next__.\n",
    "\n",
    "the process of initializing an iterator object is typically done using the iter() function, and the iteration is carried out using the next() function. \n",
    "\n",
    "Initialization of Iterator Object:\n",
    "\n",
    "The iter() function is used to create an iterator object from an iterable. For example :"
   ]
  },
  {
   "cell_type": "code",
   "execution_count": 51,
   "id": "8220281a-97cf-4432-8d77-0fe49620a135",
   "metadata": {},
   "outputs": [],
   "source": [
    "l =[1,2,3,4,5]\n",
    "my_iterator = iter(l)"
   ]
  },
  {
   "cell_type": "markdown",
   "id": "383f1bfe-3c7f-4d97-a52e-7ac7a21af50e",
   "metadata": {},
   "source": [
    "In this example, my_iterator is now an iterator object created from the my_list iterable"
   ]
  },
  {
   "cell_type": "markdown",
   "id": "4aa8773b-5463-45e8-8c46-5fdf6183982b",
   "metadata": {},
   "source": [
    "Iteration using next() Method:\n",
    "\n",
    "The next() function is used to retrieve the next item from an iterator. For example:"
   ]
  },
  {
   "cell_type": "code",
   "execution_count": 53,
   "id": "7b6d2df7-b8d4-4cb1-81c4-f1e6800c8780",
   "metadata": {},
   "outputs": [],
   "source": [
    "my_value = next(my_iterator)"
   ]
  },
  {
   "cell_type": "markdown",
   "id": "34b3f492-ef0e-40f3-89a1-776b2f4a0d38",
   "metadata": {},
   "source": [
    "This would return the next value from my_iterator. Each subsequent call to next() will retrieve the next item in the sequence"
   ]
  },
  {
   "cell_type": "code",
   "execution_count": 54,
   "id": "420999a5-5f4a-4069-adec-5761d96749b0",
   "metadata": {},
   "outputs": [
    {
     "name": "stdout",
     "output_type": "stream",
     "text": [
      "2\n",
      "4\n",
      "6\n",
      "8\n",
      "10\n"
     ]
    }
   ],
   "source": [
    "l = [2, 4, 6, 8, 10, 12, 14, 16, 18, 20]\n",
    "# Create an iterator using iter()\n",
    "my_iterator = iter(l)\n",
    "# Use next() to retrieve the first five elements\n",
    "for _ in range(5):\n",
    "    element = next(my_iterator)\n",
    "    print(element)\n"
   ]
  },
  {
   "cell_type": "markdown",
   "id": "ac586715-85a5-4d47-aeb0-63898fd8799d",
   "metadata": {},
   "source": [
    "Q4.What is a generator function in python? Why yield keyword is used? Give an example of a generator function."
   ]
  },
  {
   "cell_type": "markdown",
   "id": "b09d0f6f-38ae-4dd7-8204-bda94918fe8b",
   "metadata": {},
   "source": [
    "In Python, a generator function is a special type of function that allows you to iterate over a potentially large sequence of data without generating the entire sequence in memory at once. It produces values one at a time using the yield keyword, and it retains its state between successive calls.\n",
    "\n",
    "The key difference between a regular function and a generator function is that a generator function doesn't return a value using the return statement. Instead, it uses yield to produce a series of values, and the function's state is saved between each yield statement."
   ]
  },
  {
   "cell_type": "code",
   "execution_count": 2,
   "id": "1a60e99f-c964-4e89-a3b6-ac7c74d13f7f",
   "metadata": {},
   "outputs": [],
   "source": [
    "def test_fib(n):\n",
    "    a , b = 0 , 1\n",
    "    for i in range(n):\n",
    "        yield a\n",
    "        a ,b = b , a+b "
   ]
  },
  {
   "cell_type": "code",
   "execution_count": 11,
   "id": "5c54b99f-1038-47b5-9c0c-4470373708e4",
   "metadata": {},
   "outputs": [],
   "source": [
    "fib = test_fib(10)"
   ]
  },
  {
   "cell_type": "code",
   "execution_count": 12,
   "id": "af2e34d2-abcf-4f54-8319-d004c0519728",
   "metadata": {},
   "outputs": [
    {
     "data": {
      "text/plain": [
       "generator"
      ]
     },
     "execution_count": 12,
     "metadata": {},
     "output_type": "execute_result"
    }
   ],
   "source": [
    "type(fib)"
   ]
  },
  {
   "cell_type": "code",
   "execution_count": 13,
   "id": "3d169ae2-e5b8-45e7-bb75-124335d582c1",
   "metadata": {},
   "outputs": [
    {
     "name": "stdout",
     "output_type": "stream",
     "text": [
      "0\n",
      "1\n",
      "1\n",
      "2\n",
      "3\n",
      "5\n",
      "8\n",
      "13\n",
      "21\n",
      "34\n"
     ]
    }
   ],
   "source": [
    "for i in range(10) :\n",
    "    print(next(fib))"
   ]
  },
  {
   "cell_type": "markdown",
   "id": "4775a1b3-6ea1-4704-9ebf-a201f4071df5",
   "metadata": {},
   "source": [
    "Q5. Create a generator function for prime numbers less than 1000. Use the next() method to print the first 20 prime numbers."
   ]
  },
  {
   "cell_type": "code",
   "execution_count": 15,
   "id": "ecff05c7-f1dc-4343-bde2-7db141164175",
   "metadata": {},
   "outputs": [
    {
     "name": "stdout",
     "output_type": "stream",
     "text": [
      "2\n",
      "3\n",
      "5\n",
      "7\n",
      "11\n",
      "13\n",
      "17\n",
      "19\n",
      "23\n",
      "29\n",
      "31\n",
      "37\n",
      "41\n",
      "43\n",
      "47\n",
      "53\n",
      "59\n",
      "61\n",
      "67\n",
      "71\n"
     ]
    }
   ],
   "source": [
    "def is_prime(n):\n",
    "    if n < 2:\n",
    "        return False\n",
    "    for i in range(2, int(n**0.5) + 1):\n",
    "        if n % i == 0:\n",
    "            return False\n",
    "    return True\n",
    "\n",
    "def prime_generator():\n",
    "    n= 2\n",
    "    while n < 1000:\n",
    "        if is_prime(n):\n",
    "            yield n\n",
    "        n += 1\n",
    "\n",
    "# Use the generator to print the first 20 prime numbers\n",
    "generator = prime_generator()\n",
    "for i in range(20):\n",
    "    print(next(generator))\n"
   ]
  },
  {
   "cell_type": "markdown",
   "id": "a2c3286f-2415-4e72-aec6-c3883942cfa5",
   "metadata": {},
   "source": [
    "Q6.Write a python program to print the first 10 Fibonacci numbers using a while loop."
   ]
  },
  {
   "cell_type": "code",
   "execution_count": 22,
   "id": "73eb745e-8f6d-4ad7-8746-71a4a8096950",
   "metadata": {},
   "outputs": [
    {
     "name": "stdout",
     "output_type": "stream",
     "text": [
      "0\n",
      "1\n",
      "1\n",
      "2\n",
      "3\n",
      "5\n",
      "8\n",
      "13\n",
      "21\n",
      "34\n"
     ]
    }
   ],
   "source": [
    "def test_fib():\n",
    "    a , b = 0 , 1\n",
    "    while True :\n",
    "        yield a\n",
    "        a , b = b , a+b\n",
    "        \n",
    "fib = test_fib()\n",
    "for i in range(10):\n",
    "    print(next(fib))"
   ]
  },
  {
   "cell_type": "markdown",
   "id": "67dd7e1f-a53c-4eab-9293-16d40ce2d1fc",
   "metadata": {},
   "source": [
    "Q7.Write a List Comprehension to iterate through the given string: ‘pwskills’.Expected output: ['p', 'w', 's', 'k', 'i', 'l', 'l', 's']"
   ]
  },
  {
   "cell_type": "code",
   "execution_count": 24,
   "id": "9ee2d34f-d13a-43f3-bbf6-064cc5127d78",
   "metadata": {},
   "outputs": [
    {
     "name": "stdout",
     "output_type": "stream",
     "text": [
      "['p', 'w', 's', 'k', 'i', 'l', 'l', 's']\n"
     ]
    }
   ],
   "source": [
    "s = 'pwskills'\n",
    "l = [char for char in s]\n",
    "print(l)\n",
    "    "
   ]
  },
  {
   "cell_type": "markdown",
   "id": "01cd9013-b50b-4379-8415-7531fb1a3895",
   "metadata": {},
   "source": [
    "Q8.Write a python program to check whether a given number is Palindrome or not using a while loop"
   ]
  },
  {
   "cell_type": "code",
   "execution_count": 25,
   "id": "fadcb734-9b77-448f-9aac-36a23617cfd8",
   "metadata": {},
   "outputs": [
    {
     "name": "stdin",
     "output_type": "stream",
     "text": [
      "Enter a number:  66\n"
     ]
    },
    {
     "name": "stdout",
     "output_type": "stream",
     "text": [
      "66 is a palindrome!\n"
     ]
    }
   ],
   "source": [
    "def is_palindrome(number):\n",
    "    original_number = number\n",
    "    reverse_number = 0\n",
    "    \n",
    "    while number > 0:\n",
    "        digit = number % 10\n",
    "        reverse_number = reverse_number * 10 + digit\n",
    "        number = number // 10\n",
    "    \n",
    "    return original_number == reverse_number\n",
    "\n",
    "# Input from the user\n",
    "num = int(input(\"Enter a number: \"))\n",
    "\n",
    "if is_palindrome(num):\n",
    "    print(f\"{num} is a palindrome!\")\n",
    "else:\n",
    "    print(f\"{num} is not a palindrome.\")\n"
   ]
  },
  {
   "cell_type": "markdown",
   "id": "72d4a0d8-c0eb-445e-bcd3-67cc6ac7478a",
   "metadata": {},
   "source": [
    "Q9.Write a code to print odd numbers from 1 to 100 using list comprehension."
   ]
  },
  {
   "cell_type": "code",
   "execution_count": 29,
   "id": "486cf2c2-a106-4604-8edb-0dc3c09cb90f",
   "metadata": {},
   "outputs": [
    {
     "name": "stdout",
     "output_type": "stream",
     "text": [
      "[1, 2, 3, 4, 5, 6, 7, 8, 9, 10, 11, 12, 13, 14, 15, 16, 17, 18, 19, 20, 21, 22, 23, 24, 25, 26, 27, 28, 29, 30, 31, 32, 33, 34, 35, 36, 37, 38, 39, 40, 41, 42, 43, 44, 45, 46, 47, 48, 49, 50, 51, 52, 53, 54, 55, 56, 57, 58, 59, 60, 61, 62, 63, 64, 65, 66, 67, 68, 69, 70, 71, 72, 73, 74, 75, 76, 77, 78, 79, 80, 81, 82, 83, 84, 85, 86, 87, 88, 89, 90, 91, 92, 93, 94, 95, 96, 97, 98, 99, 100]\n"
     ]
    }
   ],
   "source": [
    "numbers = [i for i in range(1, 101)]\n",
    "print(numbers)"
   ]
  },
  {
   "cell_type": "code",
   "execution_count": 30,
   "id": "9f163d9a-d81f-40c7-835f-8c7dd1d8f8d4",
   "metadata": {},
   "outputs": [
    {
     "name": "stdout",
     "output_type": "stream",
     "text": [
      "[1, 3, 5, 7, 9, 11, 13, 15, 17, 19, 21, 23, 25, 27, 29, 31, 33, 35, 37, 39, 41, 43, 45, 47, 49, 51, 53, 55, 57, 59, 61, 63, 65, 67, 69, 71, 73, 75, 77, 79, 81, 83, 85, 87, 89, 91, 93, 95, 97, 99]\n"
     ]
    }
   ],
   "source": [
    "odd_numbers = [i for i in numbers if i%2 !=0]\n",
    "print(odd_numbers)"
   ]
  },
  {
   "cell_type": "code",
   "execution_count": null,
   "id": "d96c00af-4ce2-4b9f-b08e-2710edb424b9",
   "metadata": {},
   "outputs": [],
   "source": []
  }
 ],
 "metadata": {
  "kernelspec": {
   "display_name": "Python 3 (ipykernel)",
   "language": "python",
   "name": "python3"
  },
  "language_info": {
   "codemirror_mode": {
    "name": "ipython",
    "version": 3
   },
   "file_extension": ".py",
   "mimetype": "text/x-python",
   "name": "python",
   "nbconvert_exporter": "python",
   "pygments_lexer": "ipython3",
   "version": "3.10.8"
  }
 },
 "nbformat": 4,
 "nbformat_minor": 5
}
