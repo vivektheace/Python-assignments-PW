{
 "cells": [
  {
   "cell_type": "code",
   "execution_count": 1,
   "id": "a77bcee8-63c0-43ed-b9de-28897af97e84",
   "metadata": {},
   "outputs": [
    {
     "name": "stdout",
     "output_type": "stream",
     "text": [
      "Requirement already satisfied: pandas in /opt/conda/lib/python3.10/site-packages (1.5.2)\n",
      "Requirement already satisfied: python-dateutil>=2.8.1 in /opt/conda/lib/python3.10/site-packages (from pandas) (2.8.2)\n",
      "Requirement already satisfied: pytz>=2020.1 in /opt/conda/lib/python3.10/site-packages (from pandas) (2022.6)\n",
      "Requirement already satisfied: numpy>=1.21.0 in /opt/conda/lib/python3.10/site-packages (from pandas) (1.23.5)\n",
      "Requirement already satisfied: six>=1.5 in /opt/conda/lib/python3.10/site-packages (from python-dateutil>=2.8.1->pandas) (1.16.0)\n",
      "Note: you may need to restart the kernel to use updated packages.\n"
     ]
    }
   ],
   "source": [
    "pip install pandas "
   ]
  },
  {
   "cell_type": "markdown",
   "id": "acfae14d-4c2d-449e-94cc-ec605bf732f3",
   "metadata": {},
   "source": [
    "Q1. Create a Pandas Series that contains the following data: 4, 8, 15, 16, 23, and 42. Then, print the series"
   ]
  },
  {
   "cell_type": "code",
   "execution_count": 1,
   "id": "5b142952-235f-4a4d-b2fa-87016d8be929",
   "metadata": {},
   "outputs": [
    {
     "name": "stdout",
     "output_type": "stream",
     "text": [
      "0     4\n",
      "1     8\n",
      "2    15\n",
      "3    16\n",
      "4    23\n",
      "5    42\n",
      "dtype: int64\n"
     ]
    }
   ],
   "source": [
    "import pandas as pd\n",
    "\n",
    "# Create the Pandas Series\n",
    "data = [4, 8, 15, 16, 23, 42]\n",
    "series = pd.Series(data)\n",
    "\n",
    "# Print the series\n",
    "print(series)\n"
   ]
  },
  {
   "cell_type": "markdown",
   "id": "459ec059-492c-458b-8733-28552f62206d",
   "metadata": {},
   "source": [
    "Q2. Create a variable of list type containing 10 elements in it, and apply pandas.Series function on the\n",
    "variable print it.\n"
   ]
  },
  {
   "cell_type": "code",
   "execution_count": 2,
   "id": "eeec82c0-413a-4018-8d00-061edda20c9e",
   "metadata": {},
   "outputs": [
    {
     "name": "stdout",
     "output_type": "stream",
     "text": [
      "0     1\n",
      "1     2\n",
      "2     3\n",
      "3     4\n",
      "4     5\n",
      "5     6\n",
      "6     7\n",
      "7     8\n",
      "8     9\n",
      "9    10\n",
      "dtype: int64\n"
     ]
    }
   ],
   "source": [
    "import pandas as pd\n",
    "\n",
    "# Create a list with 10 elements\n",
    "data_list = [1, 2, 3, 4, 5, 6, 7, 8, 9, 10]\n",
    "\n",
    "# Convert the list to a Pandas Series\n",
    "series = pd.Series(data_list)\n",
    "\n",
    "# Print the Series\n",
    "print(series)\n"
   ]
  },
  {
   "attachments": {
    "079c9dcc-0656-45ae-98cc-c2f5cadc7762.png": {
     "image/png": "[encoded data removed]"
    }
   },
   "cell_type": "markdown",
   "id": "42dc89c9-48e7-4772-9730-c51b14b77dc4",
   "metadata": {},
   "source": [
    "Q3. Create a Pandas DataFrame that contains the following data:\n",
    "    ![Screenshot 2024-07-19 153331.png](attachment:079c9dcc-0656-45ae-98cc-c2f5cadc7762.png)\n",
    "  Then, print the DataFrame.\n",
    "  "
   ]
  },
  {
   "cell_type": "code",
   "execution_count": 3,
   "id": "bd0d97ba-4cbd-4580-8547-d8d8b2b3343d",
   "metadata": {},
   "outputs": [
    {
     "data": {
      "text/html": [
       "<div>\n",
       "<style scoped>\n",
       "    .dataframe tbody tr th:only-of-type {\n",
       "        vertical-align: middle;\n",
       "    }\n",
       "\n",
       "    .dataframe tbody tr th {\n",
       "        vertical-align: top;\n",
       "    }\n",
       "\n",
       "    .dataframe thead th {\n",
       "        text-align: right;\n",
       "    }\n",
       "</style>\n",
       "<table border=\"1\" class=\"dataframe\">\n",
       "  <thead>\n",
       "    <tr style=\"text-align: right;\">\n",
       "      <th></th>\n",
       "      <th>Name</th>\n",
       "      <th>Age</th>\n",
       "      <th>Gender</th>\n",
       "    </tr>\n",
       "  </thead>\n",
       "  <tbody>\n",
       "    <tr>\n",
       "      <th>0</th>\n",
       "      <td>Alice</td>\n",
       "      <td>25</td>\n",
       "      <td>Female</td>\n",
       "    </tr>\n",
       "    <tr>\n",
       "      <th>1</th>\n",
       "      <td>Bob</td>\n",
       "      <td>30</td>\n",
       "      <td>Male</td>\n",
       "    </tr>\n",
       "    <tr>\n",
       "      <th>2</th>\n",
       "      <td>Claire</td>\n",
       "      <td>27</td>\n",
       "      <td>Female</td>\n",
       "    </tr>\n",
       "  </tbody>\n",
       "</table>\n",
       "</div>"
      ],
      "text/plain": [
       "     Name  Age  Gender\n",
       "0   Alice   25  Female\n",
       "1     Bob   30    Male\n",
       "2  Claire   27  Female"
      ]
     },
     "execution_count": 3,
     "metadata": {},
     "output_type": "execute_result"
    }
   ],
   "source": [
    "import pandas as pd\n",
    "\n",
    "# Creating a DataFrame with the given data\n",
    "data = {\n",
    "    'Name': ['Alice', 'Bob', 'Claire'],\n",
    "    'Age': [25, 30, 27],\n",
    "    'Gender': ['Female', 'Male', 'Female']\n",
    "}\n",
    "\n",
    "df = pd.DataFrame(data)\n",
    "df\n"
   ]
  },
  {
   "cell_type": "markdown",
   "id": "ac05df95-5604-4d4f-9972-a08f1f7859eb",
   "metadata": {},
   "source": [
    "Q4.What is ‘DataFrame’ in pandas and how is it different from pandas.series? Explain with an example."
   ]
  },
  {
   "cell_type": "markdown",
   "id": "979b3d49-9959-4834-9501-93b59e5b0ba5",
   "metadata": {},
   "source": [
    "In pandas, a DataFrame is a two-dimensional, size-mutable, and potentially heterogeneous tabular data structure with labeled axes (rows and columns). It can be thought of as a table or a spreadsheet in which data is aligned in rows and columns. Each column in a DataFrame is a Series, which is a one-dimensional array-like object containing a sequence of values.\n",
    "\n",
    "Key Differences between DataFrame and Series:\n",
    "\n",
    "1.Dimensionality:\n",
    "Series: One-dimensional. It has a single axis (either row or column).\n",
    "DataFrame: Two-dimensional. It has both rows and columns.\n",
    "\n",
    "2.Structure:\n",
    "Series: Can be seen as a single column of data, which includes an index (like a label) and the data values.\n",
    "DataFrame: Consists of multiple columns of data, where each column is a Series. It can be seen as a collection of Series objects that share the same index.\n",
    "\n",
    "3.Usage:\n",
    "Series: Used for handling and analyzing data that is in a single column.\n",
    "DataFrame: Used for handling and analyzing tabular data where data is in multiple columns.\n",
    "\n",
    "Example:\n",
    "Let's illustrate the difference with an example"
   ]
  },
  {
   "cell_type": "code",
   "execution_count": 4,
   "id": "ddf05511-80eb-4787-90ed-4b3b1c3c54d7",
   "metadata": {},
   "outputs": [
    {
     "name": "stdout",
     "output_type": "stream",
     "text": [
      "Pandas Series:\n",
      "a    10\n",
      "b    20\n",
      "c    30\n",
      "d    40\n",
      "dtype: int64\n",
      "\n",
      "Pandas DataFrame:\n",
      "   Column1  Column2\n",
      "a       10       50\n",
      "b       20       60\n",
      "c       30       70\n",
      "d       40       80\n"
     ]
    }
   ],
   "source": [
    "import pandas as pd\n",
    "\n",
    "# Creating a pandas Series\n",
    "data_series = pd.Series([10, 20, 30, 40], index=['a', 'b', 'c', 'd'])\n",
    "print(\"Pandas Series:\")\n",
    "print(data_series)\n",
    "\n",
    "# Creating a pandas DataFrame\n",
    "data_frame = pd.DataFrame({\n",
    "    'Column1': [10, 20, 30, 40],\n",
    "    'Column2': [50, 60, 70, 80]\n",
    "}, index=['a', 'b', 'c', 'd'])\n",
    "print(\"\\nPandas DataFrame:\")\n",
    "print(data_frame)\n"
   ]
  },
  {
   "cell_type": "markdown",
   "id": "a2a640eb-4801-43e0-86bc-dcdc0773cc66",
   "metadata": {},
   "source": [
    "This shows that while a Series represents a single column of data, a DataFrame can represent multiple columns, making it a more complex and versatile data structure for data manipulation and analysis in pandas"
   ]
  },
  {
   "cell_type": "markdown",
   "id": "f4d02c09-200a-4a47-a7dd-b608df7a4939",
   "metadata": {},
   "source": [
    "Q5.What are some common functions you can use to manipulate data in a Pandas DataFrame? Can\n",
    "you give an example of when you might use one of these functions?"
   ]
  },
  {
   "cell_type": "markdown",
   "id": "fe613708-0cec-4e1b-9cfb-2de34b234c98",
   "metadata": {},
   "source": [
    "Pandas provides a wide range of functions to manipulate and analyze data in a DataFrame. Here are some common functions and their use cases:\n",
    "\n",
    "### 1. `head()` and `tail()`\n",
    "- **Purpose**: View the first few or last few rows of the DataFrame.\n",
    "- **Example**: Quickly inspect the beginning or end of a dataset.\n",
    "  ```python\n",
    "  df.head(5)  # Display the first 5 rows\n",
    "  df.tail(5)  # Display the last 5 rows\n",
    "  ```\n",
    "\n",
    "### 2. `info()` and `describe()`\n",
    "- **Purpose**: Get a summary of the DataFrame and statistical overview of numeric columns.\n",
    "- **Example**: Check data types and basic statistics.\n",
    "  ```python\n",
    "  df.info()      # Get a concise summary of the DataFrame\n",
    "  df.describe()  # Get descriptive statistics for numeric columns\n",
    "  ```\n",
    "\n",
    "### 3. `drop()`\n",
    "- **Purpose**: Remove specified labels (rows or columns) from the DataFrame.\n",
    "- **Example**: Remove columns that are not needed for analysis.\n",
    "  ```python\n",
    "  df.drop(columns=['Column1', 'Column2'], inplace=True)  # Remove specified columns\n",
    "  ```\n",
    "\n",
    "### 4. `loc[]` and `iloc[]`\n",
    "- **Purpose**: Access a group of rows and columns by labels or integer positions.\n",
    "- **Example**: Select specific rows and columns for analysis.\n",
    "  ```python\n",
    "  df.loc[0:5, ['ColumnA', 'ColumnB']]  # Select rows 0 to 5 and specific columns\n",
    "  df.iloc[0:5, 0:2]                    # Select rows 0 to 5 and first 2 columns by index\n",
    "  ```\n",
    "\n",
    "### 5. `groupby()`\n",
    "- **Purpose**: Group data by one or more columns and perform aggregate operations.\n",
    "- **Example**: Calculate the average value of each group.\n",
    "  ```python\n",
    "  grouped = df.groupby('Category').mean()  # Group by 'Category' and calculate the mean\n",
    "  ```\n",
    "\n",
    "### 6. `merge()`\n",
    "- **Purpose**: Merge two DataFrames based on a key column.\n",
    "- **Example**: Combine data from two sources based on a common identifier.\n",
    "  ```python\n",
    "  merged_df = pd.merge(df1, df2, on='KeyColumn')  # Merge df1 and df2 on 'KeyColumn'\n",
    "  ```\n",
    "\n",
    "### 7. `apply()`\n",
    "- **Purpose**: Apply a function along an axis of the DataFrame.\n",
    "- **Example**: Apply a custom function to each column or row.\n",
    "  ```python\n",
    "  df['NewColumn'] = df['ColumnA'].apply(lambda x: x * 2)  # Double the values in 'ColumnA'\n",
    "  ```\n",
    "\n",
    "### 8. `pivot_table()`\n",
    "- **Purpose**: Create a pivot table based on data in the DataFrame.\n",
    "- **Example**: Summarize data by creating a pivot table.\n",
    "  ```python\n",
    "  pivot = df.pivot_table(values='Sales', index='Region', columns='Product', aggfunc='sum')\n",
    "  ```\n",
    "\n",
    "### 9. `fillna()`\n",
    "- **Purpose**: Fill missing values in the DataFrame.\n",
    "- **Example**: Replace NaN values with a specified value.\n",
    "  ```python\n",
    "  df.fillna(0, inplace=True)  # Replace all NaN values with 0\n",
    "  ```\n",
    "\n",
    "### 10. `sort_values()`\n",
    "- **Purpose**: Sort the DataFrame by the values of one or more columns.\n",
    "- **Example**: Sort data based on a specific column.\n",
    "  ```python\n",
    "  df.sort_values(by='ColumnA', ascending=False, inplace=True)  # Sort by 'ColumnA' in descending order\n",
    "  ```\n",
    "\n",
    "### Example Scenario:\n",
    "\n",
    "Suppose you have a DataFrame containing sales data for different products across various regions, and you want to analyze the total sales by region. You can use the `groupby()` function for this purpose.\n",
    "\n",
    "```python\n",
    "import pandas as pd\n",
    "\n",
    "# Sample DataFrame\n",
    "data = {\n",
    "    'Region': ['North', 'South', 'East', 'West', 'North', 'South', 'East', 'West'],\n",
    "    'Product': ['A', 'A', 'B', 'B', 'A', 'B', 'A', 'B'],\n",
    "    'Sales': [100, 150, 200, 130, 120, 170, 180, 160]\n",
    "}\n",
    "\n",
    "df = pd.DataFrame(data)\n",
    "\n",
    "# Group by 'Region' and calculate total sales\n",
    "total_sales_by_region = df.groupby('Region')['Sales'].sum()\n",
    "\n",
    "print(total_sales_by_region)\n",
    "```\n",
    "\n",
    "**Output:**\n",
    "\n",
    "```\n",
    "Region\n",
    "East     380\n",
    "North    220\n",
    "South    320\n",
    "West     290\n",
    "Name: Sales, dtype: int64\n",
    "```\n",
    "\n",
    "In this example, the `groupby()` function groups the data by the 'Region' column and then sums the 'Sales' values for each region, providing a clear summary of total sales by region."
   ]
  },
  {
   "cell_type": "markdown",
   "id": "a79f06c2-885d-4a38-9c3c-610ea3d5d87c",
   "metadata": {},
   "source": [
    "Q6.Which of the following is mutable in nature Series, DataFrame, Panel?\n"
   ]
  },
  {
   "cell_type": "markdown",
   "id": "f618dfaa-0f2e-4310-bc53-6b79f321b0be",
   "metadata": {},
   "source": [
    "In pandas, both Series and DataFrame are mutable, meaning you can modify their content after they are created. However, Panel has been deprecated since pandas version 0.25.0 and is no longer used."
   ]
  },
  {
   "cell_type": "code",
   "execution_count": 6,
   "id": "db1d5e0a-eabe-4b2e-93f5-a2a88cd2767a",
   "metadata": {},
   "outputs": [
    {
     "name": "stdout",
     "output_type": "stream",
     "text": [
      "0      10\n",
      "1       2\n",
      "2       3\n",
      "new    20\n",
      "dtype: int64\n"
     ]
    }
   ],
   "source": [
    "##Series:\n",
    "\n",
    "##Mutable: You can change its values, add new elements, and modify existing elements.\n",
    "\n",
    "import pandas as pd\n",
    "\n",
    "s = pd.Series([1, 2, 3])\n",
    "s[0] = 10  # Modify an existing value\n",
    "s['new'] = 20  # Add a new element\n",
    "print(s)\n"
   ]
  },
  {
   "cell_type": "code",
   "execution_count": 7,
   "id": "8ce8d588-21d8-45da-9fb1-05171e5f4e5c",
   "metadata": {},
   "outputs": [
    {
     "name": "stdout",
     "output_type": "stream",
     "text": [
      "    A  B  C\n",
      "0  10  4  7\n",
      "1   2  5  8\n",
      "2   3  6  9\n"
     ]
    }
   ],
   "source": [
    "##DataFrame:\n",
    "\n",
    "##Mutable: You can modify its values, add or remove columns and rows, and change its structure.\n",
    "\n",
    "df = pd.DataFrame({'A': [1, 2, 3], 'B': [4, 5, 6]})\n",
    "df.at[0, 'A'] = 10  # Modify an existing value\n",
    "df['C'] = [7, 8, 9]  # Add a new column\n",
    "print(df)\n"
   ]
  },
  {
   "cell_type": "markdown",
   "id": "50e90fa5-1cbc-40bf-acc6-22ceae1bd7be",
   "metadata": {},
   "source": [
    "Panel:\n",
    "\n",
    "Deprecated: Panel was a 3D data structure and has been deprecated and removed from pandas. The recommended alternatives are using DataFrame with MultiIndex for 3D data or using the xarray library."
   ]
  },
  {
   "cell_type": "markdown",
   "id": "d094e709-6d3a-47eb-bd6a-281eb42dff90",
   "metadata": {},
   "source": [
    "Q7.Create a DataFrame using multiple Series. Explain with an example"
   ]
  },
  {
   "cell_type": "markdown",
   "id": "c4af0828-ea18-4197-833f-57a8baf77367",
   "metadata": {},
   "source": [
    "Creating a DataFrame using multiple Series in pandas is straightforward. Each Series can represent a column in the DataFrame, and the indices of the Series will align to form the rows.\n",
    "\n",
    "Example:\n",
    "Suppose we have data about the names, ages, and cities of a few individuals. We can create separate Series for each of these attributes and then combine them into a DataFrame."
   ]
  },
  {
   "cell_type": "code",
   "execution_count": 8,
   "id": "39c8128b-8fd1-45ff-be5e-a6f084763c0b",
   "metadata": {},
   "outputs": [
    {
     "name": "stdout",
     "output_type": "stream",
     "text": [
      "      Name  Age         City\n",
      "0    Alice   25     New York\n",
      "1      Bob   30  Los Angeles\n",
      "2  Charlie   35      Chicago\n"
     ]
    }
   ],
   "source": [
    "import pandas as pd\n",
    "\n",
    "# Creating Series for names, ages, and cities\n",
    "names = pd.Series(['Alice', 'Bob', 'Charlie'])\n",
    "ages = pd.Series([25, 30, 35])\n",
    "cities = pd.Series(['New York', 'Los Angeles', 'Chicago'])\n",
    "\n",
    "# Combining the Series into a DataFrame\n",
    "df = pd.DataFrame({\n",
    "    'Name': names,\n",
    "    'Age': ages,\n",
    "    'City': cities\n",
    "})\n",
    "\n",
    "# Combining the Series into a DataFrame\n",
    "df = pd.DataFrame({\n",
    "    'Name': names,\n",
    "    'Age': ages,\n",
    "    'City': cities\n",
    "})\n",
    "\n",
    "print(df)\n"
   ]
  },
  {
   "cell_type": "markdown",
   "id": "e4463427-d3c6-43e3-9c72-224efa7d6e3a",
   "metadata": {},
   "source": [
    "By using multiple Series, we can easily organize and manipulate tabular data in pandas, leveraging the powerful functionality of DataFrames for further data analysis and manipulation."
   ]
  },
  {
   "cell_type": "code",
   "execution_count": null,
   "id": "e2aaa26a-f5b2-44e9-915e-b527e7fc6c7a",
   "metadata": {},
   "outputs": [],
   "source": []
  }
 ],
 "metadata": {
  "kernelspec": {
   "display_name": "Python 3 (ipykernel)",
   "language": "python",
   "name": "python3"
  },
  "language_info": {
   "codemirror_mode": {
    "name": "ipython",
    "version": 3
   },
   "file_extension": ".py",
   "mimetype": "text/x-python",
   "name": "python",
   "nbconvert_exporter": "python",
   "pygments_lexer": "ipython3",
   "version": "3.10.8"
  }
 },
 "nbformat": 4,
 "nbformat_minor": 5
}
