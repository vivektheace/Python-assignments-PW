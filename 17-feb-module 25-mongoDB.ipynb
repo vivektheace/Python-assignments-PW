{
 "cells": [
  {
   "cell_type": "markdown",
   "id": "2fa0e694-259c-4684-83f6-cf90d09de44a",
   "metadata": {},
   "source": [
    "Q1. What is MongoDB? Explain non-relational databases in short. In which scenarios it is preferred to use\n",
    "MongoDB over SQL databases?"
   ]
  },
  {
   "cell_type": "markdown",
   "id": "9a96c214-4f20-44f0-a6cb-4e36919daad6",
   "metadata": {},
   "source": [
    "MongoDB is a popular, open-source, NoSQL database that uses a document-oriented data model. Instead of storing data in tables and rows as in traditional SQL databases, MongoDB stores data in JSON-like documents that can have varied structures. This flexibility allows for the storage of complex data structures and the rapid iteration of application features.\n",
    "\n",
    "Non-relational databases, also known as NoSQL databases, provide a way to store and retrieve data that does not require a fixed schema and supports more flexible data models than traditional relational databases (SQL). The main types of NoSQL databases are:\n",
    "\n",
    "-Document Databases (e.g., MongoDB): Store data in documents similar to JSON objects.\n",
    "-Key-Value Stores (e.g., Redis, DynamoDB): Store data as a collection of key-value pairs.\n",
    "-Column-Family Stores (e.g., Cassandra, HBase): Store data in columns rather than rows, suitable for large-scale data processing.\n",
    "-Graph Databases (e.g., Neo4j): Store data in graph structures with nodes, edges, and properties, useful for handling data with complex relationships.\n",
    "\n",
    "MongoDB is Preferred Over SQL Databases where :-\n",
    "\n",
    "-Flexible Schema Design: When the data model is not well-defined or is expected to evolve frequently, MongoDB's schema-less nature is advantageous.\n",
    "-Horizontal Scalability: For applications requiring high availability and scalability across distributed systems, MongoDB can easily scale out by adding more servers.\n",
    "-High Write Loads: MongoDB performs well in scenarios with high write loads due to its efficient write operations.\n",
    "-Complex, Hierarchical Data Structures: When working with nested data structures and hierarchical relationships, MongoDB's document model can naturally represent and query these structures.\n",
    "-Rapid Prototyping and Agile Development: MongoDB's flexible schema and easy integration with various programming environments make it suitable for rapid application development and iterative development cycles.\n",
    "-Geospatial Data: MongoDB has robust support for geospatial data and queries, making it suitable for applications like location-based services.\n",
    "-Content Management Systems: For applications that manage large volumes of varied content types, such as CMS or e-commerce platforms, MongoDB provides a versatile and scalable solution.\n",
    "\n",
    "In summary, MongoDB is often chosen over SQL databases when there is a need for flexible schema design, high scalability, efficient write operations, and handling of complex or hierarchical data structures."
   ]
  },
  {
   "cell_type": "markdown",
   "id": "42e592e9-c07d-4936-8477-778a6de4280c",
   "metadata": {},
   "source": [
    "Q2. State and Explain the features of MongoDB."
   ]
  },
  {
   "cell_type": "markdown",
   "id": "b622233a-2f8a-4f63-9305-adac33079d86",
   "metadata": {},
   "source": [
    "MongoDB is a popular NoSQL database known for its flexibility, scalability, and performance. Here are the key features of MongoDB:\n",
    "\n",
    "1. Document-Oriented Storage : Unlike traditional relational databases that store data in rows and columns, MongoDB uses a flexible, schema-less format. This allows for a more natural and readable data structure, often leading to simpler data access and manipulation.\n",
    "\n",
    "2. Flexible Schema: Collections in MongoDB do not enforce document structure. This means that documents within a collection can have different fields, making it easier to evolve your data model over time without needing extensive schema migrations.\n",
    "\n",
    "3. Scalability: MongoDB can handle large amounts of data and high throughput operations by distributing data across multiple servers. Sharding automatically balances data and load across a cluster, ensuring performance and availability\n",
    "\n",
    "4. Indexing: MongoDB supports various types of indexes, including single field, compound, geospatial, text, and hashed indexes. Indexes improve the performance of search queries and ensure efficient data retrieval.\n",
    "\n",
    "5. Aggregation Framework: MongoDB's aggregation framework allows for data processing and transformation within the database. It supports operations like filtering, grouping, sorting, and reshaping documents, enabling complex data analysis directly on the server side.\n",
    "\n",
    "6. Replication: MongoDB uses replica sets to ensure data redundancy and availability. A replica set consists of a primary node and multiple secondary nodes that replicate data in real-time. This setup provides automatic failover and data recovery in case of node failures.\n",
    "\n",
    "7. ACID Transactions: Starting from version 4.0, MongoDB supports ACID (Atomicity, Consistency, Isolation, Durability) transactions, allowing multiple documents to be updated consistently across one or more collections. \n",
    "\n",
    "8. Rich Query Language\n",
    "\n",
    "9. GridFS: GridFS is a specification within MongoDB for storing and retrieving large files, such as images, audio, and video. It divides files into smaller chunks and stores them as separate documents, allowing for efficient storage and retrieval of large data.\n",
    "\n",
    "10. Ad Hoc Queries: MongoDB allows you to perform ad hoc queries, meaning you can create queries on the fly without needing predefined schemas. This provides flexibility in data retrieval and analysis.\n",
    "\n",
    "11. Load Balancing: MongoDB distributes read and write operations across a cluster of servers. This built-in load balancing ensures optimal performance and resource utilization\n",
    "\n",
    "12. Full-Text Search\n",
    "\n",
    "These features make MongoDB a versatile and powerful database solution for modern applications, offering flexibility, scalability, and robust performance to meet various data management needs."
   ]
  },
  {
   "cell_type": "markdown",
   "id": "577b7e4b-7cee-46df-ad2e-3928c1279d27",
   "metadata": {},
   "source": [
    "Q3. Write a code to connect MongoDB to Python. Also, create a database and a collection in MongoDB."
   ]
  },
  {
   "cell_type": "code",
   "execution_count": null,
   "id": "a5d57c7b-4508-4f9c-9110-bf76b5da3074",
   "metadata": {},
   "outputs": [],
   "source": [
    "##To connect MongoDB to Python, you can use the pymongo library. First, you'll need to install pymongo if you haven't already:\n",
    "pip install pymongo\n",
    "\n",
    "##Once installed, you can use the following code to connect to MongoDB, create a database, and a collection within that database:\n",
    "\n",
    "from pymongo import MongoClient\n",
    "\n",
    "# Connect to MongoDB server\n",
    "client = MongoClient('mongodb://localhost:27017/')\n",
    "\n",
    "# Create a database called 'mydatabase'\n",
    "db = client['mydatabase']\n",
    "\n",
    "# Create a collection called 'mycollection' in the 'mydatabase' database\n",
    "collection = db['mycollection']\n",
    "\n",
    "# Print confirmation\n",
    "print(\"Database and collection created successfully\")\n",
    "\n",
    "# Optionally, insert a sample document to test\n",
    "sample_document = {\"name\": \"John Doe\", \"age\": 30, \"city\": \"New York\"}\n",
    "collection.insert_one(sample_document)\n",
    "\n",
    "# Print the inserted document ID\n",
    "print(\"Inserted document ID:\", sample_document['_id'])\n",
    "\n",
    "## Make sure your MongoDB server is running before you execute this script. If MongoDB is hosted on a different server or port, adjust the connection string accordingly."
   ]
  },
  {
   "cell_type": "markdown",
   "id": "3a2dbd98-1791-4f6f-b641-eb6e55b5b1ac",
   "metadata": {},
   "source": [
    "Q4. Using the database and the collection created in question number 3, write a code to insert one record, and insert many records. Use the find() and find_one() methods to print the inserted record."
   ]
  },
  {
   "cell_type": "code",
   "execution_count": null,
   "id": "2023da7c-0fd3-4617-a889-5a8b2ba223e2",
   "metadata": {},
   "outputs": [],
   "source": [
    "from pymongo import MongoClient\n",
    "\n",
    "# Connect to the MongoDB server\n",
    "client = MongoClient('mongodb://localhost:27017/')  # Replace with your MongoDB URI if needed\n",
    "\n",
    "# Create a new database called 'mydatabase'\n",
    "db = client['mydatabase']\n",
    "\n",
    "# Create a new collection called 'mycollection' within 'mydatabase'\n",
    "collection = db['mycollection']\n",
    "\n",
    "# Insert one record\n",
    "single_document = {\"name\": \"Bob\", \"age\": 30}\n",
    "collection.insert_one(single_document)\n",
    "\n",
    "# Insert many records\n",
    "multiple_documents = [\n",
    "    {\"name\": \"Charlie\", \"age\": 35},\n",
    "    {\"name\": \"David\", \"age\": 40},\n",
    "    {\"name\": \"Eve\", \"age\": 45}\n",
    "]\n",
    "collection.insert_many(multiple_documents)\n",
    "\n",
    "# Use find_one() to print the inserted record\n",
    "print(\"Single inserted record:\", collection.find_one({\"name\": \"Bob\"}))\n",
    "\n",
    "# Use find() to print all the inserted records\n",
    "print(\"All inserted records:\")\n",
    "for doc in collection.find():\n",
    "    print(doc)\n"
   ]
  },
  {
   "cell_type": "markdown",
   "id": "499efcdf-2886-48cc-83c0-6e90e1a34b8d",
   "metadata": {},
   "source": [
    "Q5. Explain how you can use the find() method to query the MongoDB database. Write a simple code to\n",
    "demonstrate this."
   ]
  },
  {
   "cell_type": "markdown",
   "id": "d9fa2951-389e-4d7f-9a8b-ac51d96b8372",
   "metadata": {},
   "source": [
    "The find() method in MongoDB is used to query the database and retrieve documents that match a specified condition. It allows you to filter data using various criteria. Below is an example of how to use the find() method to query a MongoDB database using Python with the pymongo library.\n",
    "\n",
    "Install pymongo >Connect to MongoDB >Select the Database and Collection >Use the find() Method  \n",
    "example :"
   ]
  },
  {
   "cell_type": "code",
   "execution_count": null,
   "id": "8bb3b736-5cff-4fc2-8242-b11a4d1ba59d",
   "metadata": {},
   "outputs": [],
   "source": [
    "from pymongo import MongoClient\n",
    "\n",
    "# Step 2: Connect to MongoDB\n",
    "client = MongoClient('mongodb://localhost:27017/')\n",
    "\n",
    "# Step 3: Select the database and collection\n",
    "db = client['mydatabase']\n",
    "collection = db['mycollection']\n",
    "\n",
    "# Step 4: Use the find() method\n",
    "# Example query: Find all documents where the 'age' field is greater than 25\n",
    "query = {'age': {'$gt': 25}}\n",
    "results = collection.find(query)\n",
    "\n",
    "# Print the results\n",
    "for document in results:\n",
    "    print(document)\n",
    "\n",
    "## we can customize the query to match your specific requirements, using various operators like $lt, $gte, $lte, $in, $ne, and more"
   ]
  },
  {
   "cell_type": "markdown",
   "id": "e3e55a97-2f4d-4441-b239-190637a040af",
   "metadata": {},
   "source": [
    "Q6. Explain the sort() method. Give an example to demonstrate sorting in MongoDB."
   ]
  },
  {
   "cell_type": "markdown",
   "id": "a16de106-a952-409d-affb-6a4ca31f50e7",
   "metadata": {},
   "source": [
    "The sort() method in MongoDB is used to arrange the documents in a collection in either ascending (1) or descending (-1) order based on a specified field or fields. This method is often used in conjunction with the find() method to retrieve sorted data.\n",
    "\n",
    "Syntax:\n",
    "\n",
    "collection.find().sort(<field>, <direction>)\n",
    "\n",
    "-<field>: The field by which you want to sort the documents.\n",
    "-<direction>: The direction of the sort. Use 1 for ascending order and -1 for descending order.\n",
    "\n",
    "Example:\n",
    "Suppose you have a MongoDB collection named students with documents that look like this:"
   ]
  },
  {
   "cell_type": "code",
   "execution_count": null,
   "id": "8e3cef06-1341-4ca1-8820-560a6074cd19",
   "metadata": {},
   "outputs": [],
   "source": [
    "{ \"name\": \"Alice\", \"age\": 24, \"score\": 85 }\n",
    "{ \"name\": \"Bob\", \"age\": 22, \"score\": 90 }\n",
    "{ \"name\": \"Charlie\", \"age\": 23, \"score\": 80 }"
   ]
  },
  {
   "cell_type": "markdown",
   "id": "24b7be49-5578-4076-8931-ace4efbb59c0",
   "metadata": {},
   "source": [
    "Here's a Python script using pymongo to sort these documents by the age field in ascending order:"
   ]
  },
  {
   "cell_type": "code",
   "execution_count": null,
   "id": "bebb1cfa-f293-458f-8352-8457ddd82baf",
   "metadata": {},
   "outputs": [],
   "source": [
    "# 1.connect to pymongo\n",
    "# 2.connect to mongodb and sort documents :\n",
    "\n",
    "from pymongo import MongoClient\n",
    "\n",
    "# Connect to MongoDB\n",
    "client = MongoClient(\"mongodb://localhost:27017/\")\n",
    "\n",
    "# Select the database\n",
    "db = client[\"school\"]\n",
    "\n",
    "# Select the collection\n",
    "collection = db[\"students\"]\n",
    "\n",
    "# Sort the documents by the 'age' field in ascending order\n",
    "sorted_students = collection.find().sort(\"age\", 1)\n",
    "\n",
    "# Print the sorted documents\n",
    "for student in sorted_students:\n",
    "    print(student)\n"
   ]
  },
  {
   "cell_type": "code",
   "execution_count": null,
   "id": "f5ed364e-6f80-4189-b7aa-2427e1371d35",
   "metadata": {},
   "outputs": [],
   "source": [
    "## output will be :\n",
    "\n",
    "{ \"_id\": ObjectId(\"...\"), \"name\": \"Bob\", \"age\": 22, \"score\": 90 }\n",
    "{ \"_id\": ObjectId(\"...\"), \"name\": \"Charlie\", \"age\": 23, \"score\": 80 }\n",
    "{ \"_id\": ObjectId(\"...\"), \"name\": \"Alice\", \"age\": 24, \"score\": 85 }\n",
    "\n",
    "## we can change the sorting order by using -1 instead of 1 to sort in descending order."
   ]
  },
  {
   "cell_type": "markdown",
   "id": "86bfded9-a7f7-4a2b-bcef-b6f77d5b48b7",
   "metadata": {},
   "source": [
    "Q7. Explain why delete_one(), delete_many(), and drop() is used"
   ]
  },
  {
   "cell_type": "markdown",
   "id": "6d45b36f-45af-442a-bdac-60804b9710e0",
   "metadata": {},
   "source": [
    "In Python, when working with databases such as MongoDB, delete_one(), delete_many(), and drop() are methods used to remove documents or collections. Here's an explanation of each method and when they are typically used:"
   ]
  },
  {
   "cell_type": "markdown",
   "id": "fe3cc3f5-0b1d-4ab7-b550-1b76ba6166b0",
   "metadata": {},
   "source": [
    "1. delete_one()\n",
    "Purpose: This method is used to delete a single document that matches a specified filter.\n",
    "Usage:"
   ]
  },
  {
   "cell_type": "code",
   "execution_count": null,
   "id": "61a58c30-4d84-476b-8736-be5c1f5a20bc",
   "metadata": {},
   "outputs": [],
   "source": [
    "result = collection.delete_one({\"field\": \"value\"})\n",
    "print(result.deleted_count)"
   ]
  },
  {
   "cell_type": "markdown",
   "id": "5bc9bde7-def4-4c12-a2f4-1d3496e3289a",
   "metadata": {},
   "source": [
    "When to Use: Use delete_one() when you want to remove the first document that matches the criteria provided. This is useful when you know there should be only one matching document or you only want to delete the first occurrence of the match"
   ]
  },
  {
   "cell_type": "markdown",
   "id": "4321a19c-4d3d-468a-af94-c4af4d458af7",
   "metadata": {},
   "source": [
    "2. delete_many()\n",
    "Purpose: This method is used to delete multiple documents that match a specified filter.\n",
    "Usage:"
   ]
  },
  {
   "cell_type": "code",
   "execution_count": null,
   "id": "753ac0c2-d13b-4e68-b6d8-53b19db12e68",
   "metadata": {},
   "outputs": [],
   "source": [
    "result = collection.delete_many({\"field\": \"value\"})\n",
    "print(result.deleted_count)"
   ]
  },
  {
   "cell_type": "markdown",
   "id": "17029450-f58c-4461-8409-0c1d2949916f",
   "metadata": {},
   "source": [
    "When to Use: Use delete_many() when you need to remove all documents that match the given filter. This is useful for bulk deletions where you want to clear out multiple documents based on certain criteria."
   ]
  },
  {
   "cell_type": "markdown",
   "id": "16d3f8a5-48fe-46b8-824b-a8e69b82b963",
   "metadata": {},
   "source": [
    "3. drop()\n",
    "Purpose: This method is used to delete an entire collection from the database.\n",
    "Usage:"
   ]
  },
  {
   "cell_type": "code",
   "execution_count": null,
   "id": "09c0173f-f995-4a43-a5a7-c7b3545df0c8",
   "metadata": {},
   "outputs": [],
   "source": [
    "collection.drop()"
   ]
  },
  {
   "cell_type": "markdown",
   "id": "b7c52d11-672f-4d66-be5b-3b80d4ea414b",
   "metadata": {},
   "source": [
    "When to Use: Use drop() when you want to remove an entire collection, including all of its documents and metadata. This is typically used when you want to completely clear a collection or remove it entirely from the databas"
   ]
  },
  {
   "cell_type": "raw",
   "id": "98a4c10d-a239-4c7d-a656-699b4ed2fec9",
   "metadata": {},
   "source": [
    "Summary\n",
    "\n",
    "delete_one(): Deletes the first matching document.\n",
    "delete_many(): Deletes all matching documents.\n",
    "drop(): Deletes an entire collection.\n",
    "\n",
    "These methods provide flexibility in managing and cleaning up data within your MongoDB collections, allowing you to target specific documents or remove entire collections as needed."
   ]
  }
 ],
 "metadata": {
  "kernelspec": {
   "display_name": "Python 3 (ipykernel)",
   "language": "python",
   "name": "python3"
  },
  "language_info": {
   "codemirror_mode": {
    "name": "ipython",
    "version": 3
   },
   "file_extension": ".py",
   "mimetype": "text/x-python",
   "name": "python",
   "nbconvert_exporter": "python",
   "pygments_lexer": "ipython3",
   "version": "3.10.8"
  }
 },
 "nbformat": 4,
 "nbformat_minor": 5
}
