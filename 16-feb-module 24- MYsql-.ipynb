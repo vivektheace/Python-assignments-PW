{
 "cells": [
  {
   "cell_type": "markdown",
   "id": "1806a356-121e-4145-a3fe-d7c21dd50c0d",
   "metadata": {},
   "source": [
    "Q1.What is a database? Differentiate between SQL and NoSQL databases"
   ]
  },
  {
   "cell_type": "markdown",
   "id": "201b5e53-5d45-482c-ba8d-9f1aa59422a8",
   "metadata": {},
   "source": [
    "A database is an organized collection of data that can be easily accessed, managed, and updated. Databases are used to store and retrieve large amounts of data efficiently. They can be classified into different types based on their structure and use cases, such as relational, non-relational, distributed, and more.\n",
    "\n",
    "SQL (Structured Query Language) Databases:\n",
    "\n",
    "\t1.\tStructure: SQL databases are relational databases that store data in tables with rows and columns. They use a predefined schema to define the structure of the data.\n",
    "\t2.\tQuery Language: They use SQL for defining and manipulating data.\n",
    "\t3.\tScalability: SQL databases are typically vertically scalable, meaning they scale by increasing the power (CPU, RAM) of a single server.\n",
    "\t4.\tExamples: MySQL, PostgreSQL, Oracle Database, Microsoft SQL Server.\n",
    "\t5.\tACID Compliance: SQL databases are generally ACID (Atomicity, Consistency, Isolation, Durability) compliant, ensuring reliable transactions.\n",
    "\t6.\tUse Cases: Suitable for complex queries and transactions, such as banking systems, enterprise applications, and any situation where data integrity is critical.\n",
    "    \n",
    "NoSQL (Not Only SQL) Databases:\n",
    "\n",
    "\t1.\tStructure: NoSQL databases are non-relational and can store data in various formats like key-value pairs, documents, wide-columns, or graphs. They have a dynamic schema for unstructured data.\n",
    "\t2.\tQuery Language: They use different query languages depending on the type of database (e.g., MongoDB uses a query language based on JavaScript, while Cassandra uses CQL).\n",
    "\t3.\tScalability: NoSQL databases are typically horizontally scalable, meaning they scale by adding more servers to the database.\n",
    "\t4.\tExamples: MongoDB, Cassandra, Redis, Couchbase.\n",
    "\t5.\tACID Compliance: NoSQL databases may not fully support ACID transactions but often provide eventual consistency and other mechanisms like BASE (Basically Available, Soft state, Eventual consistency).\n",
    "\t6.\tUse Cases: Suitable for large volumes of unstructured data, real-time web applications, big data analytics, and scenarios requiring flexible schema design.\n",
    "\n",
    "In summary, SQL databases are ideal for structured data and complex transactions, while NoSQL databases are suited for unstructured data and scalability.  "
   ]
  },
  {
   "cell_type": "markdown",
   "id": "6c8c734c-bdbe-40a6-a943-373708c0a216",
   "metadata": {},
   "source": [
    "Q2.What is DDL? Explain why CREATE, DROP, ALTER, and TRUNCATE are used with an example."
   ]
  },
  {
   "cell_type": "markdown",
   "id": "9ab92c7f-eccb-4934-a9ca-2bd2f9af81dc",
   "metadata": {},
   "source": [
    "DDL stands for Data Definition Language. It is a subset of SQL (Structured Query Language) used to define and manage database structures. DDL statements are used to create, modify, and delete database objects such as tables, indexes, and schemas.\n",
    "\n",
    "CREATE, DROP, ALTER, and TRUNCATE are the key DDL commands:\n",
    "\n",
    "1.\tCREATE: This command is used to create new database objects. For example, creating a new table.\n",
    "\n",
    "2.\tDROP: This command is used to delete database objects. For example, dropping a table.\n",
    "      DROP TABLE Employees;\n",
    "      \n",
    "3.\tALTER: This command is used to modify existing database objects. For example, adding a new column to an existing table.\n",
    "\n",
    "4.\tTRUNCATE: This command is used to remove all records from a table, but the table structure remains. It is faster than the DELETE command because it does not generate individual row delete operations.\n",
    "\n",
    "These DDL commands are essential for managing the schema and structure of the database, ensuring that the data is stored in a well-organized and efficient manner"
   ]
  },
  {
   "cell_type": "markdown",
   "id": "43e63191-4722-4f44-bf4a-5958be875792",
   "metadata": {},
   "source": [
    "Q3.What is DML? Explain INSERT, UPDATE, and DELETE with an example."
   ]
  },
  {
   "cell_type": "markdown",
   "id": "147eeb55-06a5-4c39-9842-00c207f071f6",
   "metadata": {},
   "source": [
    "Data Manipulation Language (DML) is a subset of SQL (Structured Query Language) used to manage and manipulate data within a database. DML commands are used to insert, update, delete, and retrieve data from database tables.\n",
    "1. INSERT\n",
    "\n",
    "The INSERT statement is used to add new rows of data to a table.\n",
    "\n",
    "Syntax:\n",
    "INSERT INTO table_name (column1, column2, column3, ...)\n",
    "VALUES (value1, value2, value3, ...);"
   ]
  },
  {
   "cell_type": "markdown",
   "id": "4656d81b-c01f-4e26-8925-27c2a96d7c41",
   "metadata": {},
   "source": [
    "Example:\n",
    "Assume we have a table students with columns id, name, and age."
   ]
  },
  {
   "cell_type": "code",
   "execution_count": null,
   "id": "46f48b9e-75bd-4f6b-8726-be7b008223f7",
   "metadata": {},
   "outputs": [],
   "source": [
    "INSERT INTO students (id, name, age)\n",
    "VALUES (1, 'John Doe', 20);\n",
    "##This command inserts a new row into the students table with id as 1, name as ‘John Doe’, and age as 20."
   ]
  },
  {
   "cell_type": "markdown",
   "id": "8d3e4367-f0da-4588-b507-eba6f9f7cb26",
   "metadata": {},
   "source": [
    "2. UPDATE\n",
    "\n",
    "The UPDATE statement is used to modify existing data in a table.\n",
    "\n",
    "Syntax:\n",
    "UPDATE table_name\n",
    "SET column1 = value1, column2 = value2, ...\n",
    "WHERE condition;"
   ]
  },
  {
   "cell_type": "markdown",
   "id": "0955de13-a999-47f7-939f-5ed3fcdbbda6",
   "metadata": {},
   "source": [
    "Example:\n",
    "Continuing with the students table, to update the age of the student with id 1 to 21:"
   ]
  },
  {
   "cell_type": "code",
   "execution_count": null,
   "id": "3fc19474-69b4-46fb-a13f-3239e481f79d",
   "metadata": {},
   "outputs": [],
   "source": [
    "UPDATE students\n",
    "SET age = 21\n",
    "WHERE id = 1;\n",
    "##This command updates the age of the student whose id is 1 to 21"
   ]
  },
  {
   "cell_type": "markdown",
   "id": "367e2d73-5302-40aa-ac16-38a8a7e7c740",
   "metadata": {},
   "source": [
    "3. DELETE\n",
    "\n",
    "The DELETE statement is used to remove existing rows from a table.\n",
    "\n",
    "Syntax:\n",
    "DELETE FROM table_name\n",
    "WHERE condition;"
   ]
  },
  {
   "cell_type": "markdown",
   "id": "e9fd0736-9f84-4e7d-ada9-4234a5cecec8",
   "metadata": {},
   "source": [
    "Example:\n",
    "To delete the student with id 1 from the students table:"
   ]
  },
  {
   "cell_type": "code",
   "execution_count": null,
   "id": "fc7c02ec-7703-4ff1-a863-748487d29694",
   "metadata": {},
   "outputs": [],
   "source": [
    "DELETE FROM students\n",
    "WHERE id = 1;\n",
    "##This command deletes the row from the students table where the id is 1."
   ]
  },
  {
   "cell_type": "markdown",
   "id": "6f03bd8b-097a-4e79-87f8-90e726b2441d",
   "metadata": {},
   "source": [
    "Summary of DML Operations:\n",
    "\n",
    "\t•\tINSERT: Adds new rows to a table.\n",
    "\t•\tUPDATE: Modifies existing rows in a table.\n",
    "\t•\tDELETE: Removes rows from a table.\n",
    "\n",
    "These operations help in managing the data stored within database tables efficiently."
   ]
  },
  {
   "cell_type": "markdown",
   "id": "94609788-ac59-423f-90f4-616418704873",
   "metadata": {},
   "source": [
    "Q4.What is DQL? Explain SELECT with an example."
   ]
  },
  {
   "cell_type": "markdown",
   "id": "9f0ac358-6c0f-4468-8c1d-2209ecb66b00",
   "metadata": {},
   "source": [
    "DQL, or Data Query Language, is a subset of SQL (Structured Query Language) used to retrieve data from a database. The primary command in DQL is SELECT, which is used to specify and fetch data from one or more tables within the database.\n",
    "\n",
    "The SELECT Statement\n",
    "\n",
    "The SELECT statement allows you to retrieve data from one or more tables. The basic syntax is:\n",
    "SELECT column1, column2, ...\n",
    "FROM table_name\n",
    "WHERE condition;\n",
    "\n",
    "Example\n",
    "\n",
    "Let’s say we have a table called employees with the following structure:\n",
    "employee_id,first_name,last_name,department,salary\n",
    "1,John,Doe,HR,50000\n",
    "2,Jane,Smith,IT,60000\n",
    "3,Bob,Brown,Finance,55000"
   ]
  },
  {
   "cell_type": "code",
   "execution_count": null,
   "id": "e05ff3ec-7c9e-4422-86ac-9d884dce1acd",
   "metadata": {},
   "outputs": [],
   "source": [
    "SELECT first_name, department FROM employees;\n",
    "## To retrieve data for employees who work in the IT department:\n",
    "SELECT * FROM employees WHERE department = 'IT';"
   ]
  },
  {
   "cell_type": "markdown",
   "id": "f42b6607-4de5-42b4-8518-5abc346d09a0",
   "metadata": {},
   "source": [
    "Q5. Explain Primary Key and Foreign Key.\n"
   ]
  },
  {
   "cell_type": "markdown",
   "id": "d2b06873-62e1-4670-afe0-54d7bc14e23f",
   "metadata": {},
   "source": [
    "### Primary Key\n",
    "\n",
    "A **Primary Key** is a field (or a combination of fields) in a database table that uniquely identifies each record in that table. Here are some key points about primary keys:\n",
    "\n",
    "- **Uniqueness**: Each value in a primary key column must be unique. This ensures that each record can be uniquely identified.\n",
    "- **Non-null**: Primary keys cannot contain NULL values. Every record must have a value for the primary key field(s).\n",
    "- **Immutable**: The values in a primary key should not change. Once assigned, they should remain constant for the lifetime of the record.\n",
    "- **Single or Composite**: A primary key can consist of a single field (simple primary key) or multiple fields (composite primary key).\n",
    "\n",
    "### Foreign Key\n",
    "\n",
    "A **Foreign Key** is a field (or a combination of fields) in one table that uniquely identifies a row of another table. The foreign key is used to establish and enforce a link between the data in the two tables. Here are some key points about foreign keys:\n",
    "\n",
    "- **Relationship**: Foreign keys establish a relationship between tables. The table with the foreign key is called the child table, and the table with the primary key is called the parent table.\n",
    "- **Referential Integrity**: Foreign keys help maintain referential integrity by ensuring that a record in the child table corresponds to an existing record in the parent table.\n",
    "- **Can be Null**: Unlike primary keys, foreign keys can contain NULL values. A NULL foreign key indicates that the relationship is optional.\n",
    "- **Constraints**: Foreign key constraints can be used to enforce rules about how data can be updated or deleted. For example, an ON DELETE CASCADE constraint will automatically delete all child records when the corresponding parent record is deleted.\n",
    "\n",
    "### Example\n",
    "\n",
    "Consider two tables: `Customers` and `Orders`.\n",
    "\n",
    "**Customers Table**:\n",
    "| CustomerID (Primary Key) | Name     | Email           |\n",
    "|--------------------------|----------|-----------------|\n",
    "| 1                        | John Doe | john@example.com|\n",
    "| 2                        | Jane Smith| jane@example.com|\n",
    "\n",
    "**Orders Table**:\n",
    "| OrderID (Primary Key) | OrderDate | CustomerID (Foreign Key) |\n",
    "|-----------------------|-----------|--------------------------|\n",
    "| 1001                  | 2023-01-15| 1                        |\n",
    "| 1002                  | 2023-01-17| 2                        |\n",
    "| 1003                  | 2023-01-18| 1                        |\n",
    "\n",
    "In this example:\n",
    "- `CustomerID` in the `Customers` table is the primary key, uniquely identifying each customer.\n",
    "- `CustomerID` in the `Orders` table is a foreign key, establishing a link between the `Orders` table and the `Customers` table. This foreign key indicates which customer placed each order."
   ]
  },
  {
   "cell_type": "markdown",
   "id": "1b2dc05f-61e4-4e5e-8701-a47e7592e814",
   "metadata": {},
   "source": [
    "Q6. Write a python code to connect MySQL to python. Explain the cursor() and execute() method\n"
   ]
  },
  {
   "cell_type": "code",
   "execution_count": null,
   "id": "46a92d4c-cec2-47f4-9dfe-9a939fe554c6",
   "metadata": {},
   "outputs": [],
   "source": [
    "## step 1.\n",
    "pip install mysql-connector-python\n",
    "\n",
    "## step 2\n",
    "import mysql.connector\n",
    "\n",
    "# Connect to the MySQL database\n",
    "conn = mysql.connector.connect(\n",
    "    host=\"your_host\",       # e.g., \"localhost\"\n",
    "    user=\"your_username\",   # e.g., \"root\"\n",
    "    password=\"your_password\",\n",
    "    database=\"your_database\"\n",
    ")\n",
    "\n",
    "# Create a cursor object\n",
    "cursor = conn.cursor()\n",
    "\n",
    "# Execute a query\n",
    "cursor.execute(\"SELECT * FROM your_table_name\")\n",
    "\n",
    "# Fetch and print the results\n",
    "results = cursor.fetchall()\n",
    "for row in results:\n",
    "    print(row)\n",
    "\n",
    "# Close the cursor and connection\n",
    "cursor.close()\n",
    "conn.close()"
   ]
  },
  {
   "cell_type": "markdown",
   "id": "2fc9fafb-ad2a-4c84-bc91-65288684cd4b",
   "metadata": {},
   "source": [
    "##Creating a Cursor Object\n",
    "The cursor() method creates a cursor object. A cursor is used to interact with the database, allowing you to execute SQL queries and fetch results."
   ]
  },
  {
   "cell_type": "code",
   "execution_count": null,
   "id": "debf19c5-c265-4cfa-a1f4-4ec0be860a65",
   "metadata": {},
   "outputs": [],
   "source": [
    "cursor = conn.cursor()"
   ]
  },
  {
   "cell_type": "markdown",
   "id": "e7cba7ef-01c1-4c63-b7c3-bf1b803ea591",
   "metadata": {},
   "source": [
    "##Executing SQL Queries\n",
    "The execute() method is used to execute SQL queries. You pass the SQL query as a string to this method."
   ]
  },
  {
   "cell_type": "code",
   "execution_count": null,
   "id": "9d586a54-70f5-430d-be47-ae64adb46ac5",
   "metadata": {},
   "outputs": [],
   "source": [
    "cursor.execute(\"SELECT * FROM your_table_name\")"
   ]
  },
  {
   "cell_type": "markdown",
   "id": "d6859c5e-f331-4dd3-b48a-4062a1712905",
   "metadata": {},
   "source": [
    "Q7. Give the order of execution of SQL clauses in an SQL query."
   ]
  },
  {
   "cell_type": "markdown",
   "id": "b26dab05-13cb-480a-8ee3-a1b68d6ffc3a",
   "metadata": {},
   "source": [
    "The order of execution of SQL clauses in an SQL query is as follows:\n",
    "\n",
    "FROM: This clause specifies the tables from which to retrieve the data.\n",
    "JOIN: This clause is used to combine rows from two or more tables based on a related column between them.\n",
    "WHERE: This clause filters the rows based on a specified condition.\n",
    "GROUP BY: This clause groups rows that have the same values in specified columns into summary rows.\n",
    "HAVING: This clause filters groups based on a specified condition.\n",
    "SELECT: This clause specifies the columns to be returned by the query.\n",
    "DISTINCT: This clause removes duplicate rows from the result set.\n",
    "ORDER BY: This clause sorts the result set based on one or more columns.\n",
    "LIMIT/OFFSET: These clauses limit the number of rows returned and specify the starting point of the rows to be returned"
   ]
  },
  {
   "cell_type": "code",
   "execution_count": null,
   "id": "fa6a9e69-8764-468a-9803-b01152dfdde8",
   "metadata": {},
   "outputs": [],
   "source": [
    "## visual representation \n",
    "\n",
    "SELECT [DISTINCT] column1, column2, ...\n",
    "FROM table1\n",
    "JOIN table2 ON table1.column = table2.column\n",
    "WHERE condition\n",
    "GROUP BY column1, column2, ...\n",
    "HAVING condition\n",
    "ORDER BY column1, column2, ...\n",
    "LIMIT number OFFSET number;\n"
   ]
  },
  {
   "cell_type": "code",
   "execution_count": null,
   "id": "d0788105-dd97-47ad-b24c-3c486ecffca3",
   "metadata": {},
   "outputs": [],
   "source": []
  }
 ],
 "metadata": {
  "kernelspec": {
   "display_name": "Python 3 (ipykernel)",
   "language": "python",
   "name": "python3"
  },
  "language_info": {
   "codemirror_mode": {
    "name": "ipython",
    "version": 3
   },
   "file_extension": ".py",
   "mimetype": "text/x-python",
   "name": "python",
   "nbconvert_exporter": "python",
   "pygments_lexer": "ipython3",
   "version": "3.10.8"
  }
 },
 "nbformat": 4,
 "nbformat_minor": 5
}
