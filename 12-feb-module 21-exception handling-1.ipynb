{
 "cells": [
  {
   "cell_type": "markdown",
   "id": "e25eb0d2-3812-4f64-bfba-bbcdfad92877",
   "metadata": {},
   "source": [
    "Q1.what is an exception in python ?write the difference between exceptions and syntax errors."
   ]
  },
  {
   "cell_type": "markdown",
   "id": "45508ca6-38e3-4795-bf0c-011c1a30f896",
   "metadata": {},
   "source": [
    "In Python, an exception is an event that occurs during the execution of a program that disrupts the normal flow of the program's instructions. It is a runtime error that can be handled by the program to avoid crashing.\n",
    "Exceptions occur during the execution of a program. When Python encounters an error, it raises an exception. If the exception is not handled, the program will terminate.\n",
    "\n",
    "Common examples of exceptions include:\n",
    "ZeroDivisionError: Raised when attempting to divide by zero.\n",
    "FileNotFoundError: Raised when trying to open a file that does not exist.\n",
    "IndexError: Raised when trying to access an index that is out of range in a list or tuple.\n",
    "KeyError: Raised when trying to access a key that does not exist in a dictionary.\n",
    "\n",
    "Syntax Errors\n",
    "Syntax errors, on the other hand, are detected by the Python interpreter before the program starts running. They occur when the code does not conform to the syntax rules of the Python language. \n",
    "\n",
    "Common examples include:\n",
    "Missing colons, parentheses, or indentation errors.\n",
    "Misspelled keywords or incorrect usage of operators.\n",
    "\n",
    " ## Key Differences Between Exceptions and Syntax Errors\n",
    "\n",
    "1.) Timing of Detection:\n",
    "Exceptions: Detected at runtime when the program is executed.\n",
    "Syntax Errors: Detected at compile-time (before the program runs) by the interpreter.\n",
    "\n",
    "2.) Handling:\n",
    "Exceptions: Can be caught and handled using try and except blocks.\n",
    "Syntax Errors: Must be fixed by correcting the code. They cannot be caught or handled because the program won't run until they are resolved.\n",
    "\n",
    "3.) Nature:\n",
    "Exceptions: Often due to unforeseen conditions like invalid user input, network issues, or file not found errors.\n",
    "Syntax Errors: Due to incorrect code structure, such as missing colons, indentation issues, or misspelled keywords."
   ]
  },
  {
   "cell_type": "markdown",
   "id": "5e6ea7b7-1534-4890-869c-663e859cb26a",
   "metadata": {},
   "source": [
    "Q2. what happens when an exception is not handled? explain with an example."
   ]
  },
  {
   "cell_type": "markdown",
   "id": "ce6a9218-671f-4985-ad94-ac88eabcd304",
   "metadata": {},
   "source": [
    "When an exception is not handled in Python, the program will terminate abruptly, and a traceback message will be displayed. This traceback message shows the sequence of function calls that led to the error, helping to identify where the exception occurred.\n",
    "\n",
    "Here's an example to illustrate what happens when an exception is not handled:"
   ]
  },
  {
   "cell_type": "code",
   "execution_count": 1,
   "id": "b8b295bb-efba-49a1-b2bc-a2c78006ce49",
   "metadata": {},
   "outputs": [
    {
     "ename": "ZeroDivisionError",
     "evalue": "division by zero",
     "output_type": "error",
     "traceback": [
      "\u001b[0;31m---------------------------------------------------------------------------\u001b[0m",
      "\u001b[0;31mZeroDivisionError\u001b[0m                         Traceback (most recent call last)",
      "Cell \u001b[0;32mIn[1], line 8\u001b[0m\n\u001b[1;32m      5\u001b[0m     result \u001b[38;5;241m=\u001b[39m divide(\u001b[38;5;241m10\u001b[39m, \u001b[38;5;241m0\u001b[39m)\n\u001b[1;32m      6\u001b[0m     \u001b[38;5;28mprint\u001b[39m(\u001b[38;5;124m\"\u001b[39m\u001b[38;5;124mResult:\u001b[39m\u001b[38;5;124m\"\u001b[39m, result)\n\u001b[0;32m----> 8\u001b[0m \u001b[43mmain\u001b[49m\u001b[43m(\u001b[49m\u001b[43m)\u001b[49m\n",
      "Cell \u001b[0;32mIn[1], line 5\u001b[0m, in \u001b[0;36mmain\u001b[0;34m()\u001b[0m\n\u001b[1;32m      4\u001b[0m \u001b[38;5;28;01mdef\u001b[39;00m \u001b[38;5;21mmain\u001b[39m():\n\u001b[0;32m----> 5\u001b[0m     result \u001b[38;5;241m=\u001b[39m \u001b[43mdivide\u001b[49m\u001b[43m(\u001b[49m\u001b[38;5;241;43m10\u001b[39;49m\u001b[43m,\u001b[49m\u001b[43m \u001b[49m\u001b[38;5;241;43m0\u001b[39;49m\u001b[43m)\u001b[49m\n\u001b[1;32m      6\u001b[0m     \u001b[38;5;28mprint\u001b[39m(\u001b[38;5;124m\"\u001b[39m\u001b[38;5;124mResult:\u001b[39m\u001b[38;5;124m\"\u001b[39m, result)\n",
      "Cell \u001b[0;32mIn[1], line 2\u001b[0m, in \u001b[0;36mdivide\u001b[0;34m(a, b)\u001b[0m\n\u001b[1;32m      1\u001b[0m \u001b[38;5;28;01mdef\u001b[39;00m \u001b[38;5;21mdivide\u001b[39m(a, b):\n\u001b[0;32m----> 2\u001b[0m     \u001b[38;5;28;01mreturn\u001b[39;00m \u001b[43ma\u001b[49m\u001b[43m \u001b[49m\u001b[38;5;241;43m/\u001b[39;49m\u001b[43m \u001b[49m\u001b[43mb\u001b[49m\n",
      "\u001b[0;31mZeroDivisionError\u001b[0m: division by zero"
     ]
    }
   ],
   "source": [
    "def divide(a, b):\n",
    "    return a / b\n",
    "\n",
    "def main():\n",
    "    result = divide(10, 0)\n",
    "    print(\"Result:\", result)\n",
    "\n",
    "main()\n"
   ]
  },
  {
   "cell_type": "markdown",
   "id": "1db73be9-ba1e-422e-92ff-b86834d7d769",
   "metadata": {},
   "source": [
    "To handle the above exception and prevent the program from crashing, we can use a try-except block"
   ]
  },
  {
   "cell_type": "markdown",
   "id": "086a03cf-2c3e-4b8b-a842-8acba9d86f29",
   "metadata": {},
   "source": [
    "Q3.which python statements are used to catch and handle exceptions? explain with an example."
   ]
  },
  {
   "cell_type": "markdown",
   "id": "7383a0eb-99f5-4f5d-9b71-e1d660d53eec",
   "metadata": {},
   "source": [
    "In Python, exceptions are caught and handled using the try, except, else, and finally statements. Here's a brief explanation of each:\n",
    "\n",
    "try: This block lets you test a block of code for errors.\n",
    "except: This block lets you handle the error.\n",
    "else: This block lets you execute code if no exceptions were raised.\n",
    "finally: This block lets you execute code, regardless of whether an exception was raised or not.\n",
    "\n",
    "Here’s an example to illustrate how these statements work together:"
   ]
  },
  {
   "cell_type": "code",
   "execution_count": 2,
   "id": "3d9107db-7a0e-47cc-b69a-ec2a0439a950",
   "metadata": {},
   "outputs": [
    {
     "name": "stdin",
     "output_type": "stream",
     "text": [
      "Enter a number:  a\n"
     ]
    },
    {
     "name": "stdout",
     "output_type": "stream",
     "text": [
      "Please enter a valid integer.\n",
      "Execution completed.\n"
     ]
    }
   ],
   "source": [
    "try:\n",
    "    # Block of code to try (may cause an exception)\n",
    "    number = int(input(\"Enter a number: \"))\n",
    "    result = 10 / number\n",
    "except ValueError:\n",
    "    # This block will execute if a ValueError occurs\n",
    "    print(\"Please enter a valid integer.\")\n",
    "except ZeroDivisionError:\n",
    "    # This block will execute if a ZeroDivisionError occurs\n",
    "    print(\"You can't divide by zero!\")\n",
    "else:\n",
    "    # This block will execute if no exceptions occur\n",
    "    print(f\"The result is {result}\")\n",
    "finally:\n",
    "    # This block will execute no matter what\n",
    "    print(\"Execution completed.\")\n"
   ]
  },
  {
   "cell_type": "markdown",
   "id": "34d2ed83-8030-4665-9650-86e75100deb7",
   "metadata": {},
   "source": [
    "Q4. Explain with an example :\n"
   ]
  },
  {
   "cell_type": "markdown",
   "id": "8b7c3e7f-1fa9-4688-aab7-49b869bb1f60",
   "metadata": {},
   "source": [
    "1. try and else:\n",
    "\n",
    "In Python, the try and else blocks are part of the exception handling mechanism. They allow you to handle errors gracefully and execute specific code depending on whether an exception occurred or not.\n",
    "\n",
    "The try block lets you test a block of code for errors.\n",
    "The except block lets you handle the error.\n",
    "The else block lets you execute code when no errors occur.\n",
    "\n",
    "Here's a simple example to illustrate the use of try and else:"
   ]
  },
  {
   "cell_type": "code",
   "execution_count": 3,
   "id": "a3ae5ec6-995c-430f-8f16-20d56bc56d0a",
   "metadata": {},
   "outputs": [
    {
     "name": "stdout",
     "output_type": "stream",
     "text": [
      "The result of the division is: 5.0\n",
      "Error: Cannot divide by zero.\n"
     ]
    }
   ],
   "source": [
    "def divide_numbers(a, b):\n",
    "    try:\n",
    "        # Try to execute this block of code\n",
    "        result = a / b\n",
    "    except ZeroDivisionError:\n",
    "        # This block will run if there is a ZeroDivisionError\n",
    "        print(\"Error: Cannot divide by zero.\")\n",
    "    else:\n",
    "        # This block will run if no exceptions are raised in the try block\n",
    "        print(f\"The result of the division is: {result}\")\n",
    "\n",
    "# Examples\n",
    "divide_numbers(10, 2)  # This should work and trigger the else block\n",
    "divide_numbers(10, 0)  # This should raise a ZeroDivisionError and trigger the except block\n"
   ]
  },
  {
   "cell_type": "markdown",
   "id": "fbb3b4f4-a225-4a9e-93d1-bf4eb87e90a2",
   "metadata": {},
   "source": [
    "Using the else block is useful when you have code that should only run if the try block does not raise any exceptions. It helps to clearly separate the normal execution path from the error handling logic."
   ]
  },
  {
   "cell_type": "markdown",
   "id": "21bf8ba2-41b9-483d-b5ff-6573361e6fcb",
   "metadata": {},
   "source": [
    "2.finally\n",
    "In Python, the finally block is used in conjunction with try and except blocks to define a block of code that will be executed no matter what happens in the try block. This is useful for cleanup activities, such as closing files or releasing resources, that should occur whether an exception was raised or not.\n",
    "\n",
    "example to illustrate the use of finally:"
   ]
  },
  {
   "cell_type": "code",
   "execution_count": 4,
   "id": "9519e289-d38d-402f-8e22-1f8fa46f971f",
   "metadata": {},
   "outputs": [
    {
     "name": "stdout",
     "output_type": "stream",
     "text": [
      "File not found!\n",
      "Cleaning up...\n",
      "No file to close.\n"
     ]
    }
   ],
   "source": [
    "try:\n",
    "    # Try to open a file and read its contents\n",
    "    file = open('example.txt', 'r')\n",
    "    data = file.read()\n",
    "    print(data)\n",
    "except FileNotFoundError:\n",
    "    # This block will run if the file does not exist\n",
    "    print(\"File not found!\")\n",
    "finally:\n",
    "    # This block will always run, whether an exception was raised or not\n",
    "    print(\"Cleaning up...\")\n",
    "    try:\n",
    "        file.close()\n",
    "    except NameError:\n",
    "        # Handle the case where 'file' was not defined because of an earlier exception\n",
    "        print(\"No file to close.\")\n"
   ]
  },
  {
   "cell_type": "markdown",
   "id": "4e9e4a20-6192-4b53-9114-328d7757094c",
   "metadata": {},
   "source": [
    "The finally block is useful for cleanup actions that must occur whether an exception was raised or not.\n",
    "It ensures that certain important code is executed no matter what happens in the try block.\n",
    "Even if the try block contains a return statement, the finally block will still execute before the function actually returns."
   ]
  },
  {
   "cell_type": "markdown",
   "id": "f51a1ba2-e384-45e4-9288-84e5a31bab76",
   "metadata": {},
   "source": [
    "3. raise\n",
    "In Python, the raise statement is used to trigger an exception manually. This can be useful for error handling, especially when you want to indicate that an unexpected condition has occurred in your code.       \n",
    "\n",
    "Here is a simple example to illustrate how raise works:"
   ]
  },
  {
   "cell_type": "markdown",
   "id": "9043a4ab-dbae-4adf-a0ef-5a65f0f265d5",
   "metadata": {},
   "source": [
    "def check_positive_number(number):\n",
    "    if number < 0:\n",
    "        raise ValueError(\"The number is negative!\")\n",
    "    else:\n",
    "        return f\"The number {number} is positive.\"\n",
    "\n",
    "try:\n",
    "    result = check_positive_number(-5)\n",
    "    print(result)\n",
    "except ValueError as e:\n",
    "    print(e)\n"
   ]
  },
  {
   "cell_type": "markdown",
   "id": "2e316fbc-81cb-4422-b202-633dc8086498",
   "metadata": {},
   "source": [
    "In this example, when check_positive_number is called with -5, the function raises a ValueError, and the except block catches and prints the error message \"The number is negative!\"."
   ]
  },
  {
   "cell_type": "markdown",
   "id": "05d83836-8d41-4cb0-b3b8-9c810aca1652",
   "metadata": {},
   "source": [
    "Q5. what are the custom exceptions in python ?why do we need custom exceptions ?  explain with an example."
   ]
  },
  {
   "cell_type": "markdown",
   "id": "74f70f94-9244-4ed6-bcb9-f00e880885e9",
   "metadata": {},
   "source": [
    "Custom exceptions in Python are user-defined exceptions that allow you to create your own error types suited to your specific needs. While Python provides many built-in exceptions like ValueError, TypeError, and IndexError, sometimes these are not specific enough for your application. Creating custom exceptions can make your code more readable and your error handling more precise and meaningful.\n",
    "\n",
    "Why Do We Need Custom Exceptions?\n",
    "\n",
    "Clarity: Custom exceptions can provide more informative error messages and help differentiate between different error conditions.\n",
    "\n",
    "Specificity: They allow you to capture and handle specific issues that are unique to your application.\n",
    "\n",
    "Maintainability: By creating meaningful exception names and hierarchies, you can make your code more maintainable and easier to debug.\n",
    "\n",
    "Control Flow: They give you more control over the flow of your program, allowing you to handle specific errors in a targeted way.\n",
    "\n",
    "How to Create Custom Exceptions\n",
    "Custom exceptions are created by defining a new class that inherits from the built-in Exception class (or another built-in exception).\n",
    "\n",
    "Example\n",
    "Here's an example that demonstrates how to create and use custom exceptions:"
   ]
  },
  {
   "cell_type": "code",
   "execution_count": 6,
   "id": "efb36d88-e870-4b12-b231-163e24182659",
   "metadata": {},
   "outputs": [
    {
     "name": "stdin",
     "output_type": "stream",
     "text": [
      "Enter your age:  121\n"
     ]
    },
    {
     "name": "stdout",
     "output_type": "stream",
     "text": [
      "InvalidAgeError: 121 is not a valid age. Age must be between 0 and 120\n"
     ]
    }
   ],
   "source": [
    "class InvalidAgeError(Exception):\n",
    "    \"\"\"Exception raised for invalid age input.\"\"\"\n",
    "    def __init__(self, age, message=\"Age must be between 0 and 120\"):\n",
    "        self.age = age\n",
    "        self.message = message\n",
    "        super().__init__(self.message)\n",
    "\n",
    "class UnderAgeError(Exception):\n",
    "    \"\"\"Exception raised when age is less than 18.\"\"\"\n",
    "    def __init__(self, age, message=\"You must be at least 18 years old\"):\n",
    "        self.age = age\n",
    "        self.message = message\n",
    "        super().__init__(self.message)\n",
    "\n",
    "def verify_age(age):\n",
    "    if not 0 <= age <= 120:\n",
    "        raise InvalidAgeError(age)\n",
    "    if age < 18:\n",
    "        raise UnderAgeError(age)\n",
    "    return \"Age is valid and over 18.\"\n",
    "\n",
    "# Example usage\n",
    "try:\n",
    "    age = int(input(\"Enter your age: \"))\n",
    "    print(verify_age(age))\n",
    "except InvalidAgeError as e:\n",
    "    print(f\"InvalidAgeError: {e.age} is not a valid age. {e.message}\")\n",
    "except UnderAgeError as e:\n",
    "    print(f\"UnderAgeError: {e.age} is too young. {e.message}\")\n",
    "except ValueError:\n",
    "    print(\"ValueError: Please enter a valid number for age.\")\n"
   ]
  },
  {
   "cell_type": "markdown",
   "id": "cb1fe446-9af3-4e2a-98c9-56ee4a62cad5",
   "metadata": {},
   "source": [
    "Q6. create a custom exception class. use this class to handle an exception."
   ]
  },
  {
   "cell_type": "code",
   "execution_count": 1,
   "id": "0868eee7-4997-41ac-9d72-d67293bb4212",
   "metadata": {},
   "outputs": [
    {
     "name": "stdout",
     "output_type": "stream",
     "text": [
      "An error occurred: Division by zero is not allowed.\n"
     ]
    }
   ],
   "source": [
    "class CustomException(Exception):\n",
    "    \"\"\"Custom Exception class for demonstration.\"\"\"\n",
    "    def __init__(self, message):\n",
    "        super().__init__(message)\n",
    "\n",
    "def divide(a, b):\n",
    "    if b == 0:\n",
    "        raise CustomException(\"Division by zero is not allowed.\")\n",
    "    return a / b\n",
    "\n",
    "try:\n",
    "    result = divide(10, 0)\n",
    "    print(f\"The result is {result}\")\n",
    "except CustomException as e:\n",
    "    print(f\"An error occurred: {e}\")\n"
   ]
  },
  {
   "cell_type": "code",
   "execution_count": null,
   "id": "804c6a71-68c5-4deb-8366-e8a266017308",
   "metadata": {},
   "outputs": [],
   "source": []
  }
 ],
 "metadata": {
  "kernelspec": {
   "display_name": "Python 3 (ipykernel)",
   "language": "python",
   "name": "python3"
  },
  "language_info": {
   "codemirror_mode": {
    "name": "ipython",
    "version": 3
   },
   "file_extension": ".py",
   "mimetype": "text/x-python",
   "name": "python",
   "nbconvert_exporter": "python",
   "pygments_lexer": "ipython3",
   "version": "3.10.8"
  }
 },
 "nbformat": 4,
 "nbformat_minor": 5
}
