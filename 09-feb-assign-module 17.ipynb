{
 "cells": [
  {
   "cell_type": "markdown",
   "id": "2db5d253-1941-4279-94b3-d7ec65c80f31",
   "metadata": {},
   "source": [
    "Q1., Create a vehicle class with an init method having instance variables as name_of_vehicle, max_speed and average_of_vehicle. "
   ]
  },
  {
   "cell_type": "code",
   "execution_count": 3,
   "id": "e534339a-4645-437a-847e-6bb7c5474634",
   "metadata": {},
   "outputs": [],
   "source": [
    "class Vehicle:\n",
    "    def __init__(self, name_of_vehicle, max_speed, average_of_vehicle):\n",
    "        self.name_of_vehicle = name_of_vehicle\n",
    "        self.max_speed = max_speed\n",
    "        self.average_of_vehicle = average_of_vehicle   "
   ]
  },
  {
   "cell_type": "markdown",
   "id": "034cf7b0-7cd5-418e-a1d5-59d003000f63",
   "metadata": {},
   "source": [
    "Q2.Create a child class car from the vehicle class created in Que 1, which will inherit the vehicle class.Create a method named seating_capacity which takes capacity as an argument and returns the name of the vehicle and its seating capacity."
   ]
  },
  {
   "cell_type": "code",
   "execution_count": 10,
   "id": "7b508dbe-b9c6-4586-b7bc-42578c65f713",
   "metadata": {},
   "outputs": [
    {
     "name": "stdout",
     "output_type": "stream",
     "text": [
      "Sedan has a max speed of 180 and an average of 25 MPG.\n",
      "The Sedan has a seating capacity of 5 people.\n"
     ]
    }
   ],
   "source": [
    "class Vehicle:\n",
    "    def __init__(self, name_of_vehicle, max_speed, average_of_vehicle):\n",
    "        self.name_of_vehicle = name_of_vehicle\n",
    "        self.max_speed = max_speed\n",
    "        self.average_of_vehicle = average_of_vehicle  \n",
    "        \n",
    "class Car(Vehicle):\n",
    "    def __init__(self, name_of_vehicle, max_speed, average_of_vehicle):\n",
    "        # Call the __init__ method of the parent class (Vehicle)\n",
    "         super().__init__(name_of_vehicle, max_speed, average_of_vehicle)\n",
    "       \n",
    "    def seating_capacity(self, capacity):\n",
    "        return f\"The {self.name_of_vehicle} has a seating capacity of {capacity} people.\"\n",
    "\n",
    "# Example usage:\n",
    "sedan = Car(name_of_vehicle=\"Sedan\", max_speed=180, average_of_vehicle=25)\n",
    "\n",
    "# Accessing inherited attributes\n",
    "print(f\"{sedan.name_of_vehicle} has a max speed of {sedan.max_speed} and an average of {sedan.average_of_vehicle} MPG.\")\n",
    "\n",
    "# Using the new method\n",
    "capacity_result = sedan.seating_capacity(5)\n",
    "print(capacity_result)\n"
   ]
  },
  {
   "cell_type": "markdown",
   "id": "1d72b301-d9d9-4281-806e-0f737be18214",
   "metadata": {},
   "source": [
    "Q3.What is multiple inheritance? Write a python code to demonstrate multiple inheritance."
   ]
  },
  {
   "cell_type": "markdown",
   "id": "302713d6-c44f-474e-a7ff-6e46391f9589",
   "metadata": {},
   "source": [
    "Multiple inheritance is a feature in object-oriented programming languages where a class can inherit attributes and methods from more than one parent class. In Python, you can create a class that inherits from multiple classes by listing them in the class definition.\n",
    "\n",
    "example :"
   ]
  },
  {
   "cell_type": "code",
   "execution_count": 12,
   "id": "6cdf4e4a-f5b1-4f65-8293-ee65bbb16d35",
   "metadata": {},
   "outputs": [
    {
     "name": "stdout",
     "output_type": "stream",
     "text": [
      "Dog says: woof!\n",
      "Dog gives birth to: puppies\n",
      "Cat says: meow!\n",
      "Cat gives birth to: kittens\n"
     ]
    }
   ],
   "source": [
    "# parent class 1\n",
    "class Animal :\n",
    "    def speak(self):\n",
    "        pass\n",
    "# parent class 2\n",
    "class Mammal :\n",
    "    def give_birth(self):\n",
    "        pass\n",
    "# child class inheriting from Animal and Mammal\n",
    "\n",
    "class Dog(Animal, Mammal):\n",
    "    def speak(self):\n",
    "        return \"woof!\"\n",
    "    \n",
    "    def give_birth(self):\n",
    "        return \"puppies\"\n",
    "    \n",
    "# child class inheriting from Animal and Mammal \n",
    "\n",
    "class Cat(Animal, Mammal):\n",
    "    def speak(self):\n",
    "        return \"meow!\"\n",
    "    \n",
    "    def give_birth(self):\n",
    "        return \"kittens\"\n",
    "    \n",
    "dog_instance = Dog()\n",
    "print(\"Dog says:\", dog_instance.speak())\n",
    "print(\"Dog gives birth to:\", dog_instance.give_birth())\n",
    "\n",
    "cat_instance = Cat()\n",
    "print(\"Cat says:\", cat_instance.speak())\n",
    "print(\"Cat gives birth to:\", cat_instance.give_birth())\n",
    "\n"
   ]
  },
  {
   "cell_type": "markdown",
   "id": "e9f7834d-d7a4-4ae6-80c1-197ae7b6e3b0",
   "metadata": {},
   "source": [
    "Q4.What are getter and setter in python? Create a class and create a getter and a setter method in this class."
   ]
  },
  {
   "cell_type": "markdown",
   "id": "da346906-f2ec-4129-9e5f-fdcb824a3201",
   "metadata": {},
   "source": [
    "In Python, getter and setter methods are used to control access to the attributes of a class. They allow you to get (retrieve) and set (modify) the values of the class attributes in a controlled manner. This helps in encapsulation and ensures that the internal representation of the class is not directly exposed.\n",
    "Example :"
   ]
  },
  {
   "cell_type": "code",
   "execution_count": 25,
   "id": "dc9bb332-4651-41b8-a601-d85c245b9cb0",
   "metadata": {},
   "outputs": [
    {
     "name": "stdout",
     "output_type": "stream",
     "text": [
      "Current value: 42\n",
      "New value: 25\n",
      "Error: Value must be non-negative.\n",
      "Updated value after attempting to set a negative value: 25\n"
     ]
    }
   ],
   "source": [
    "class MyClass:\n",
    "    def __init__(self , value):  # private attribute with a default value\n",
    "        self._value = value\n",
    "        \n",
    "       # Getter method\n",
    "    def get_value(self):\n",
    "        return self._value\n",
    "\n",
    "    # Setter method\n",
    "    def set_value(self, new_value):\n",
    "        if new_value >= 0:\n",
    "            self._value = new_value\n",
    "        else:\n",
    "            print(\"Error: Value must be non-negative.\")   \n",
    "\n",
    "\n",
    "obj = MyClass(42)\n",
    "\n",
    "# using the getter method\n",
    "current_value = obj.get_value()\n",
    "print(\"Current value:\", current_value)\n",
    "\n",
    "# using the setter method\n",
    "new_value = 25\n",
    "obj.set_value(new_value)\n",
    "print(\"New value:\", obj.get_value())\n",
    "\n",
    "# Attempting to set a negative value\n",
    "obj.set_value(-5)\n",
    "print(\"Updated value after attempting to set a negative value:\", obj.get_value())\n",
    "\n"
   ]
  },
  {
   "cell_type": "markdown",
   "id": "6d2b1048-7f5c-46fd-ae3e-6f5aed2a35ad",
   "metadata": {},
   "source": [
    "Q5..What is method overriding in python? Write a python code to demonstrate method overriding"
   ]
  },
  {
   "cell_type": "markdown",
   "id": "935c7fd6-c28e-4faf-8c60-30b872dc6a54",
   "metadata": {},
   "source": [
    "Method overriding in Python occurs when a subclass provides a specific implementation for a method that is already defined in its superclass. This allows the subclass to provide a specialized version of the method without changing the behavior of the superclass. In Python, method overriding is achieved by defining a method in the subclass with the same name and signature as the method in the superclass\n",
    "\n",
    "Example :"
   ]
  },
  {
   "cell_type": "code",
   "execution_count": 26,
   "id": "2e53fb5f-24f7-4e6d-9a91-ec9d1a753853",
   "metadata": {},
   "outputs": [
    {
     "name": "stdout",
     "output_type": "stream",
     "text": [
      "Dog:\n",
      "Dog barks\n",
      "Cat:\n",
      "Cat meows\n"
     ]
    }
   ],
   "source": [
    "class Animal:\n",
    "    def speak(self):\n",
    "        print(\"Animal speaks\")\n",
    "        \n",
    "class Dog(Animal):\n",
    "    def speak(self):\n",
    "        print(\"Dog barks\")\n",
    "        \n",
    "class Cat(Animal):\n",
    "    def speak(self):\n",
    "        print(\"Cat meows\")\n",
    "        \n",
    "# instances of subclasses\n",
    "dog_instance = Dog()\n",
    "cat_instance = Cat()\n",
    "\n",
    "# method overriding\n",
    "\n",
    "print(\"Dog:\")\n",
    "dog_instance.speak()\n",
    "\n",
    "print(\"Cat:\")\n",
    "cat_instance.speak()"
   ]
  },
  {
   "cell_type": "markdown",
   "id": "8c72c62f-24ac-409f-b7a7-d8298cfb45ce",
   "metadata": {},
   "source": [
    "In this example, we have a base class Animal with a method speak. The Dog and Cat classes are subclasses of Animal and override the speak method with their own implementations. When instances of these subclasses call the speak method, the overridden version in each subclass is executed"
   ]
  },
  {
   "cell_type": "code",
   "execution_count": null,
   "id": "75d63263-ec6a-4e87-b5bc-cdb3496eb5be",
   "metadata": {},
   "outputs": [],
   "source": []
  }
 ],
 "metadata": {
  "kernelspec": {
   "display_name": "Python 3 (ipykernel)",
   "language": "python",
   "name": "python3"
  },
  "language_info": {
   "codemirror_mode": {
    "name": "ipython",
    "version": 3
   },
   "file_extension": ".py",
   "mimetype": "text/x-python",
   "name": "python",
   "nbconvert_exporter": "python",
   "pygments_lexer": "ipython3",
   "version": "3.10.8"
  }
 },
 "nbformat": 4,
 "nbformat_minor": 5
}
