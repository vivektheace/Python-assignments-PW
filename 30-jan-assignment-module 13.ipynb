{
 "cells": [
  {
   "cell_type": "markdown",
   "id": "2111398b-f89d-49da-81a8-c202f464220a",
   "metadata": {},
   "source": [
    "Q1.write a program to accept percentage from the user and display the grade acoording to the following criteria :\n",
    "   marks               grade \n",
    "   >90                   A\n",
    "   >80 and <=90          B\n",
    "   >60 and <=80          C\n",
    "   below 60              D"
   ]
  },
  {
   "cell_type": "code",
   "execution_count": 3,
   "id": "2c141566-ddd6-41da-aa8f-fa5ff3f8e0ac",
   "metadata": {},
   "outputs": [
    {
     "name": "stdin",
     "output_type": "stream",
     "text": [
      "enter your marks 50\n"
     ]
    },
    {
     "name": "stdout",
     "output_type": "stream",
     "text": [
      "your grade is D\n"
     ]
    }
   ],
   "source": [
    "marks = int(input(\"enter your marks\"))\n",
    "if marks >=90 :\n",
    "    print(\"your grade is A\")\n",
    "elif marks > 80 and marks<=90 :\n",
    "    print(\"your grade is B\")\n",
    "elif marks > 60 and marks<= 80 :\n",
    "    print(\"your grade is C\")\n",
    "else :\n",
    "    print(\"your grade is D\")"
   ]
  },
  {
   "cell_type": "markdown",
   "id": "c220fcb7-c6e3-4369-8549-73594b85700a",
   "metadata": {},
   "source": [
    "Q2.write a programme to accept the cost price of a bike and display the road tax to be paid according to the following crioteria :\n",
    "   TAX     COST PRICE(in rupees)\n",
    "   15%     >100000       \n",
    "   10%     >50000 and <=100000\n",
    "   5%      <=50000"
   ]
  },
  {
   "cell_type": "code",
   "execution_count": 12,
   "id": "2b507078-bccb-4748-89d8-1ce04537035e",
   "metadata": {},
   "outputs": [
    {
     "name": "stdin",
     "output_type": "stream",
     "text": [
      "enter the cost price 40000\n"
     ]
    },
    {
     "name": "stdout",
     "output_type": "stream",
     "text": [
      "road tax to be paid is 5%\n"
     ]
    }
   ],
   "source": [
    "Price = int(input(\"enter the cost price\"))\n",
    "if  Price >100000 :\n",
    "    print(\"road tax to be paid is 15%\")\n",
    "elif Price>100000 and Price <=100000 :\n",
    "    print(\"road tax to be paid is 10%\")\n",
    "else :\n",
    "    print(\"road tax to be paid is 5%\")"
   ]
  },
  {
   "cell_type": "markdown",
   "id": "2fb67abd-10f7-418b-8494-3eb8f6e7a940",
   "metadata": {},
   "source": [
    "Q3. Accept any city from the user and display the monuments of that city :\n",
    "    CITY              MONUMENT  \n",
    "    DELHI             red fort\n",
    "    AGRA              taj mahal\n",
    "    JAIPUR            jal mahal"
   ]
  },
  {
   "cell_type": "code",
   "execution_count": 13,
   "id": "3d3c5d93-6b60-4ae9-8b06-80e4ba4e8a9b",
   "metadata": {},
   "outputs": [
    {
     "name": "stdin",
     "output_type": "stream",
     "text": [
      "enter the name of your city jaipur\n"
     ]
    },
    {
     "name": "stdout",
     "output_type": "stream",
     "text": [
      "jal mahal\n"
     ]
    }
   ],
   "source": [
    "city = input(\"enter the name of your city\")\n",
    "if city == \"delhi\" :\n",
    "    print(\"red fort\")\n",
    "elif city == \"agra\" :\n",
    "    print(\"taj mahal\")\n",
    "else :\n",
    "    print(\"jal mahal\")"
   ]
  },
  {
   "cell_type": "markdown",
   "id": "9344d653-3e83-48be-be53-6fbe8aab866e",
   "metadata": {},
   "source": [
    "Q4.check how many times a given number can be divided by 3 before it is less than or equal to 10 ?"
   ]
  },
  {
   "cell_type": "code",
   "execution_count": 17,
   "id": "5c56c607-a7e0-4668-b43d-81a63e05307b",
   "metadata": {},
   "outputs": [],
   "source": [
    "x = [1,2,3,4,5,6,7,8,9,10]\n",
    "y = 3\n",
    "z= []\n",
    "for i in x :\n",
    "    z.append(i/y)"
   ]
  },
  {
   "cell_type": "code",
   "execution_count": 18,
   "id": "74553450-cccf-4468-8c57-4e2a571e674b",
   "metadata": {},
   "outputs": [
    {
     "data": {
      "text/plain": [
       "[0.3333333333333333,\n",
       " 0.6666666666666666,\n",
       " 1.0,\n",
       " 1.3333333333333333,\n",
       " 1.6666666666666667,\n",
       " 2.0,\n",
       " 2.3333333333333335,\n",
       " 2.6666666666666665,\n",
       " 3.0,\n",
       " 3.3333333333333335]"
      ]
     },
     "execution_count": 18,
     "metadata": {},
     "output_type": "execute_result"
    }
   ],
   "source": [
    "z"
   ]
  },
  {
   "cell_type": "markdown",
   "id": "eaee5c72-1547-47aa-9472-7996103efcb9",
   "metadata": {},
   "source": [
    "Q5. why and when to use while loop in python give a detailed description with example."
   ]
  },
  {
   "cell_type": "markdown",
   "id": "ab4ecdd9-5092-4b27-8d74-895eeb8cd224",
   "metadata": {},
   "source": [
    "A while loop in Python is used when you want to repeatedly execute a block of code as long as a specified condition is true. It continues iterating until the condition becomes false.\n",
    "\n",
    "syntax :\n",
    "while condition:\n",
    "    # Code to be executed while the condition is true\n",
    "\n",
    "Use Cases:\n",
    "Unknown Number of Iterations:\n",
    "When you don't know in advance how many times you need to iterate.\n",
    "For example, reading user input until a specific condition is met.\n",
    "\n",
    "Event-Driven Programming:\n",
    "When the loop is driven by external events rather than a predetermined number of iterations.\n",
    "\n",
    "Continuous Monitoring:\n",
    "In scenarios where you need to continuously monitor a condition and perform an action as long as the condition holds.\n",
    "\n",
    "Example : Printing numbers from 1 to 5 using a while loop\n",
    "count = 1  # Initial value\n",
    "\n",
    "while count <= 5:  # Condition: continue while count is less than or equal to 5\n",
    "    print(count)\n",
    "    count += 1  # Increment the count in each iteration\n",
    "\n",
    "print(\"Loop finished\")\n",
    "\n",
    "In this example, the while loop is appropriate because we want to iterate a variable number of times based on a condition. The loop continues until count is no longer less than or equal to 5."
   ]
  },
  {
   "cell_type": "code",
   "execution_count": 1,
   "id": "1eb29f4e-0e8e-4cf1-b7bf-3a31ab704d88",
   "metadata": {},
   "outputs": [
    {
     "name": "stdout",
     "output_type": "stream",
     "text": [
      "1\n",
      "2\n",
      "3\n",
      "4\n",
      "5\n",
      "Loop finished\n"
     ]
    }
   ],
   "source": [
    "count = 1\n",
    "while count <= 5:\n",
    "    print(count)\n",
    "    count += 1\n",
    "print(\"Loop finished\")"
   ]
  },
  {
   "cell_type": "markdown",
   "id": "e1e0e2a3-85cb-472e-87ad-517aa4a54020",
   "metadata": {},
   "source": [
    "Q6. use nested while loop to print three different patterns\n",
    "ans. Square pattern\n",
    "     Right Triangle Pattern\n",
    "     Inverted Right Triangle Pattern"
   ]
  },
  {
   "cell_type": "code",
   "execution_count": 5,
   "id": "b67a2fe7-bc43-43ce-b6c8-6cba5db21330",
   "metadata": {},
   "outputs": [
    {
     "name": "stdout",
     "output_type": "stream",
     "text": [
      "* * * * \n",
      "* * * * \n",
      "* * * * \n",
      "* * * * \n"
     ]
    }
   ],
   "source": [
    "rows = 4\n",
    "i = 1\n",
    "\n",
    "while i <= rows:\n",
    "    j = 1\n",
    "    while j <= rows:\n",
    "        print(\"* \", end=\"\")\n",
    "        j += 1\n",
    "    print()\n",
    "    i += 1"
   ]
  },
  {
   "cell_type": "code",
   "execution_count": 6,
   "id": "da64da3f-1eab-4683-bee9-2ffc3cd882d5",
   "metadata": {},
   "outputs": [
    {
     "name": "stdout",
     "output_type": "stream",
     "text": [
      "* \n",
      "* * \n",
      "* * * \n",
      "* * * * \n",
      "* * * * * \n"
     ]
    }
   ],
   "source": [
    "rows = 5\n",
    "i = 1\n",
    "\n",
    "while i <= rows:\n",
    "    j = 1\n",
    "    while j <= i:\n",
    "        print(\"* \", end=\"\")\n",
    "        j += 1\n",
    "    print()\n",
    "    i += 1"
   ]
  },
  {
   "cell_type": "code",
   "execution_count": 7,
   "id": "a0a803d8-fc3e-494c-8013-0bcf49aaf96c",
   "metadata": {},
   "outputs": [
    {
     "name": "stdout",
     "output_type": "stream",
     "text": [
      "* * * * * \n",
      "* * * * \n",
      "* * * \n",
      "* * \n",
      "* \n"
     ]
    }
   ],
   "source": [
    "rows = 5\n",
    "i = rows\n",
    "\n",
    "while i >= 1:\n",
    "    j = 1\n",
    "    while j <= i:\n",
    "        print(\"* \", end=\"\")\n",
    "        j += 1\n",
    "    print()\n",
    "    i -= 1"
   ]
  },
  {
   "cell_type": "markdown",
   "id": "aeb8e58e-6e36-463b-827a-607b35efb32c",
   "metadata": {},
   "source": [
    "Q7.Reverse a while loop to display numbers from 10 to 1"
   ]
  },
  {
   "cell_type": "code",
   "execution_count": 11,
   "id": "a63fa64d-80ba-462b-8693-836440157db4",
   "metadata": {},
   "outputs": [
    {
     "name": "stdout",
     "output_type": "stream",
     "text": [
      "10\n",
      "9\n",
      "8\n",
      "7\n",
      "6\n",
      "5\n",
      "4\n",
      "3\n",
      "2\n",
      "1\n"
     ]
    }
   ],
   "source": [
    "i = 10\n",
    "while i >= 1 :\n",
    "    print(i)\n",
    "    i -= 1"
   ]
  },
  {
   "cell_type": "markdown",
   "id": "ef84ead4-3439-40b7-b9ca-23ca3eb8c61e",
   "metadata": {},
   "source": [
    "Q8. Reverse a while loop to display numbers from 10 to 1"
   ]
  },
  {
   "cell_type": "code",
   "execution_count": null,
   "id": "16ddb064-4170-423c-84e7-1f7c23bb7e47",
   "metadata": {},
   "outputs": [],
   "source": [
    "ANS. Same as above"
   ]
  }
 ],
 "metadata": {
  "kernelspec": {
   "display_name": "Python 3 (ipykernel)",
   "language": "python",
   "name": "python3"
  },
  "language_info": {
   "codemirror_mode": {
    "name": "ipython",
    "version": 3
   },
   "file_extension": ".py",
   "mimetype": "text/x-python",
   "name": "python",
   "nbconvert_exporter": "python",
   "pygments_lexer": "ipython3",
   "version": "3.10.8"
  }
 },
 "nbformat": 4,
 "nbformat_minor": 5
}
