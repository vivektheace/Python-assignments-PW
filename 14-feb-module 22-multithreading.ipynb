{
 "cells": [
  {
   "cell_type": "markdown",
   "id": "87c2be73-20d5-4a74-9be1-2b83939f9ed5",
   "metadata": {},
   "source": [
    "Q1.what is multithreading in python? why is it used? Name the module used to handle threads in python."
   ]
  },
  {
   "cell_type": "markdown",
   "id": "aa816911-88b2-4177-bcd5-d06967d10e27",
   "metadata": {},
   "source": [
    "Multithreading in Python is a technique that allows the concurrent execution of two or more threads (smaller units of a process). It's used to perform multiple operations at the same time within a single program to improve the performance of applications, especially those that need to handle multiple tasks simultaneously.\n",
    "\n",
    "Why Multithreading is Used:\n",
    "1.Concurrency: To execute multiple tasks at the same time, such as reading user input while processing data.\n",
    "2.Improved Performance: For I/O-bound tasks, multithreading can improve the performance of applications by overlapping I/O operations with computation.\n",
    "3.Responsive Applications: Keeping applications responsive by running time-consuming tasks in the background without freezing the main application.\n",
    "4.Efficient Resource Utilization: Utilizing system resources more efficiently by keeping CPU and I/O operations in balance.\n",
    "\n",
    "Python provides the threading module to handle threads. This module provides a high-level interface for working with threads and includes various methods and classes to manage thread creation and synchronization.\n",
    "example :"
   ]
  },
  {
   "cell_type": "code",
   "execution_count": 1,
   "id": "504f4186-6e7b-4a49-8fbf-b0ec1344ca35",
   "metadata": {},
   "outputs": [
    {
     "name": "stdout",
     "output_type": "stream",
     "text": [
      "Number: 1\n",
      "Number: 2\n",
      "Number: 3\n",
      "Number: 4\n",
      "Number: 5\n",
      "Letter: a\n",
      "Letter: b\n",
      "Letter: c\n",
      "Letter: d\n",
      "Letter: e\n",
      "Threads have completed their execution.\n"
     ]
    }
   ],
   "source": [
    "import threading\n",
    "\n",
    "# Define a function for the thread to execute\n",
    "def print_numbers():\n",
    "    for i in range(1, 6):\n",
    "        print(f'Number: {i}')\n",
    "\n",
    "def print_letters():\n",
    "    for letter in 'abcde':\n",
    "        print(f'Letter: {letter}')\n",
    "\n",
    "# Create two threads\n",
    "thread1 = threading.Thread(target=print_numbers)\n",
    "thread2 = threading.Thread(target=print_letters)\n",
    "\n",
    "# Start the threads\n",
    "thread1.start()\n",
    "thread2.start()\n",
    "\n",
    "# Wait for both threads to complete\n",
    "thread1.join()\n",
    "thread2.join()\n",
    "\n",
    "print(\"Threads have completed their execution.\")\n"
   ]
  },
  {
   "cell_type": "markdown",
   "id": "b6a22878-1d69-4ec6-a9ec-9d9f48226d3f",
   "metadata": {},
   "source": [
    "Q2.why threading module used ? write the uses of following functions :"
   ]
  },
  {
   "cell_type": "markdown",
   "id": "2afb27cb-3963-439f-b333-d813f971f310",
   "metadata": {},
   "source": [
    "The threading module in Python is used to create and manage threads, which allows for concurrent execution of code.some key reasons why the threading module is used are comcurrency , parallelism,improved performance , resource sharing,simplifying design,asynchronous programming "
   ]
  },
  {
   "cell_type": "markdown",
   "id": "3c995386-41f5-4634-b8bf-570e93b30be4",
   "metadata": {},
   "source": [
    "1.activecount()\n",
    " It is used to retrieve the number of Thread objects that are currently active (alive).The active_count() function helps in monitoring and managing threads in a Python program. \n",
    " \n",
    " Functionality:\n",
    "1.Counting Active Threads: It returns the number of active threads spawned by the current Python process.\n",
    "\n",
    "2.Usage: Typically, you would use active_count() to check how many threads are currently running or active in your program. This information can be crucial for debugging or for ensuring that your application doesn't spawn an excessive number of threads\n",
    "example:-"
   ]
  },
  {
   "cell_type": "code",
   "execution_count": 4,
   "id": "96debe62-140c-4dc4-8391-47afd511451d",
   "metadata": {},
   "outputs": [
    {
     "name": "stdout",
     "output_type": "stream",
     "text": [
      "Thread started\n",
      "Thread started\n",
      "Thread started\n",
      "Number of active threads: 11\n",
      "Thread finished\n",
      "Thread finished\n",
      "Thread finished\n"
     ]
    }
   ],
   "source": [
    "import threading\n",
    "import time\n",
    "\n",
    "def worker():\n",
    "    print(\"Thread started\")\n",
    "    time.sleep(5)\n",
    "    print(\"Thread finished\")\n",
    "\n",
    "# Create multiple threads\n",
    "threads = []\n",
    "for _ in range(3):\n",
    "    t = threading.Thread(target=worker)\n",
    "    threads.append(t)\n",
    "    t.start()\n",
    "\n",
    "# Check the number of active threads\n",
    "print(f\"Number of active threads: {threading.active_count()}\")\n"
   ]
  },
  {
   "cell_type": "markdown",
   "id": "44649755-3a7b-4710-acc4-2b4935611019",
   "metadata": {},
   "source": [
    "2.CurrentThread()\n",
    "The current_thread() function returns the current Thread object, representing the thread from which it is called. This is particularly useful in multithreaded applications where you need to identify or manipulate the current thread.\n",
    "\n",
    "Key Uses:\n",
    "\n",
    "1.Identifying the Current Thread:\n",
    "You can use current_thread() to obtain a reference to the Thread object representing the current thread. This allows you to inspect properties of the thread (like its name or ID) or manipulate it (like setting thread-local data)\n",
    "example:"
   ]
  },
  {
   "cell_type": "code",
   "execution_count": 5,
   "id": "08576d26-77bb-407e-bb51-1fbde9cab735",
   "metadata": {},
   "outputs": [
    {
     "name": "stdout",
     "output_type": "stream",
     "text": [
      "Currently executing in thread: WorkerThread\n"
     ]
    }
   ],
   "source": [
    "import threading\n",
    "\n",
    "def worker():\n",
    "    current_thread = threading.current_thread()\n",
    "    print(f\"Currently executing in thread: {current_thread.name}\")\n",
    "\n",
    "t1 = threading.Thread(target=worker, name=\"WorkerThread\")\n",
    "t1.start()\n",
    "t1.join()\n"
   ]
  },
  {
   "cell_type": "markdown",
   "id": "c4857c4d-a2b7-49ae-8241-539d920a5909",
   "metadata": {},
   "source": [
    "2.Thread-Specific Operations:(uses of currentThread())\n",
    "\n",
    "If you need to perform operations that are specific to the current thread, such as logging or maintaining thread-local variables, current_thread() helps in identifying which thread is executing the code."
   ]
  },
  {
   "cell_type": "markdown",
   "id": "dd9754ad-f7a7-475c-ad2e-789a711e503e",
   "metadata": {},
   "source": [
    "3.enumerate()\n",
    "When it comes to threading in Python, enumerate() can be used in several ways, but not directly for managing threads. Here are a few indirect uses or considerations:\n",
    "1.enumerating threads:\n",
    "If you have a list or collection of threads, you can use enumerate() to loop through them and perform operations such as joining or managing their states.\n",
    "\n",
    "2.managing thread states:\n",
    "You can use enumerate() to iterate through threads and check their states, which can be useful for monitoring or debugging purposes.\n",
    "\n",
    "3.Identifying Thread Execution Points:\n",
    "If you have a need to log or track progress across threads, enumerate() can help you to identify where each thread is in execution"
   ]
  },
  {
   "cell_type": "markdown",
   "id": "7bf63f38-b13a-4dd6-aed0-80705b88487a",
   "metadata": {},
   "source": [
    "Q3.explain the following functions :\n",
    "1.run()\n",
    "2.start()\n",
    "3.join()\n",
    "4.isAlive()"
   ]
  },
  {
   "cell_type": "markdown",
   "id": "f57658b7-c371-4014-8b63-eaf9a6899889",
   "metadata": {},
   "source": [
    "1.run() :\n",
    "run() typically refers to the method that you override in a subclass of threading.Thread to define the behavior of the thread.\n",
    "it works this way-\n",
    "-> When you create a new thread by subclassing threading.Thread, you define your thread's behavior in the run() method.\n",
    "-> The run() method contains the code that will be executed in the thread after it's started.\n",
    "-> You do not directly call run() yourself. Instead, you call start() on an instance of your subclassed thread, which internally calls run() for you in the new thread.\n",
    "example :"
   ]
  },
  {
   "cell_type": "code",
   "execution_count": 6,
   "id": "a2ce1f04-0407-4857-87b9-f5f6411f6e71",
   "metadata": {},
   "outputs": [
    {
     "name": "stdout",
     "output_type": "stream",
     "text": [
      "Thread is running\n"
     ]
    }
   ],
   "source": [
    "import threading\n",
    "\n",
    "class MyThread(threading.Thread):\n",
    "    def run(self):\n",
    "        print(\"Thread is running\")\n",
    "\n",
    "# Create an instance of MyThread and start it\n",
    "thread = MyThread()\n",
    "thread.start()  # This will internally call thread.run()\n"
   ]
  },
  {
   "cell_type": "markdown",
   "id": "49bff3ee-7708-4114-b871-8df707eb4f47",
   "metadata": {},
   "source": [
    "2.start()-\n",
    "The start() method in Python threads does the following:\n",
    "\n",
    "- It starts the execution of the thread by calling the run() method internally.\n",
    "- Once start() is called, the thread transitions from the \"start\" state to the \"runnable\" state and begins executing the code in the run() method concurrently with other threads.\n",
    "- If start() is called more than once on the same thread object, it will raise a RuntimeError.\n",
    "example :"
   ]
  },
  {
   "cell_type": "code",
   "execution_count": 7,
   "id": "5c714299-3605-4402-88f1-8ecf53ddb369",
   "metadata": {},
   "outputs": [
    {
     "name": "stdout",
     "output_type": "stream",
     "text": [
      "Thread is running\n"
     ]
    }
   ],
   "source": [
    "import threading\n",
    "\n",
    "def my_function():\n",
    "    print(\"Thread is running\")\n",
    "\n",
    "# Create a Thread object with a target function\n",
    "thread = threading.Thread(target=my_function)\n",
    "thread.start()  # This starts the thread, which executes my_function concurrently\n"
   ]
  },
  {
   "cell_type": "markdown",
   "id": "ddfdf577-2629-4ac7-9f26-ac41c17e0143",
   "metadata": {},
   "source": [
    "3.join()\n",
    "The join() method is used to wait for the thread to complete its execution. Here's how it works:\n",
    "\n",
    "- When you call join() on a thread object, the calling thread (often the main thread) will wait and block further execution until the thread you called join() on has finished executing.\n",
    "- This is useful when you need to synchronize the behavior of multiple threads or need to ensure that certain operations occur only after a thread has completed.\n",
    "- You can optionally specify a timeout (in seconds) for join(). If the timeout is reached and the thread hasn't finished, join() will return and execution will proceed.\n",
    "example :"
   ]
  },
  {
   "cell_type": "code",
   "execution_count": 8,
   "id": "21ce4b11-2a85-4ed4-be11-1457c7e236ff",
   "metadata": {},
   "outputs": [
    {
     "name": "stdout",
     "output_type": "stream",
     "text": [
      "Thread finished\n",
      "Thread joined\n"
     ]
    }
   ],
   "source": [
    "import threading\n",
    "import time\n",
    "\n",
    "def my_function():\n",
    "    time.sleep(2)\n",
    "    print(\"Thread finished\")\n",
    "\n",
    "# Create a Thread object\n",
    "thread = threading.Thread(target=my_function)\n",
    "thread.start()\n",
    "\n",
    "# Main thread waits until thread terminates\n",
    "thread.join()\n",
    "print(\"Thread joined\")\n"
   ]
  },
  {
   "cell_type": "markdown",
   "id": "2df63dcf-856e-4b9a-9417-2e9b091d4224",
   "metadata": {},
   "source": [
    "4. isAlive()\n",
    "The isAlive() method checks whether a thread is currently executing or has finished. Here's how it works:\n",
    "\n",
    "If the thread is still running, isAlive() returns True.\n",
    "If the thread has finished executing (i.e., it has terminated), isAlive() returns False.\n",
    "It's useful for checking the status of a thread if you need to perform actions based on whether it's still running or not.\n",
    "example :"
   ]
  },
  {
   "cell_type": "code",
   "execution_count": null,
   "id": "ccc2abdc-9027-4676-b7a2-c5e773afcbbd",
   "metadata": {},
   "outputs": [],
   "source": [
    "import threading\n",
    "import time\n",
    "\n",
    "def my_function():\n",
    "    time.sleep(2)\n",
    "    print(\"Thread finished\")\n",
    "\n",
    "# Create a Thread object\n",
    "thread = threading.Thread(target=my_function)\n",
    "thread.start()\n",
    "\n",
    "# Check if the thread is still alive\n",
    "while thread.is_alive():\n",
    "    print(\"Thread is still running...\")\n",
    "    time.sleep(1)\n",
    "\n",
    "print(\"Thread has finished\")"
   ]
  },
  {
   "cell_type": "markdown",
   "id": "02119d7d-4450-43ac-977a-49db52788ae1",
   "metadata": {},
   "source": [
    "Q4.write a python program to create two threads. Thread one must print the list of squares and thread two must print the list of cubes."
   ]
  },
  {
   "cell_type": "code",
   "execution_count": 3,
   "id": "c39192c7-154c-4647-86bf-2d9a7cc43e78",
   "metadata": {},
   "outputs": [
    {
     "name": "stdout",
     "output_type": "stream",
     "text": [
      "Square of 1: 1\n",
      "Square of 2: 4\n",
      "Square of 3: 9\n",
      "Square of 4: 16\n",
      "Square of 5: 25\n",
      "Cube of 1: 1\n",
      "Cube of 2: 8\n",
      "Cube of 3: 27\n",
      "Cube of 4: 64\n",
      "Cube of 5: 125\n",
      "Both threads have finished execution.\n"
     ]
    }
   ],
   "source": [
    "import threading\n",
    "\n",
    "def print_squares(numbers):\n",
    "    for number in numbers:\n",
    "        print(f\"Square of {number}: {number ** 2}\")\n",
    "\n",
    "def print_cubes(numbers):\n",
    "    for number in numbers:\n",
    "        print(f\"Cube of {number}: {number ** 3}\")\n",
    "\n",
    "if __name__ == \"__main__\":\n",
    "    numbers = [1, 2, 3, 4, 5]\n",
    "\n",
    "    thread1 = threading.Thread(target=print_squares, args=(numbers,))\n",
    "    thread2 = threading.Thread(target=print_cubes, args=(numbers,))\n",
    "\n",
    "    thread1.start()\n",
    "    thread2.start()\n",
    "\n",
    "    thread1.join()\n",
    "    thread2.join()\n",
    "\n",
    "    print(\"Both threads have finished execution.\")\n"
   ]
  },
  {
   "cell_type": "markdown",
   "id": "8646653d-a860-4a62-8b94-e5e2e601c006",
   "metadata": {},
   "source": [
    "Q5.state advantages and disadvantages of multithreading."
   ]
  },
  {
   "cell_type": "markdown",
   "id": "58d167c9-d07e-4f02-ae0c-75b5a93fbe23",
   "metadata": {},
   "source": [
    "Multithreading is a technique that allows a program to execute multiple threads concurrently. Each thread runs independently, but they can share the same resources such as memory and file handles. Here are some key advantages and disadvantages of multithreading:\n",
    "\n",
    "Advantages of Multithreading\n",
    "1.Improved Performance and Responsiveness:\n",
    "\n",
    "Parallelism: Multithreading allows tasks to be executed simultaneously, making better use of CPU resources and potentially improving performance.\n",
    "Responsiveness: In applications with a graphical user interface (GUI), multithreading can keep the interface responsive while performing lengthy operations in the background.\n",
    "Resource Sharing:\n",
    "\n",
    "2.Memory Sharing: Threads within the same process share the same address space, making data sharing and communication between threads more efficient than between processes.\n",
    "Efficient Use of System Resources:\n",
    "\n",
    "3.Economical: Creating and managing threads requires less overhead compared to processes. Threads can be more efficient in terms of memory and CPU usage.\n",
    "Simplified Program Structure:\n",
    "\n",
    "4.Modularity: Multithreading can make it easier to structure programs into smaller, more manageable pieces. For example, separating different tasks (e.g., I/O operations, data processing) into different threads can make the code cleaner and more modular.\n",
    "Scalability:\n",
    "\n",
    "5.Utilizing Multi-core Processors: Multithreading can take full advantage of multi-core processors, distributing the workload across multiple cores to improve performance.\n",
    "\n",
    "Disadvantages of Multithreading\n",
    "\n",
    "1.Complexity in Development:\n",
    "\n",
    "Concurrency Issues: Multithreading introduces complexity such as race conditions, deadlocks, and other synchronization problems. Managing the interaction between threads correctly is challenging and error-prone.\n",
    "Debugging and Testing Difficulties:\n",
    "\n",
    "Non-deterministic Behavior: Bugs in multithreaded programs can be difficult to reproduce and diagnose because the timing and interaction between threads can vary from one execution to another.\n",
    "2.Overhead Costs:\n",
    "\n",
    "Context Switching: Frequent switching between threads can add overhead, reducing the overall performance gain. Each context switch requires saving and loading registers, memory maps, and other data.\n",
    "Synchronization Overhead: Ensuring thread safety often requires synchronization mechanisms like locks, which can slow down performance due to waiting times.\n",
    "3.Resource Contention:\n",
    "\n",
    "Shared Resource Conflicts: Threads sharing resources such as memory and I/O can lead to contention, where multiple threads compete for the same resource, potentially causing performance bottlenecks.\n",
    "4.Security and Stability Risks:\n",
    "\n",
    "Isolation: Unlike processes, threads do not have strong isolation boundaries. A bug in one thread can potentially corrupt the shared address space, affecting the entire application.\n",
    "\n",
    "\n",
    "Conclusion\n",
    "\n",
    "Multithreading can offer significant performance improvements and better resource utilization when used appropriately. However, it also introduces complexity and potential issues that require careful management. Understanding these advantages and disadvantages helps developers make informed decisions about when and how to use multithreading effectively in their applications."
   ]
  },
  {
   "cell_type": "markdown",
   "id": "ffa9c971-12b1-41bd-b870-7f1f338d774c",
   "metadata": {},
   "source": [
    "Q6.Explain deadlocks and race conditions ."
   ]
  },
  {
   "cell_type": "markdown",
   "id": "91d0498d-8ae2-4d8f-ade6-28bf2e51a7fb",
   "metadata": {},
   "source": [
    "Deadlocks\n",
    "A deadlock occurs when two or more threads or processes are blocked forever, waiting for each other to release resources. This usually happens in concurrent programming when multiple threads need the same set of resources and each thread holds a resource the other needs.\n",
    "\n",
    "Example\n",
    "Consider a scenario where two threads need to acquire two locks in different order. Here’s a simple example using threading.Lock in Python:"
   ]
  },
  {
   "cell_type": "code",
   "execution_count": null,
   "id": "2e97b24d-4c37-4c40-b186-e6397ab58b65",
   "metadata": {},
   "outputs": [],
   "source": [
    "import threading\n",
    "\n",
    "lock1 = threading.Lock()\n",
    "lock2 = threading.Lock()\n",
    "\n",
    "def thread1():\n",
    "    with lock1:\n",
    "        print(\"Thread 1 acquired lock1\")\n",
    "        with lock2:\n",
    "            print(\"Thread 1 acquired lock2\")\n",
    "\n",
    "def thread2():\n",
    "    with lock2:\n",
    "        print(\"Thread 2 acquired lock2\")\n",
    "        with lock1:\n",
    "            print(\"Thread 2 acquired lock1\")\n",
    "\n",
    "t1 = threading.Thread(target=thread1)\n",
    "t2 = threading.Thread(target=thread2)\n",
    "\n",
    "t1.start()\n",
    "t2.start()\n",
    "\n",
    "t1.join()\n",
    "t2.join()\n",
    "\n",
    "###In this example:\n",
    "##thread1 acquires lock1 and then tries to acquire lock2.\n",
    "##thread2 acquires lock2 and then tries to acquire lock1.\n",
    "##If thread1 holds lock1 and thread2 holds lock2, both threads will wait indefinitely for the other lock to be released, causing a deadlock"
   ]
  },
  {
   "cell_type": "markdown",
   "id": "d1445ed1-2a6e-47a6-81f4-87972263696e",
   "metadata": {},
   "source": [
    "Race Conditions\n",
    "\n",
    "A race condition occurs when two or more threads can access shared data and they try to change it at the same time. The outcome of the operations depends on the order in which the threads execute, which can lead to unpredictable results.\n",
    "\n",
    "Example\n",
    "Consider a scenario where two threads increment the same shared counter without proper synchronization."
   ]
  },
  {
   "cell_type": "code",
   "execution_count": null,
   "id": "ce47c8aa-6412-4697-881d-6f16e831cf7d",
   "metadata": {},
   "outputs": [],
   "source": [
    "import threading\n",
    "\n",
    "counter = 0\n",
    "lock = threading.Lock()\n",
    "\n",
    "def increment():\n",
    "    global counter\n",
    "    for _ in range(1000000):\n",
    "        with lock:\n",
    "            counter += 1\n",
    "\n",
    "thread1 = threading.Thread(target=increment)\n",
    "thread2 = threading.Thread(target=increment)\n",
    "\n",
    "thread1.start()\n",
    "thread2.start()\n",
    "\n",
    "thread1.join()\n",
    "thread2.join()\n",
    "\n",
    "print(\"Final counter value:\", counter)\n",
    "\n",
    "##In this example:\n",
    "\n",
    "##Both threads try to increment the counter variable.\n",
    "##Without the lock, the threads might read, increment, and write back the counter in an interleaved manner, leading to lost updates.\n",
    "##Using the lock, we ensure that only one thread can increment the counter at a time, thus avoiding the race condition"
   ]
  },
  {
   "cell_type": "markdown",
   "id": "4093b37d-5ced-46ec-92c2-af67b188f439",
   "metadata": {},
   "source": [
    "Summary\n",
    "Deadlocks: Occur when threads wait indefinitely for resources held by each other. Avoid by careful resource ordering, using timeouts, or non-blocking lock acquisition.\n",
    "\n",
    "Race Conditions: Happen when threads access and modify shared data concurrently, leading to unpredictable results. Avoid by using locks, atomic operations, and minimizing shared mutable state."
   ]
  },
  {
   "cell_type": "code",
   "execution_count": null,
   "id": "7d20de02-1f44-4193-8f70-feeac46d386b",
   "metadata": {},
   "outputs": [],
   "source": []
  }
 ],
 "metadata": {
  "kernelspec": {
   "display_name": "Python 3 (ipykernel)",
   "language": "python",
   "name": "python3"
  },
  "language_info": {
   "codemirror_mode": {
    "name": "ipython",
    "version": 3
   },
   "file_extension": ".py",
   "mimetype": "text/x-python",
   "name": "python",
   "nbconvert_exporter": "python",
   "pygments_lexer": "ipython3",
   "version": "3.10.8"
  }
 },
 "nbformat": 4,
 "nbformat_minor": 5
}
