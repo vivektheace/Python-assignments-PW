{
 "cells": [
  {
   "cell_type": "markdown",
   "id": "e950405f-a5fe-41ac-af90-705f6d73247b",
   "metadata": {},
   "source": [
    "Q1.Create a function which will take a list as an argument and return the product of all the numbers\n",
    "after creating a flat list.\n",
    "Use the below-given list as an argument for your function.\n",
    "list1 = [1,2,3,4, [44,55,66, True], False, (34,56,78,89,34), {1,2,3,3,2,1}, {1:34, \"key2\": [55, 67, 78, 89], 4: (45,\n",
    "22, 61, 34)}, [56, 'data science'], 'Machine Learning']\n",
    "Note: you must extract numeric keys and values of the dictionary also."
   ]
  },
  {
   "cell_type": "code",
   "execution_count": 5,
   "id": "dfce23a5-a6aa-46e0-8feb-5c1247d1cc25",
   "metadata": {},
   "outputs": [],
   "source": [
    "list1 = [1,2,3,4, [44,55,66, True], False, (34,56,78,89,34), {1,2,3,3,2,1}, {1:34, \"key2\": [55, 67, 78, 89], 4: (45,\n",
    "22, 61, 34)}, [56, 'data science'], 'Machine Learning']"
   ]
  },
  {
   "cell_type": "code",
   "execution_count": 10,
   "id": "57e8b89e-7108-4256-9513-dba821570597",
   "metadata": {},
   "outputs": [
    {
     "name": "stdout",
     "output_type": "stream",
     "text": [
      "product of all the numbers in the flat list: 0\n"
     ]
    }
   ],
   "source": [
    "def product_of_numbers(input_list) :\n",
    "    flat_list = []\n",
    "    \n",
    "    def flatten(lst):\n",
    "        for item in lst :\n",
    "            if isinstance(item , (list, tuple, set)):\n",
    "                flatten(item)\n",
    "            elif isinstance(item, dict) :\n",
    "                flatten(item.keys())\n",
    "                flatten(item.values())\n",
    "            elif isinstance(item ,(int, float)):\n",
    "                flat_list.append(item)\n",
    "    \n",
    "    flatten(input_list)\n",
    "    \n",
    "    result = 1\n",
    "    for num in flat_list:\n",
    "        result *= num\n",
    "    return result\n",
    "\n",
    "result = product_of_numbers(list1)\n",
    "print(\"product of all the numbers in the flat list:\" , result)                "
   ]
  },
  {
   "cell_type": "markdown",
   "id": "ddcaf93d-08b0-41f0-a7cb-23b4f4b2c19f",
   "metadata": {},
   "source": [
    "Q2.Write a python program for encrypting a message sent to you by your friend. The logic of encryption should be such that, for a, the output should be z. For b, the output should be y. For c, the output should be x respectively. Also, the whitespace should be replaced with a dollar sign. Keep the punctuation marks unchanged.\n",
    "\n",
    "Input Sentence: I want to become a Data Scientist.\n",
    "\n",
    "Encrypt the above input sentence using the program you just created.\n",
    "\n",
    "Note: Convert the given input sentence into lowercase before encrypting. The final output should be lowercase."
   ]
  },
  {
   "cell_type": "code",
   "execution_count": 5,
   "id": "5bbfa60e-39e9-4d6a-8231-b0140a46aa43",
   "metadata": {},
   "outputs": [
    {
     "name": "stdout",
     "output_type": "stream",
     "text": [
      "Input Sentence: I want to become a Data Scientist.\n",
      "Encrypted Message: r$dzmg$gl$yvxlnv$z$wzgz$hxrvmgrhg.\n"
     ]
    }
   ],
   "source": [
    "def encrypt_message(message):\n",
    "    encrypted_text = \"\"\n",
    "    for char in message :\n",
    "        if char.isalpha():\n",
    "            if char.islower():\n",
    "                encrypted_text += chr(ord('z') - (ord(char) - ord('a')))\n",
    "            else :\n",
    "                encrypted_text += chr(ord('Z') - (ord(char) - ord('A')))\n",
    "        elif char.isspace() :\n",
    "            encrypted_text += '$'\n",
    "        else:\n",
    "            encrypted_text += char\n",
    "    return encrypted_text\n",
    "\n",
    "input_sentence = \"I want to become a Data Scientist.\"\n",
    "input_sentence_lower = input_sentence.lower()\n",
    "\n",
    "encrypted_message = encrypt_message(input_sentence_lower)\n",
    "print(\"Input Sentence:\", input_sentence)\n",
    "print(\"Encrypted Message:\", encrypted_message)"
   ]
  },
  {
   "cell_type": "code",
   "execution_count": null,
   "id": "fd68e50a-a4f8-4b3e-add5-19d97dc8c251",
   "metadata": {},
   "outputs": [],
   "source": []
  }
 ],
 "metadata": {
  "kernelspec": {
   "display_name": "Python 3 (ipykernel)",
   "language": "python",
   "name": "python3"
  },
  "language_info": {
   "codemirror_mode": {
    "name": "ipython",
    "version": 3
   },
   "file_extension": ".py",
   "mimetype": "text/x-python",
   "name": "python",
   "nbconvert_exporter": "python",
   "pygments_lexer": "ipython3",
   "version": "3.10.8"
  }
 },
 "nbformat": 4,
 "nbformat_minor": 5
}
