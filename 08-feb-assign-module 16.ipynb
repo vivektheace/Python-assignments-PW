{
 "cells": [
  {
   "cell_type": "markdown",
   "id": "04164b98-9391-401b-a7eb-73939eba7fa3",
   "metadata": {},
   "source": [
    "Q1. What is Abstraction in OOps? Explain with an example."
   ]
  },
  {
   "cell_type": "markdown",
   "id": "c4084497-e722-4d80-b3a3-8c0b651626b6",
   "metadata": {},
   "source": [
    "Abstraction is one of the four fundamental principles of Object-Oriented Programming (OOP), along with Encapsulation, Inheritance, and Polymorphism. Abstraction involves hiding the complex implementation details and showing only the essential features of an object.\n",
    "In Python, abstraction can be achieved through abstract classes and abstract methods."
   ]
  },
  {
   "cell_type": "code",
   "execution_count": 4,
   "id": "df0e4b8c-a682-429c-8406-df1f18b71999",
   "metadata": {},
   "outputs": [
    {
     "name": "stdout",
     "output_type": "stream",
     "text": [
      "Circle with radius 5\n",
      "Area: 78.5\n",
      "\n",
      "Rectangle with length4 and width 5\n",
      "Area: 20\n",
      "\n"
     ]
    }
   ],
   "source": [
    "from abc import ABC, abstractmethod\n",
    "\n",
    "class Shape(ABC):\n",
    "    def calculate_area(self):\n",
    "        pass\n",
    "    \n",
    "    def display(self):\n",
    "        pass\n",
    "    \n",
    "class Circle(Shape):\n",
    "    def __init__(self, radius):\n",
    "        self.radius = radius\n",
    "    \n",
    "    def calculate_area(self):\n",
    "        return 3.14* self.radius * self.radius\n",
    "    \n",
    "    def display(self):\n",
    "        print(f\"Circle with radius {self.radius}\")\n",
    "        \n",
    "        \n",
    "class Rectangle(Shape):\n",
    "    def __init__(self, length, width):\n",
    "        self.length = length\n",
    "        self.width = width\n",
    "        \n",
    "    def calculate_area(self):\n",
    "        return self.length * self.width\n",
    "    \n",
    "    def display(self):\n",
    "        print(f\"Rectangle with length{self.length} and width {self.width}\")\n",
    "        \n",
    "        \n",
    "# creating objects\n",
    "circle = Circle(5)\n",
    "rectangle = Rectangle(4,5)\n",
    "\n",
    "# Using abstraction\n",
    "shapes = [circle, rectangle]\n",
    "\n",
    "for shape in shapes:\n",
    "    shape.display()\n",
    "    print(f\"Area: {shape.calculate_area()}\")\n",
    "    print()\n",
    "    \n",
    "#This demonstrates the use of abstraction, where the abstract class (Shape) defines a common interface (abstract methods), and concrete subclasses provide their own implementations."
   ]
  },
  {
   "cell_type": "markdown",
   "id": "ea49f3b7-5022-4b89-abc0-f75e7f88a62d",
   "metadata": {},
   "source": [
    "Q2. Differentiate between Abstraction and Encapsulation. Explain with an example."
   ]
  },
  {
   "cell_type": "markdown",
   "id": "12b65305-12f2-4956-b5dc-fbe42debf9b7",
   "metadata": {},
   "source": [
    "Abstraction:\n",
    "Abstraction is the process of simplifying complex systems by modeling classes based on the essential properties and behaviors, while ignoring unnecessary details. It involves hiding the implementation details and showing only the necessary features of an object. Abstraction allows you to focus on what an object does rather than how it achieves its functionality.\n",
    "\n",
    "Think of abstraction as a way to focus on essential features while ignoring the irrelevant details. It allows you to create a conceptual model that captures the essential characteristics of an object or system without getting bogged down in unnecessary complexities.\n",
    "Example: In a car, you might abstract the concept of \"engine\" to represent its essential functions without worrying about the intricate internal components."
   ]
  },
  {
   "cell_type": "code",
   "execution_count": 5,
   "id": "b2116e41-40ba-4248-9d84-4a7b67fdf269",
   "metadata": {},
   "outputs": [],
   "source": [
    "from abc import ABC, abstractmethod\n",
    "\n",
    "class Shape(ABC):\n",
    "    @abstractmethod\n",
    "    def calculate_area(self):\n",
    "        pass\n",
    "\n",
    "class Circle(Shape):\n",
    "    def __init__(self, radius):\n",
    "        self.radius = radius\n",
    "    \n",
    "    def calculate_area(self):\n",
    "        return 3.14 * self.radius * self.radius\n",
    "\n",
    "class Square(Shape):\n",
    "    def __init__(self, side):\n",
    "        self.side = side\n",
    "    \n",
    "    def calculate_area(self):\n",
    "        return self.side * self.side"
   ]
  },
  {
   "cell_type": "markdown",
   "id": "fb9413ae-70bf-4205-a68b-f426c8b22720",
   "metadata": {
    "tags": []
   },
   "source": [
    "In this example, Shape is an abstract class that defines a method calculate_area. The abstract class provides a common interface for different shapes without specifying how each shape calculates its area. The Circle and Square classes are concrete implementations that inherit from the abstract class and provide their own specific implementations of the calculate_area method"
   ]
  },
  {
   "cell_type": "markdown",
   "id": "21262ee5-eaec-4419-8755-b8f708ee1fc2",
   "metadata": {},
   "source": [
    "Encapsulation:\n",
    "Encapsulation is like putting your code in a box and giving it a lock. The box, in this case, is a class, and the lock is the access control (public, private, or protected) you put on its contents i.e encapsulation is the bundling of data and methods that operate on the data into a single unit, known as a class.\n",
    "Encapsulation is like placing an object in a protective capsule, where its internal workings are shielded from external interference. It helps in creating a modular and self-contained unit that can be manipulated and understood independently of the rest of the program.\n",
    "Example: A class representing a bank account encapsulates data such as account balance and methods like deposit and withdraw. The internal details of how these operations are implemented are hidden from external classes."
   ]
  },
  {
   "cell_type": "code",
   "execution_count": 1,
   "id": "766129ca-b95c-4704-b73d-29af9e40988d",
   "metadata": {},
   "outputs": [
    {
     "name": "stdout",
     "output_type": "stream",
     "text": [
      "Name: Alice\n",
      "Age: 20\n",
      "New Age: 25\n"
     ]
    }
   ],
   "source": [
    "class Student:\n",
    "    def __init__(self, name, age):\n",
    "        self.__name = name  # Private attribute\n",
    "        self.__age = age    # Private attribute\n",
    "\n",
    "    def get_name(self):\n",
    "        return self.__name  # private attrihute\n",
    "\n",
    "    def get_age(self):\n",
    "        return self.__age   # private attribute\n",
    "\n",
    "    def set_age(self, new_age):\n",
    "        if 0 < new_age < 150:\n",
    "            self.__age = new_age  # private attribute\n",
    "        else:\n",
    "            print(\"Invalid age\")\n",
    "\n",
    "# Create a student object\n",
    "student1 = Student(\"Alice\", 20)\n",
    "\n",
    "# Accessing attributes through methods\n",
    "print(\"Name:\", student1.get_name())\n",
    "print(\"Age:\", student1.get_age())\n",
    "\n",
    "# Trying to modify age directly (will not work due to encapsulation)\n",
    "# student1.__age = 25  # This line would raise an error\n",
    "\n",
    "# Modifying age using the set_age method\n",
    "student1.set_age(25)\n",
    "print(\"New Age:\", student1.get_age())\n"
   ]
  },
  {
   "cell_type": "markdown",
   "id": "c6b05d3d-5d3e-4613-9d7f-919c4f51bd95",
   "metadata": {},
   "source": [
    "Q3.What is abc module in python? Why is it used ?"
   ]
  },
  {
   "cell_type": "markdown",
   "id": "dbdb0f7b-6280-4c96-908f-3f716763ea6d",
   "metadata": {},
   "source": [
    "The abc module in Python stands for \"Abstract Base Classes.\" It provides a way to work with abstract classes and abstract methods in Python. Abstract classes are classes that cannot be instantiated on their own and are meant to be subclassed by other classes. Abstract methods are methods declared in an abstract class that must be implemented by any concrete (i.e., non-abstract) subclass.\n",
    "\n",
    "The abc module allows you to define abstract base classes using the ABC (Abstract Base Class) metaclass and the @abstractmethod decorator. By using abstract classes and methods, you can define a common interface that subclasses must adhere to. This helps in enforcing a consistent structure among different classes in your code, making it more maintainable and understandable."
   ]
  },
  {
   "cell_type": "code",
   "execution_count": 6,
   "id": "8f204471-0f30-4b7a-bbe6-2221490a5952",
   "metadata": {},
   "outputs": [
    {
     "name": "stdout",
     "output_type": "stream",
     "text": [
      "78.5\n",
      "16\n"
     ]
    }
   ],
   "source": [
    "# Example\n",
    "\n",
    "from abc import ABC, abstractmethod\n",
    "\n",
    "class Shape(ABC):\n",
    "    @abstractmethod\n",
    "    def area(self):\n",
    "        pass\n",
    "\n",
    "class Circle(Shape):\n",
    "    def __init__(self, radius):\n",
    "        self.radius = radius\n",
    "\n",
    "    def area(self):\n",
    "        return 3.14 * self.radius**2\n",
    "\n",
    "class Square(Shape):\n",
    "    def __init__(self, side):\n",
    "        self.side = side\n",
    "\n",
    "    def area(self):\n",
    "        return self.side**2\n",
    "\n",
    "# Attempting to create an instance of the abstract class will raise an error\n",
    "# shape = Shape()  # This line will raise TypeError\n",
    "\n",
    "circle = Circle(5)\n",
    "square = Square(4)\n",
    "\n",
    "print(circle.area())\n",
    "print(square.area())\n"
   ]
  },
  {
   "cell_type": "markdown",
   "id": "af95b275-e2f3-444f-a9d6-ebaedd4f0988",
   "metadata": {},
   "source": [
    "Q4. How can we achieve data abstraction?"
   ]
  },
  {
   "cell_type": "markdown",
   "id": "c6e325ae-a78b-42f4-805b-1beb177eee83",
   "metadata": {},
   "source": [
    "Data abstraction in Python refers to the concept of hiding the implementation details of a class and exposing only the essential features to the outside world. This helps in managing complexity and allows you to focus on what a class does rather than how it does it. Here are some ways to achieve data abstraction in Python:"
   ]
  },
  {
   "cell_type": "markdown",
   "id": "c4737f35-5f0c-4f77-9bca-dcb35d7cb951",
   "metadata": {},
   "source": [
    "#1.Use of Classes and Encapsulation:\n",
    ">Encapsulation is the bundling of data (attributes) and methods (functions) that operate on the data into a single unit, known as a class.\n",
    ">You can use access modifiers (e.g., private, protected) to control the visibility of attributes and methods outside the class.\n",
    ">Here's an example:"
   ]
  },
  {
   "cell_type": "code",
   "execution_count": 7,
   "id": "645f6a85-8a11-44ac-8f6f-454945b0f374",
   "metadata": {},
   "outputs": [
    {
     "name": "stdout",
     "output_type": "stream",
     "text": [
      "42\n"
     ]
    }
   ],
   "source": [
    "class AbstractionExample:\n",
    "    def __init__(self):\n",
    "        self._data = None  # protected attribute\n",
    "\n",
    "    def set_data(self, data):\n",
    "        # perform validation or other operations\n",
    "        self._data = data\n",
    "\n",
    "    def get_data(self):\n",
    "        return self._data\n",
    "\n",
    "# Usage\n",
    "obj = AbstractionExample()\n",
    "obj.set_data(42)\n",
    "print(obj.get_data())\n"
   ]
  },
  {
   "cell_type": "markdown",
   "id": "1567275f-ee29-41c1-b6ae-e2679bebe1ee",
   "metadata": {},
   "source": [
    "2.Abstract Base Classes (ABCs):\n",
    "\n",
    ">Python's abc module provides a way to define abstract base classes, which can have abstract methods that must be implemented by the concrete subclasses.\n",
    ">Abstract classes cannot be instantiated directly; they are meant to be subclassed.\n",
    "> example:"
   ]
  },
  {
   "cell_type": "code",
   "execution_count": 8,
   "id": "7ac62951-05fa-4ee7-b9c7-493a72dd7b36",
   "metadata": {},
   "outputs": [
    {
     "name": "stdout",
     "output_type": "stream",
     "text": [
      "Implementation of abstract method\n"
     ]
    }
   ],
   "source": [
    "from abc import ABC, abstractmethod\n",
    "\n",
    "class AbstractClassExample(ABC):\n",
    "    @abstractmethod\n",
    "    def abstract_method(self):\n",
    "        pass\n",
    "\n",
    "class ConcreteClassExample(AbstractClassExample):\n",
    "    def abstract_method(self):\n",
    "        print(\"Implementation of abstract method\")\n",
    "\n",
    "# Usage\n",
    "obj = ConcreteClassExample()\n",
    "obj.abstract_method()\n"
   ]
  },
  {
   "cell_type": "markdown",
   "id": "1c2ab6aa-67dd-4490-a2c0-73fc2a5a3d34",
   "metadata": {},
   "source": [
    "Q5. Can we create an instance of an abstract class? Explain your answer."
   ]
  },
  {
   "cell_type": "markdown",
   "id": "27640096-5c2c-455a-9620-db3f4d2fad08",
   "metadata": {},
   "source": [
    "In Python, you cannot create an instance of an abstract class directly. Abstract classes are meant to be used as base classes for other classes, and they typically include one or more abstract methods, which are declared but not implemented in the abstract class. Abstract classes are created using the ABC (Abstract Base Class) module in Python\n",
    "\n",
    "If you try to instantiate an abstract class directly, you will get a TypeError.\n",
    "\n",
    "Here's an example:"
   ]
  },
  {
   "cell_type": "code",
   "execution_count": 11,
   "id": "fc52fc21-f5d9-49a7-a499-3050fec3bff7",
   "metadata": {},
   "outputs": [
    {
     "name": "stdout",
     "output_type": "stream",
     "text": [
      "TypeError: Can't instantiate abstract class AbstractClass with abstract method abstract_method\n"
     ]
    }
   ],
   "source": [
    "from abc import ABC, abstractmethod\n",
    "\n",
    "class AbstractClass(ABC):\n",
    "    @abstractmethod\n",
    "    def abstract_method(self):\n",
    "        pass\n",
    "\n",
    "# Attempting to create an instance of the abstract class\n",
    "try:\n",
    "    instance = AbstractClass()\n",
    "except TypeError as e:\n",
    "    print(f\"TypeError: {e}\")\n"
   ]
  },
  {
   "cell_type": "code",
   "execution_count": null,
   "id": "9d113548-401e-4689-8bee-bdf67c3d2b74",
   "metadata": {},
   "outputs": [],
   "source": []
  }
 ],
 "metadata": {
  "kernelspec": {
   "display_name": "Python 3 (ipykernel)",
   "language": "python",
   "name": "python3"
  },
  "language_info": {
   "codemirror_mode": {
    "name": "ipython",
    "version": 3
   },
   "file_extension": ".py",
   "mimetype": "text/x-python",
   "name": "python",
   "nbconvert_exporter": "python",
   "pygments_lexer": "ipython3",
   "version": "3.10.8"
  }
 },
 "nbformat": 4,
 "nbformat_minor": 5
}
