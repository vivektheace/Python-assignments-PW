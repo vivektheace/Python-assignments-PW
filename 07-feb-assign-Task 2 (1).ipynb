{
 "cells": [
  {
   "cell_type": "markdown",
   "id": "abf2d663-1bd0-4e6e-9ec0-205ed6366675",
   "metadata": {},
   "source": [
    "Q1. you are writing a code for a company.te requirement of the company is that you create a python function that will check whether the password entered by the user is correct or not.The function should take the password a input and return the string \"Valid password\" if the entered password follows the below given password guidelines else it should return \"invalid password\".\n",
    "\n",
    "Note:1.The password should contain atleast two uppercase letters and atleasst two lowercase letters.\n",
    "2.The password should contain atleast a number and three special characters.\n",
    "3.The length of the password should be ten characters long."
   ]
  },
  {
   "cell_type": "code",
   "execution_count": 2,
   "id": "934a3ed2-b216-4ee5-9adc-1ac3c42e6718",
   "metadata": {},
   "outputs": [
    {
     "name": "stdin",
     "output_type": "stream",
     "text": [
      "Enter your password:    VIve@123$%\n"
     ]
    },
    {
     "name": "stdout",
     "output_type": "stream",
     "text": [
      "Valid password\n"
     ]
    }
   ],
   "source": [
    "import re\n",
    "\n",
    "def check_password(password):\n",
    "    if len(password) != 10:\n",
    "        return \"Invalid password\"\n",
    "    \n",
    "    if sum(1 for char in password if char.isupper()) < 2:\n",
    "        return \"Invalid password\"\n",
    "    \n",
    "    if sum(1 for char in password if char.islower()) < 2:\n",
    "        return \"Invalid password\"\n",
    "    \n",
    "    if not any(char.isdigit() for char in password):\n",
    "        return \"Invalid password\"\n",
    "    \n",
    "    special_characters_count = len(re.findall(r'[!@#$%^&*(),.?\":{}|<>]',password))\n",
    "    if special_characters_count < 3:\n",
    "        return \"Invalid password\"\n",
    "    \n",
    "    return \"Valid password\"\n",
    "\n",
    "\n",
    "user_password = input(\"Enter your password:   \")\n",
    "result = check_password(user_password)\n",
    "print(result)\n",
    "    \n",
    "    "
   ]
  },
  {
   "cell_type": "markdown",
   "id": "86b601bc-3418-4044-a48b-dcae3121d2f6",
   "metadata": {},
   "source": [
    "Q2.1 check if the string starts with a particular letter"
   ]
  },
  {
   "cell_type": "code",
   "execution_count": 1,
   "id": "658fa8e3-d889-4761-9062-8f6593b4366f",
   "metadata": {},
   "outputs": [
    {
     "name": "stdout",
     "output_type": "stream",
     "text": [
      "Filtered using lambda function and filter: ['Apple', 'Apricot']\n"
     ]
    }
   ],
   "source": [
    "strings_list = ['Apple', 'Banana', 'Cherry', 'Apricot', 'Orange']\n",
    "\n",
    "# using lambda and filter \n",
    "\n",
    "filtered_strings_lambda = list(filter(lambda s: s.startswith('A'), strings_list))\n",
    "print(\"Filtered using lambda function and filter:\", filtered_strings_lambda)"
   ]
  },
  {
   "cell_type": "markdown",
   "id": "12f84545-20d8-4076-a6a7-f7930728f40e",
   "metadata": {},
   "source": [
    "Q2.2 check if the string is numeric "
   ]
  },
  {
   "cell_type": "code",
   "execution_count": 1,
   "id": "801c9e42-c0ac-4287-aa08-0da6b451dddd",
   "metadata": {},
   "outputs": [
    {
     "name": "stdout",
     "output_type": "stream",
     "text": [
      "True\n",
      "False\n"
     ]
    }
   ],
   "source": [
    "is_numeric = lambda s: s.isnumeric()\n",
    "\n",
    "result = is_numeric(\"123\")\n",
    "print(result)\n",
    "\n",
    "result = is_numeric(\"abc\")\n",
    "print(result)"
   ]
  },
  {
   "cell_type": "markdown",
   "id": "0dfde1cb-57fd-4a9d-8f2b-921ff27ddd41",
   "metadata": {},
   "source": [
    "Q2.3 sort a list of tuples having fruit names and their quantity        [(\"mango\",99),(\"orange\",80),(\"grapes\",1000)]"
   ]
  },
  {
   "cell_type": "code",
   "execution_count": 4,
   "id": "ca56525a-2cb4-4be5-ae44-3d2f9b561fd7",
   "metadata": {},
   "outputs": [
    {
     "name": "stdout",
     "output_type": "stream",
     "text": [
      "[('orange', 80), ('mango', 99), ('grapes', 1000)]\n"
     ]
    }
   ],
   "source": [
    "fruit_quantity = [(\"mango\", 99), (\"orange\", 80), (\"grapes\", 1000)]\n",
    "                  \n",
    "sorted_fruit_quantity = sorted(fruit_quantity, key=lambda x: x[1])\n",
    "\n",
    "print(sorted_fruit_quantity)\n"
   ]
  },
  {
   "cell_type": "markdown",
   "id": "afaf0893-010e-48ed-a3e5-25f47e5a319c",
   "metadata": {},
   "source": [
    "Q2.4 find the squares of numbers from 1 to 10"
   ]
  },
  {
   "cell_type": "code",
   "execution_count": 5,
   "id": "f58f96e8-0f26-47ec-b00c-c35d53d22ec1",
   "metadata": {},
   "outputs": [
    {
     "name": "stdout",
     "output_type": "stream",
     "text": [
      "Numbers: [1, 2, 3, 4, 5, 6, 7, 8, 9, 10]\n",
      "Squares: [1, 4, 9, 16, 25, 36, 49, 64, 81, 100]\n"
     ]
    }
   ],
   "source": [
    "numbers = range(1, 11)\n",
    "squares = list(map(lambda x: x**2, numbers))\n",
    "\n",
    "print(\"Numbers:\", list(numbers))\n",
    "print(\"Squares:\", squares)"
   ]
  },
  {
   "cell_type": "markdown",
   "id": "ed6c9c59-87c5-4d4d-b12a-c7e26f4c0e5b",
   "metadata": {},
   "source": [
    "Q2.5 find the cube root of numbers from 1 to 10"
   ]
  },
  {
   "cell_type": "code",
   "execution_count": 7,
   "id": "e6b5768b-f6c3-44d1-96a3-92c087f93834",
   "metadata": {},
   "outputs": [
    {
     "name": "stdout",
     "output_type": "stream",
     "text": [
      "Numbers: [1, 2, 3, 4, 5, 6, 7, 8, 9, 10]\n",
      "cube_roots: [1, 8, 27, 64, 125, 216, 343, 512, 729, 1000]\n"
     ]
    }
   ],
   "source": [
    "numbers = range(1 ,11)\n",
    "cube_roots = list(map(lambda x: x**3, numbers))\n",
    "\n",
    "print(\"Numbers:\", list(numbers))\n",
    "print(\"cube_roots:\", cube_roots)"
   ]
  },
  {
   "cell_type": "markdown",
   "id": "87b42b3a-0aca-42b4-8e30-16c38fb805fd",
   "metadata": {},
   "source": [
    "Q2.6 check if a  given number is even "
   ]
  },
  {
   "cell_type": "code",
   "execution_count": 14,
   "id": "dd7c1a75-b4bc-4a2f-a725-8c629b4a116e",
   "metadata": {},
   "outputs": [
    {
     "name": "stdout",
     "output_type": "stream",
     "text": [
      "57 is odd.\n"
     ]
    }
   ],
   "source": [
    "is_even = lambda x: x%2 == 0\n",
    "\n",
    "number = 57\n",
    "if is_even(number):\n",
    "    print(f\"{number} is even.\")\n",
    "    \n",
    "else:\n",
    "    print(f\"{number} is odd.\")"
   ]
  },
  {
   "cell_type": "markdown",
   "id": "de08b252-ce99-406a-8790-9366986cc818",
   "metadata": {},
   "source": [
    "Q2.7 filter odd numbers from the given list \n",
    "     [1,2,3,4,5,6,7,8,9,10]"
   ]
  },
  {
   "cell_type": "code",
   "execution_count": 17,
   "id": "3b8bb668-a297-4e3a-9944-c82a6d913acf",
   "metadata": {},
   "outputs": [
    {
     "name": "stdout",
     "output_type": "stream",
     "text": [
      "[1, 3, 5, 7, 9]\n"
     ]
    }
   ],
   "source": [
    "numbers = [1,2,3,4,5,6,7,8,9,10]\n",
    "\n",
    "is_odd = list(filter(lambda x: x%2 != 0 , numbers))\n",
    "print(list(is_odd))"
   ]
  },
  {
   "cell_type": "markdown",
   "id": "c90d4245-9293-46ea-8984-ecec6012eca9",
   "metadata": {},
   "source": [
    "Q2.8 sort a list of integers into positive and negative integer lists. [1,2,3,4,5,6,-1,-2,-3,-4,-5,0] "
   ]
  },
  {
   "cell_type": "code",
   "execution_count": 18,
   "id": "45329684-b090-49ae-9fd2-78317cd463d8",
   "metadata": {},
   "outputs": [
    {
     "name": "stdout",
     "output_type": "stream",
     "text": [
      "Positive Numbers: [1, 2, 3, 4, 5, 6]\n",
      "Negative Numbers: [-1, -2, -3, -4, -5]\n"
     ]
    }
   ],
   "source": [
    "list = [1,2,3,4,5,6,-1,-2,-3,-4,-5,0]\n",
    "positive_numbers = [num for num in list if num > 0]\n",
    "negative_numbers = [num for num in list if num < 0]\n",
    "\n",
    "print(\"Positive Numbers:\", positive_numbers)\n",
    "print(\"Negative Numbers:\", negative_numbers)"
   ]
  },
  {
   "cell_type": "code",
   "execution_count": null,
   "id": "b96be2f0-92e4-4322-a168-283262b208a4",
   "metadata": {},
   "outputs": [],
   "source": []
  }
 ],
 "metadata": {
  "kernelspec": {
   "display_name": "Python 3 (ipykernel)",
   "language": "python",
   "name": "python3"
  },
  "language_info": {
   "codemirror_mode": {
    "name": "ipython",
    "version": 3
   },
   "file_extension": ".py",
   "mimetype": "text/x-python",
   "name": "python",
   "nbconvert_exporter": "python",
   "pygments_lexer": "ipython3",
   "version": "3.10.8"
  }
 },
 "nbformat": 4,
 "nbformat_minor": 5
}
